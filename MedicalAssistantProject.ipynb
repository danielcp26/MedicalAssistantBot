{
  "cells": [
    {
      "cell_type": "markdown",
      "source": [
        "# **Project 2**"
      ],
      "metadata": {
        "nteract": {
          "transient": {
            "deleting": false
          }
        }
      }
    },
    {
      "cell_type": "markdown",
      "source": [
        "## **Business Use Case**"
      ],
      "metadata": {}
    },
    {
      "cell_type": "markdown",
      "source": [
        "### **Problem Statement:**"
      ],
      "metadata": {}
    },
    {
      "cell_type": "markdown",
      "source": [
        "In the fast-paced environment of healthcare centers, healthcare professionals often face the challenge of quick and accurate diagnosis of patients while managing an ever-increasing volume of medical information. Ensuring that healthcare providers have access to the latest and most comprehensive medical knowledge is crucial for improving patient outcomes and reducing the time needed to make informed decisions.\n",
        "\n",
        "There are multiple challenges that these professionals encounter daily, a few being\n",
        "\n",
        "- Information Overload: Medical professionals need to go through vast amounts of data and research to make accurate diagnoses and treatment plans. This can be overwhelming and time-consuming.\n",
        "- Efficiency: For overall patient care and quality health outcomes, quick and accurate diagnosis is vital, especially in emergency situations.\n",
        "- Access to Trusted Knowledge: In the ever-evolving healthcare industry, providing access to reliable and up-to-date medical information from renowned manuals and research papers is essential for maintaining high standards of care.\n"
      ],
      "metadata": {}
    },
    {
      "cell_type": "markdown",
      "source": [
        "### **Objective:**"
      ],
      "metadata": {}
    },
    {
      "cell_type": "markdown",
      "source": [
        "A renowned chain of hospitals has decided to leverage AI to build a state-of-the-art solution to help healthcare professionals overcome the aforementioned challenges. They have recruited you as an AI specialist and tasked you with building a RAG-based AI solution that leverages renowned medical manuals as its knowledge base. This AI system will act as a POC towards an end product that’ll assist healthcare professionals in making better, quicker, and more accurate diagnoses, ultimately leading to faster patient resolutions and enabling better patient outcomes by reducing errors in diagnosis, saving valuable time for information retrieval, and standardizing care practices across the board."
      ],
      "metadata": {}
    },
    {
      "cell_type": "markdown",
      "source": [
        "### **Questions:**"
      ],
      "metadata": {}
    },
    {
      "cell_type": "markdown",
      "source": [
        "**1. Diagnostic Assistance**: \"What are the common symptoms and treatments for pulmonary embolism?\"\n",
        "\n",
        "**2. Drug Information**: \"Can you provide the trade names of medications used for treating hypertension?\"\n",
        "\n",
        "**3. Treatment Plans**: \"What are the first-line options and alternatives for managing rheumatoid arthritis?\"\n",
        "\n",
        "**4. Specialty Knowledge**: \"What are the diagnostic steps for suspected endocrine disorders?\"\n",
        "\n",
        "**5. Critical Care Protocols**: \"What is the protocol for managing sepsis in a critical care unit?\""
      ],
      "metadata": {}
    },
    {
      "cell_type": "markdown",
      "source": [
        "### **How This Application Empowers Professionals and Elevates Healthcare Organizations**"
      ],
      "metadata": {}
    },
    {
      "cell_type": "markdown",
      "source": [
        "- **Enhanced Diagnostic Accuracy:**\n",
        "Provides evidence-based insights for better diagnosis and treatment.\n",
        "\n",
        "- **Time Efficiency:**\n",
        "Instantly retrieves critical information, saving valuable time.\n",
        "\n",
        "- **Improved Patient Care:**\n",
        "Ensures informed decisions with up-to-date medical knowledge.\n",
        "\n",
        "- **Cost-Effective Operations:**\n",
        "Reduces redundant tests and consultation delays, lowering costs.\n",
        "\n",
        "- **Knowledge Empowerment:**\n",
        "Keeps doctors updated on the latest advancements.\n",
        "\n",
        "- **Competitive Edge for the Hospital:**\n",
        "Positions the hospital as a leader in healthcare innovation.\n",
        "\n",
        "This collaboration between St. Bernard’s Medical Center and InnoviTech Solutions highlights the transformative potential of AI in revolutionizing healthcare."
      ],
      "metadata": {}
    },
    {
      "cell_type": "markdown",
      "source": [
        "## **1. Install and Import Required Libraries**"
      ],
      "metadata": {}
    },
    {
      "cell_type": "code",
      "source": [
        "# Install the Azure Machine Learning SDK and FAISS-related utilities\n",
        "%pip install azure-ai-ml\n",
        "%pip install -U 'azureml-rag[faiss,hugging_face]>=0.2.36'"
      ],
      "outputs": [
        {
          "output_type": "stream",
          "name": "stdout",
          "text": "Collecting azure-ai-ml\n  Downloading azure_ai_ml-1.28.1-py3-none-any.whl.metadata (39 kB)\nRequirement already satisfied: pyyaml<7.0.0,>=5.1.0 in /anaconda/envs/jupyter_env/lib/python3.10/site-packages (from azure-ai-ml) (6.0.2)\nRequirement already satisfied: msrest<1.0.0,>=0.6.18 in /anaconda/envs/jupyter_env/lib/python3.10/site-packages (from azure-ai-ml) (0.7.1)\nRequirement already satisfied: azure-core>=1.23.0 in /anaconda/envs/jupyter_env/lib/python3.10/site-packages (from azure-ai-ml) (1.35.0)\nRequirement already satisfied: azure-mgmt-core>=1.3.0 in /anaconda/envs/jupyter_env/lib/python3.10/site-packages (from azure-ai-ml) (1.6.0)\nCollecting marshmallow<4.0.0,>=3.5 (from azure-ai-ml)\n  Downloading marshmallow-3.26.1-py3-none-any.whl.metadata (7.3 kB)\nRequirement already satisfied: jsonschema<5.0.0,>=4.0.0 in /anaconda/envs/jupyter_env/lib/python3.10/site-packages (from azure-ai-ml) (4.24.0)\nCollecting tqdm<5.0.0 (from azure-ai-ml)\n  Downloading tqdm-4.67.1-py3-none-any.whl.metadata (57 kB)\nCollecting strictyaml<2.0.0 (from azure-ai-ml)\n  Downloading strictyaml-1.7.3-py3-none-any.whl.metadata (11 kB)\nCollecting colorama<1.0.0 (from azure-ai-ml)\n  Downloading colorama-0.4.6-py2.py3-none-any.whl.metadata (17 kB)\nRequirement already satisfied: pyjwt<3.0.0 in /anaconda/envs/jupyter_env/lib/python3.10/site-packages (from azure-ai-ml) (2.10.1)\nRequirement already satisfied: azure-storage-blob>=12.10.0 in /anaconda/envs/jupyter_env/lib/python3.10/site-packages (from azure-ai-ml) (12.25.1)\nCollecting azure-storage-file-share (from azure-ai-ml)\n  Downloading azure_storage_file_share-12.22.0-py3-none-any.whl.metadata (50 kB)\nCollecting azure-storage-file-datalake>=12.2.0 (from azure-ai-ml)\n  Downloading azure_storage_file_datalake-12.21.0-py3-none-any.whl.metadata (16 kB)\nCollecting pydash<9.0.0,>=6.0.0 (from azure-ai-ml)\n  Downloading pydash-8.0.5-py3-none-any.whl.metadata (4.5 kB)\nRequirement already satisfied: isodate<1.0.0 in /anaconda/envs/jupyter_env/lib/python3.10/site-packages (from azure-ai-ml) (0.7.2)\nRequirement already satisfied: azure-common>=1.1 in /anaconda/envs/jupyter_env/lib/python3.10/site-packages (from azure-ai-ml) (1.1.28)\nRequirement already satisfied: typing-extensions<5.0.0 in /anaconda/envs/jupyter_env/lib/python3.10/site-packages (from azure-ai-ml) (4.14.1)\nCollecting azure-monitor-opentelemetry (from azure-ai-ml)\n  Downloading azure_monitor_opentelemetry-1.6.13-py3-none-any.whl.metadata (21 kB)\nRequirement already satisfied: six>=1.11.0 in /anaconda/envs/jupyter_env/lib/python3.10/site-packages (from azure-ai-ml) (1.17.0)\nRequirement already satisfied: attrs>=22.2.0 in /anaconda/envs/jupyter_env/lib/python3.10/site-packages (from jsonschema<5.0.0,>=4.0.0->azure-ai-ml) (25.3.0)\nRequirement already satisfied: jsonschema-specifications>=2023.03.6 in /anaconda/envs/jupyter_env/lib/python3.10/site-packages (from jsonschema<5.0.0,>=4.0.0->azure-ai-ml) (2025.4.1)\nRequirement already satisfied: referencing>=0.28.4 in /anaconda/envs/jupyter_env/lib/python3.10/site-packages (from jsonschema<5.0.0,>=4.0.0->azure-ai-ml) (0.36.2)\nRequirement already satisfied: rpds-py>=0.7.1 in /anaconda/envs/jupyter_env/lib/python3.10/site-packages (from jsonschema<5.0.0,>=4.0.0->azure-ai-ml) (0.22.3)\nRequirement already satisfied: packaging>=17.0 in /anaconda/envs/jupyter_env/lib/python3.10/site-packages (from marshmallow<4.0.0,>=3.5->azure-ai-ml) (25.0)\nRequirement already satisfied: certifi>=2017.4.17 in /anaconda/envs/jupyter_env/lib/python3.10/site-packages (from msrest<1.0.0,>=0.6.18->azure-ai-ml) (2025.7.9)\nRequirement already satisfied: requests-oauthlib>=0.5.0 in /anaconda/envs/jupyter_env/lib/python3.10/site-packages (from msrest<1.0.0,>=0.6.18->azure-ai-ml) (2.0.0)\nRequirement already satisfied: requests~=2.16 in /anaconda/envs/jupyter_env/lib/python3.10/site-packages (from msrest<1.0.0,>=0.6.18->azure-ai-ml) (2.32.4)\nRequirement already satisfied: charset_normalizer<4,>=2 in /anaconda/envs/jupyter_env/lib/python3.10/site-packages (from requests~=2.16->msrest<1.0.0,>=0.6.18->azure-ai-ml) (3.4.2)\nRequirement already satisfied: idna<4,>=2.5 in /anaconda/envs/jupyter_env/lib/python3.10/site-packages (from requests~=2.16->msrest<1.0.0,>=0.6.18->azure-ai-ml) (3.10)\nRequirement already satisfied: urllib3<3,>=1.21.1 in /anaconda/envs/jupyter_env/lib/python3.10/site-packages (from requests~=2.16->msrest<1.0.0,>=0.6.18->azure-ai-ml) (2.5.0)\nRequirement already satisfied: python-dateutil>=2.6.0 in /anaconda/envs/jupyter_env/lib/python3.10/site-packages (from strictyaml<2.0.0->azure-ai-ml) (2.9.0.post0)\nRequirement already satisfied: cryptography>=2.1.4 in /anaconda/envs/jupyter_env/lib/python3.10/site-packages (from azure-storage-blob>=12.10.0->azure-ai-ml) (45.0.5)\nCollecting azure-storage-blob>=12.10.0 (from azure-ai-ml)\n  Downloading azure_storage_blob-12.26.0-py3-none-any.whl.metadata (26 kB)\nRequirement already satisfied: cffi>=1.14 in /anaconda/envs/jupyter_env/lib/python3.10/site-packages (from cryptography>=2.1.4->azure-storage-blob>=12.10.0->azure-ai-ml) (1.15.0)\nRequirement already satisfied: pycparser in /anaconda/envs/jupyter_env/lib/python3.10/site-packages (from cffi>=1.14->cryptography>=2.1.4->azure-storage-blob>=12.10.0->azure-ai-ml) (2.22)\nRequirement already satisfied: oauthlib>=3.0.0 in /anaconda/envs/jupyter_env/lib/python3.10/site-packages (from requests-oauthlib>=0.5.0->msrest<1.0.0,>=0.6.18->azure-ai-ml) (3.3.1)\nCollecting azure-core-tracing-opentelemetry~=1.0.0b11 (from azure-monitor-opentelemetry->azure-ai-ml)\n  Downloading azure_core_tracing_opentelemetry-1.0.0b12-py3-none-any.whl.metadata (11 kB)\nCollecting azure-monitor-opentelemetry-exporter~=1.0.0b40 (from azure-monitor-opentelemetry->azure-ai-ml)\n  Downloading azure_monitor_opentelemetry_exporter-1.0.0b41-py2.py3-none-any.whl.metadata (33 kB)\nCollecting opentelemetry-instrumentation-django~=0.57b0 (from azure-monitor-opentelemetry->azure-ai-ml)\n  Downloading opentelemetry_instrumentation_django-0.57b0-py3-none-any.whl.metadata (2.3 kB)\nCollecting opentelemetry-instrumentation-fastapi~=0.57b0 (from azure-monitor-opentelemetry->azure-ai-ml)\n  Downloading opentelemetry_instrumentation_fastapi-0.57b0-py3-none-any.whl.metadata (2.2 kB)\nCollecting opentelemetry-instrumentation-flask~=0.57b0 (from azure-monitor-opentelemetry->azure-ai-ml)\n  Downloading opentelemetry_instrumentation_flask-0.57b0-py3-none-any.whl.metadata (2.2 kB)\nCollecting opentelemetry-instrumentation-psycopg2~=0.57b0 (from azure-monitor-opentelemetry->azure-ai-ml)\n  Downloading opentelemetry_instrumentation_psycopg2-0.57b0-py3-none-any.whl.metadata (2.1 kB)\nCollecting opentelemetry-instrumentation-requests~=0.57b0 (from azure-monitor-opentelemetry->azure-ai-ml)\n  Downloading opentelemetry_instrumentation_requests-0.57b0-py3-none-any.whl.metadata (2.6 kB)\nCollecting opentelemetry-instrumentation-urllib~=0.57b0 (from azure-monitor-opentelemetry->azure-ai-ml)\n  Downloading opentelemetry_instrumentation_urllib-0.57b0-py3-none-any.whl.metadata (3.4 kB)\nCollecting opentelemetry-instrumentation-urllib3~=0.57b0 (from azure-monitor-opentelemetry->azure-ai-ml)\n  Downloading opentelemetry_instrumentation_urllib3-0.57b0-py3-none-any.whl.metadata (4.2 kB)\nCollecting opentelemetry-resource-detector-azure~=0.1.5 (from azure-monitor-opentelemetry->azure-ai-ml)\n  Downloading opentelemetry_resource_detector_azure-0.1.5-py3-none-any.whl.metadata (5.3 kB)\nCollecting opentelemetry-sdk~=1.36.0 (from azure-monitor-opentelemetry->azure-ai-ml)\n  Downloading opentelemetry_sdk-1.36.0-py3-none-any.whl.metadata (1.5 kB)\nRequirement already satisfied: opentelemetry-api>=1.12.0 in /anaconda/envs/jupyter_env/lib/python3.10/site-packages (from azure-core-tracing-opentelemetry~=1.0.0b11->azure-monitor-opentelemetry->azure-ai-ml) (1.35.0)\nCollecting azure-identity~=1.17 (from azure-monitor-opentelemetry-exporter~=1.0.0b40->azure-monitor-opentelemetry->azure-ai-ml)\n  Downloading azure_identity-1.24.0-py3-none-any.whl.metadata (86 kB)\nCollecting fixedint==0.1.6 (from azure-monitor-opentelemetry-exporter~=1.0.0b40->azure-monitor-opentelemetry->azure-ai-ml)\n  Downloading fixedint-0.1.6-py3-none-any.whl.metadata (4.8 kB)\nRequirement already satisfied: psutil<8,>=5.9 in /anaconda/envs/jupyter_env/lib/python3.10/site-packages (from azure-monitor-opentelemetry-exporter~=1.0.0b40->azure-monitor-opentelemetry->azure-ai-ml) (5.9.1)\nRequirement already satisfied: msal>=1.30.0 in /anaconda/envs/jupyter_env/lib/python3.10/site-packages (from azure-identity~=1.17->azure-monitor-opentelemetry-exporter~=1.0.0b40->azure-monitor-opentelemetry->azure-ai-ml) (1.32.3)\nRequirement already satisfied: msal-extensions>=1.2.0 in /anaconda/envs/jupyter_env/lib/python3.10/site-packages (from azure-identity~=1.17->azure-monitor-opentelemetry-exporter~=1.0.0b40->azure-monitor-opentelemetry->azure-ai-ml) (1.3.1)\nRequirement already satisfied: importlib-metadata<8.8.0,>=6.0 in /anaconda/envs/jupyter_env/lib/python3.10/site-packages (from opentelemetry-api>=1.12.0->azure-core-tracing-opentelemetry~=1.0.0b11->azure-monitor-opentelemetry->azure-ai-ml) (8.7.0)\nRequirement already satisfied: zipp>=3.20 in /anaconda/envs/jupyter_env/lib/python3.10/site-packages (from importlib-metadata<8.8.0,>=6.0->opentelemetry-api>=1.12.0->azure-core-tracing-opentelemetry~=1.0.0b11->azure-monitor-opentelemetry->azure-ai-ml) (3.23.0)\nCollecting opentelemetry-instrumentation-wsgi==0.57b0 (from opentelemetry-instrumentation-django~=0.57b0->azure-monitor-opentelemetry->azure-ai-ml)\n  Downloading opentelemetry_instrumentation_wsgi-0.57b0-py3-none-any.whl.metadata (2.1 kB)\nCollecting opentelemetry-instrumentation==0.57b0 (from opentelemetry-instrumentation-django~=0.57b0->azure-monitor-opentelemetry->azure-ai-ml)\n  Downloading opentelemetry_instrumentation-0.57b0-py3-none-any.whl.metadata (6.7 kB)\nCollecting opentelemetry-semantic-conventions==0.57b0 (from opentelemetry-instrumentation-django~=0.57b0->azure-monitor-opentelemetry->azure-ai-ml)\n  Downloading opentelemetry_semantic_conventions-0.57b0-py3-none-any.whl.metadata (2.4 kB)\nCollecting opentelemetry-util-http==0.57b0 (from opentelemetry-instrumentation-django~=0.57b0->azure-monitor-opentelemetry->azure-ai-ml)\n  Downloading opentelemetry_util_http-0.57b0-py3-none-any.whl.metadata (2.6 kB)\nRequirement already satisfied: wrapt<2.0.0,>=1.0.0 in /anaconda/envs/jupyter_env/lib/python3.10/site-packages (from opentelemetry-instrumentation==0.57b0->opentelemetry-instrumentation-django~=0.57b0->azure-monitor-opentelemetry->azure-ai-ml) (1.17.2)\nCollecting opentelemetry-api>=1.12.0 (from azure-core-tracing-opentelemetry~=1.0.0b11->azure-monitor-opentelemetry->azure-ai-ml)\n  Downloading opentelemetry_api-1.36.0-py3-none-any.whl.metadata (1.5 kB)\nCollecting opentelemetry-instrumentation-asgi==0.57b0 (from opentelemetry-instrumentation-fastapi~=0.57b0->azure-monitor-opentelemetry->azure-ai-ml)\n  Downloading opentelemetry_instrumentation_asgi-0.57b0-py3-none-any.whl.metadata (2.0 kB)\nCollecting asgiref~=3.0 (from opentelemetry-instrumentation-asgi==0.57b0->opentelemetry-instrumentation-fastapi~=0.57b0->azure-monitor-opentelemetry->azure-ai-ml)\n  Downloading asgiref-3.9.1-py3-none-any.whl.metadata (9.3 kB)\nCollecting opentelemetry-instrumentation-dbapi==0.57b0 (from opentelemetry-instrumentation-psycopg2~=0.57b0->azure-monitor-opentelemetry->azure-ai-ml)\n  Downloading opentelemetry_instrumentation_dbapi-0.57b0-py3-none-any.whl.metadata (2.0 kB)\nDownloading azure_ai_ml-1.28.1-py3-none-any.whl (13.2 MB)\n\u001b[2K   \u001b[90m━━━━━━━━━━━━━━━━━━━━━━━━━━━━━━━━━━━━━━━━\u001b[0m \u001b[32m13.2/13.2 MB\u001b[0m \u001b[31m26.1 MB/s\u001b[0m eta \u001b[36m0:00:00\u001b[0m:00:01\u001b[0m\n\u001b[?25hDownloading colorama-0.4.6-py2.py3-none-any.whl (25 kB)\nDownloading marshmallow-3.26.1-py3-none-any.whl (50 kB)\nDownloading pydash-8.0.5-py3-none-any.whl (102 kB)\nDownloading strictyaml-1.7.3-py3-none-any.whl (123 kB)\nDownloading tqdm-4.67.1-py3-none-any.whl (78 kB)\nDownloading azure_storage_file_datalake-12.21.0-py3-none-any.whl (264 kB)\nDownloading azure_storage_blob-12.26.0-py3-none-any.whl (412 kB)\nDownloading azure_monitor_opentelemetry-1.6.13-py3-none-any.whl (25 kB)\nDownloading azure_core_tracing_opentelemetry-1.0.0b12-py3-none-any.whl (11 kB)\nDownloading azure_monitor_opentelemetry_exporter-1.0.0b41-py2.py3-none-any.whl (162 kB)\nDownloading fixedint-0.1.6-py3-none-any.whl (12 kB)\nDownloading azure_identity-1.24.0-py3-none-any.whl (187 kB)\nDownloading opentelemetry_instrumentation_django-0.57b0-py3-none-any.whl (19 kB)\nDownloading opentelemetry_instrumentation-0.57b0-py3-none-any.whl (32 kB)\nDownloading opentelemetry_instrumentation_wsgi-0.57b0-py3-none-any.whl (14 kB)\nDownloading opentelemetry_semantic_conventions-0.57b0-py3-none-any.whl (201 kB)\nDownloading opentelemetry_api-1.36.0-py3-none-any.whl (65 kB)\nDownloading opentelemetry_util_http-0.57b0-py3-none-any.whl (7.6 kB)\nDownloading opentelemetry_instrumentation_fastapi-0.57b0-py3-none-any.whl (12 kB)\nDownloading opentelemetry_instrumentation_asgi-0.57b0-py3-none-any.whl (16 kB)\nDownloading asgiref-3.9.1-py3-none-any.whl (23 kB)\nDownloading opentelemetry_instrumentation_flask-0.57b0-py3-none-any.whl (14 kB)\nDownloading opentelemetry_instrumentation_psycopg2-0.57b0-py3-none-any.whl (10 kB)\nDownloading opentelemetry_instrumentation_dbapi-0.57b0-py3-none-any.whl (12 kB)\nDownloading opentelemetry_instrumentation_requests-0.57b0-py3-none-any.whl (12 kB)\nDownloading opentelemetry_instrumentation_urllib-0.57b0-py3-none-any.whl (12 kB)\nDownloading opentelemetry_instrumentation_urllib3-0.57b0-py3-none-any.whl (13 kB)\nDownloading opentelemetry_resource_detector_azure-0.1.5-py3-none-any.whl (14 kB)\nDownloading opentelemetry_sdk-1.36.0-py3-none-any.whl (119 kB)\nDownloading azure_storage_file_share-12.22.0-py3-none-any.whl (291 kB)\nInstalling collected packages: fixedint, tqdm, pydash, opentelemetry-util-http, marshmallow, colorama, asgiref, strictyaml, opentelemetry-api, opentelemetry-semantic-conventions, azure-storage-file-share, azure-storage-blob, azure-core-tracing-opentelemetry, opentelemetry-sdk, opentelemetry-instrumentation, azure-storage-file-datalake, opentelemetry-resource-detector-azure, opentelemetry-instrumentation-wsgi, opentelemetry-instrumentation-urllib3, opentelemetry-instrumentation-urllib, opentelemetry-instrumentation-requests, opentelemetry-instrumentation-dbapi, opentelemetry-instrumentation-asgi, opentelemetry-instrumentation-psycopg2, opentelemetry-instrumentation-flask, opentelemetry-instrumentation-fastapi, opentelemetry-instrumentation-django, azure-identity, azure-monitor-opentelemetry-exporter, azure-monitor-opentelemetry, azure-ai-ml\n\u001b[2K  Attempting uninstall: opentelemetry-api━━━━━━━━━━━━━━━━━━━━━━━━━\u001b[0m \u001b[32m 7/31\u001b[0m [strictyaml]\n\u001b[2K    Found existing installation: opentelemetry-api 1.35.0━━━━━\u001b[0m \u001b[32m 7/31\u001b[0m [strictyaml]\n\u001b[2K    Uninstalling opentelemetry-api-1.35.0:━━━━━━━━━━━━━━━━━━━━━━━━\u001b[0m \u001b[32m 8/31\u001b[0m [opentelemetry-api]\n\u001b[2K      Successfully uninstalled opentelemetry-api-1.35.0━━━━━━━━━━━\u001b[0m \u001b[32m 8/31\u001b[0m [opentelemetry-api]\n\u001b[2K  Attempting uninstall: opentelemetry-semantic-conventions━━━━\u001b[0m \u001b[32m 8/31\u001b[0m [opentelemetry-api]\n\u001b[2K    Found existing installation: opentelemetry-semantic-conventions 0.56b0/31\u001b[0m [opentelemetry-api]\n\u001b[2K    Uninstalling opentelemetry-semantic-conventions-0.56b0:━\u001b[0m \u001b[32m 9/31\u001b[0m [opentelemetry-semantic-conventions]\n\u001b[2K      Successfully uninstalled opentelemetry-semantic-conventions-0.56b0[0m [opentelemetry-semantic-conventions]\n\u001b[2K  Attempting uninstall: azure-storage-blob━━━━━━━━━━━━━━━━━━━━━━━━\u001b[0m \u001b[32m10/31\u001b[0m [azure-storage-file-share]ons]\n\u001b[2K    Found existing installation: azure-storage-blob 12.25.1━━━\u001b[0m \u001b[32m10/31\u001b[0m [azure-storage-file-share]\n\u001b[2K    Uninstalling azure-storage-blob-12.25.1:━━━━━━━━━━━━━━━━━━━━━━\u001b[0m \u001b[32m11/31\u001b[0m [azure-storage-blob]e]\n\u001b[2K      Successfully uninstalled azure-storage-blob-12.25.1━━━━━\u001b[0m \u001b[32m11/31\u001b[0m [azure-storage-blob]\n\u001b[2K  Attempting uninstall: opentelemetry-sdk━━━━━━━━━━━━━━━━━━━━━━━━━\u001b[0m \u001b[32m11/31\u001b[0m [azure-storage-blob]\n\u001b[2K    Found existing installation: opentelemetry-sdk 1.35.0━━━━━\u001b[0m \u001b[32m11/31\u001b[0m [azure-storage-blob]\n\u001b[2K    Uninstalling opentelemetry-sdk-1.35.0:━━━━━━━━━━━━━━━━━━━━\u001b[0m \u001b[32m11/31\u001b[0m [azure-storage-blob]\n\u001b[2K      Successfully uninstalled opentelemetry-sdk-1.35.0━━━━━━━\u001b[0m \u001b[32m11/31\u001b[0m [azure-storage-blob]\n\u001b[2K   \u001b[90m━━━━━━━━━━━━━━━━━━━━━━━━━━━━━━━━━━━━━━━━\u001b[0m \u001b[32m31/31\u001b[0m [azure-ai-ml]\u001b[0m [azure-ai-ml]r-opentelemetry]]\n\u001b[1A\u001b[2K\u001b[31mERROR: pip's dependency resolver does not currently take into account all the packages that are installed. This behaviour is the source of the following dependency conflicts.\nopentelemetry-exporter-prometheus 0.56b0 requires opentelemetry-sdk~=1.35.0, but you have opentelemetry-sdk 1.36.0 which is incompatible.\u001b[0m\u001b[31m\n\u001b[0mSuccessfully installed asgiref-3.9.1 azure-ai-ml-1.28.1 azure-core-tracing-opentelemetry-1.0.0b12 azure-identity-1.24.0 azure-monitor-opentelemetry-1.6.13 azure-monitor-opentelemetry-exporter-1.0.0b41 azure-storage-blob-12.26.0 azure-storage-file-datalake-12.21.0 azure-storage-file-share-12.22.0 colorama-0.4.6 fixedint-0.1.6 marshmallow-3.26.1 opentelemetry-api-1.36.0 opentelemetry-instrumentation-0.57b0 opentelemetry-instrumentation-asgi-0.57b0 opentelemetry-instrumentation-dbapi-0.57b0 opentelemetry-instrumentation-django-0.57b0 opentelemetry-instrumentation-fastapi-0.57b0 opentelemetry-instrumentation-flask-0.57b0 opentelemetry-instrumentation-psycopg2-0.57b0 opentelemetry-instrumentation-requests-0.57b0 opentelemetry-instrumentation-urllib-0.57b0 opentelemetry-instrumentation-urllib3-0.57b0 opentelemetry-instrumentation-wsgi-0.57b0 opentelemetry-resource-detector-azure-0.1.5 opentelemetry-sdk-1.36.0 opentelemetry-semantic-conventions-0.57b0 opentelemetry-util-http-0.57b0 pydash-8.0.5 strictyaml-1.7.3 tqdm-4.67.1\nNote: you may need to restart the kernel to use updated packages.\nCollecting azureml-rag>=0.2.36 (from azureml-rag[faiss,hugging_face]>=0.2.36)\n  Downloading azureml_rag-0.2.39.2-py3-none-any.whl.metadata (23 kB)\nCollecting azureml-dataprep>=5.1 (from azureml-dataprep[parquet]>=5.1->azureml-rag>=0.2.36->azureml-rag[faiss,hugging_face]>=0.2.36)\n  Downloading azureml_dataprep-5.4.0-py3-none-any.whl.metadata (2.3 kB)\nCollecting azureml-fsspec (from azureml-rag>=0.2.36->azureml-rag[faiss,hugging_face]>=0.2.36)\n  Downloading azureml_fsspec-1.3.1-py3-none-any.whl.metadata (3.4 kB)\nCollecting fsspec~=2023.3 (from azureml-rag>=0.2.36->azureml-rag[faiss,hugging_face]>=0.2.36)\n  Downloading fsspec-2023.12.2-py3-none-any.whl.metadata (6.8 kB)\nCollecting openai>=0.27.8 (from azureml-rag>=0.2.36->azureml-rag[faiss,hugging_face]>=0.2.36)\n  Downloading openai-1.99.6-py3-none-any.whl.metadata (29 kB)\nCollecting tiktoken<1.0,>=0.7 (from azureml-rag>=0.2.36->azureml-rag[faiss,hugging_face]>=0.2.36)\n  Downloading tiktoken-0.11.0-cp310-cp310-manylinux_2_17_x86_64.manylinux2014_x86_64.whl.metadata (6.7 kB)\nRequirement already satisfied: cloudpickle in /anaconda/envs/jupyter_env/lib/python3.10/site-packages (from azureml-rag>=0.2.36->azureml-rag[faiss,hugging_face]>=0.2.36) (3.1.1)\nCollecting mmh3 (from azureml-rag>=0.2.36->azureml-rag[faiss,hugging_face]>=0.2.36)\n  Downloading mmh3-5.2.0-cp310-cp310-manylinux1_x86_64.manylinux_2_28_x86_64.manylinux_2_5_x86_64.whl.metadata (14 kB)\nRequirement already satisfied: pyyaml<7.0.0,>=5.1.0 in /anaconda/envs/jupyter_env/lib/python3.10/site-packages (from azureml-rag>=0.2.36->azureml-rag[faiss,hugging_face]>=0.2.36) (6.0.2)\nRequirement already satisfied: requests in /anaconda/envs/jupyter_env/lib/python3.10/site-packages (from azureml-rag>=0.2.36->azureml-rag[faiss,hugging_face]>=0.2.36) (2.32.4)\nRequirement already satisfied: azureml-core~=1.60 in /anaconda/envs/jupyter_env/lib/python3.10/site-packages (from azureml-rag>=0.2.36->azureml-rag[faiss,hugging_face]>=0.2.36) (1.60.0.post1)\nRequirement already satisfied: pytz in /anaconda/envs/jupyter_env/lib/python3.10/site-packages (from azureml-core~=1.60->azureml-rag>=0.2.36->azureml-rag[faiss,hugging_face]>=0.2.36) (2025.2)\nRequirement already satisfied: backports.tempfile in /anaconda/envs/jupyter_env/lib/python3.10/site-packages (from azureml-core~=1.60->azureml-rag>=0.2.36->azureml-rag[faiss,hugging_face]>=0.2.36) (1.0)\nRequirement already satisfied: pathspec<1.0.0 in /anaconda/envs/jupyter_env/lib/python3.10/site-packages (from azureml-core~=1.60->azureml-rag>=0.2.36->azureml-rag[faiss,hugging_face]>=0.2.36) (0.12.1)\nRequirement already satisfied: msal<2.0.0,>=1.15.0 in /anaconda/envs/jupyter_env/lib/python3.10/site-packages (from azureml-core~=1.60->azureml-rag>=0.2.36->azureml-rag[faiss,hugging_face]>=0.2.36) (1.32.3)\nRequirement already satisfied: msal-extensions<=2.0.0,>=0.3.0 in /anaconda/envs/jupyter_env/lib/python3.10/site-packages (from azureml-core~=1.60->azureml-rag>=0.2.36->azureml-rag[faiss,hugging_face]>=0.2.36) (1.3.1)\nRequirement already satisfied: knack<0.13.0 in /anaconda/envs/jupyter_env/lib/python3.10/site-packages (from azureml-core~=1.60->azureml-rag>=0.2.36->azureml-rag[faiss,hugging_face]>=0.2.36) (0.12.0)\nRequirement already satisfied: azure-core<2.0.0 in /anaconda/envs/jupyter_env/lib/python3.10/site-packages (from azureml-core~=1.60->azureml-rag>=0.2.36->azureml-rag[faiss,hugging_face]>=0.2.36) (1.35.0)\nRequirement already satisfied: pkginfo in /anaconda/envs/jupyter_env/lib/python3.10/site-packages (from azureml-core~=1.60->azureml-rag>=0.2.36->azureml-rag[faiss,hugging_face]>=0.2.36) (1.12.1.2)\nRequirement already satisfied: argcomplete<4 in /anaconda/envs/jupyter_env/lib/python3.10/site-packages (from azureml-core~=1.60->azureml-rag>=0.2.36->azureml-rag[faiss,hugging_face]>=0.2.36) (3.6.2)\nRequirement already satisfied: humanfriendly<11.0,>=4.7 in /anaconda/envs/jupyter_env/lib/python3.10/site-packages (from azureml-core~=1.60->azureml-rag>=0.2.36->azureml-rag[faiss,hugging_face]>=0.2.36) (10.0)\nRequirement already satisfied: paramiko<4.0.0,>=2.0.8 in /anaconda/envs/jupyter_env/lib/python3.10/site-packages (from azureml-core~=1.60->azureml-rag>=0.2.36->azureml-rag[faiss,hugging_face]>=0.2.36) (3.5.1)\nRequirement already satisfied: azure-mgmt-resource<=24.0.0,>=15.0.0 in /anaconda/envs/jupyter_env/lib/python3.10/site-packages (from azureml-core~=1.60->azureml-rag>=0.2.36->azureml-rag[faiss,hugging_face]>=0.2.36) (24.0.0)\nRequirement already satisfied: azure-mgmt-containerregistry<14,>=8.2.0 in /anaconda/envs/jupyter_env/lib/python3.10/site-packages (from azureml-core~=1.60->azureml-rag>=0.2.36->azureml-rag[faiss,hugging_face]>=0.2.36) (13.0.0)\nRequirement already satisfied: azure-mgmt-storage<=23.0.0,>=16.0.0 in /anaconda/envs/jupyter_env/lib/python3.10/site-packages (from azureml-core~=1.60->azureml-rag>=0.2.36->azureml-rag[faiss,hugging_face]>=0.2.36) (23.0.0)\nRequirement already satisfied: azure-mgmt-keyvault<12.0.0,>=0.40.0 in /anaconda/envs/jupyter_env/lib/python3.10/site-packages (from azureml-core~=1.60->azureml-rag>=0.2.36->azureml-rag[faiss,hugging_face]>=0.2.36) (11.0.0)\nRequirement already satisfied: azure-mgmt-authorization<5,>=0.40.0 in /anaconda/envs/jupyter_env/lib/python3.10/site-packages (from azureml-core~=1.60->azureml-rag>=0.2.36->azureml-rag[faiss,hugging_face]>=0.2.36) (4.0.0)\nRequirement already satisfied: azure-mgmt-network<=29.0.0 in /anaconda/envs/jupyter_env/lib/python3.10/site-packages (from azureml-core~=1.60->azureml-rag>=0.2.36->azureml-rag[faiss,hugging_face]>=0.2.36) (29.0.0)\nRequirement already satisfied: azure-graphrbac<1.0.0,>=0.40.0 in /anaconda/envs/jupyter_env/lib/python3.10/site-packages (from azureml-core~=1.60->azureml-rag>=0.2.36->azureml-rag[faiss,hugging_face]>=0.2.36) (0.61.2)\nRequirement already satisfied: azure-common<2.0.0,>=1.1.12 in /anaconda/envs/jupyter_env/lib/python3.10/site-packages (from azureml-core~=1.60->azureml-rag>=0.2.36->azureml-rag[faiss,hugging_face]>=0.2.36) (1.1.28)\nRequirement already satisfied: msrest<=0.7.1,>=0.5.1 in /anaconda/envs/jupyter_env/lib/python3.10/site-packages (from azureml-core~=1.60->azureml-rag>=0.2.36->azureml-rag[faiss,hugging_face]>=0.2.36) (0.7.1)\nRequirement already satisfied: msrestazure<=0.7,>=0.4.33 in /anaconda/envs/jupyter_env/lib/python3.10/site-packages (from azureml-core~=1.60->azureml-rag>=0.2.36->azureml-rag[faiss,hugging_face]>=0.2.36) (0.6.4.post1)\nRequirement already satisfied: urllib3<3.0.0,>1.26.17 in /anaconda/envs/jupyter_env/lib/python3.10/site-packages (from azureml-core~=1.60->azureml-rag>=0.2.36->azureml-rag[faiss,hugging_face]>=0.2.36) (2.5.0)\nRequirement already satisfied: packaging<26.0,>=20.0 in /anaconda/envs/jupyter_env/lib/python3.10/site-packages (from azureml-core~=1.60->azureml-rag>=0.2.36->azureml-rag[faiss,hugging_face]>=0.2.36) (25.0)\nRequirement already satisfied: python-dateutil<3.0.0,>=2.7.3 in /anaconda/envs/jupyter_env/lib/python3.10/site-packages (from azureml-core~=1.60->azureml-rag>=0.2.36->azureml-rag[faiss,hugging_face]>=0.2.36) (2.9.0.post0)\nRequirement already satisfied: ndg-httpsclient<=0.5.1 in /anaconda/envs/jupyter_env/lib/python3.10/site-packages (from azureml-core~=1.60->azureml-rag>=0.2.36->azureml-rag[faiss,hugging_face]>=0.2.36) (0.5.1)\nRequirement already satisfied: SecretStorage<4.0.0 in /anaconda/envs/jupyter_env/lib/python3.10/site-packages (from azureml-core~=1.60->azureml-rag>=0.2.36->azureml-rag[faiss,hugging_face]>=0.2.36) (3.3.3)\nRequirement already satisfied: jsonpickle<5.0.0 in /anaconda/envs/jupyter_env/lib/python3.10/site-packages (from azureml-core~=1.60->azureml-rag>=0.2.36->azureml-rag[faiss,hugging_face]>=0.2.36) (4.1.1)\nRequirement already satisfied: contextlib2<22.0.0 in /anaconda/envs/jupyter_env/lib/python3.10/site-packages (from azureml-core~=1.60->azureml-rag>=0.2.36->azureml-rag[faiss,hugging_face]>=0.2.36) (21.6.0)\nRequirement already satisfied: docker<8.0.0 in /anaconda/envs/jupyter_env/lib/python3.10/site-packages (from azureml-core~=1.60->azureml-rag>=0.2.36->azureml-rag[faiss,hugging_face]>=0.2.36) (7.1.0)\nRequirement already satisfied: PyJWT<3.0.0 in /anaconda/envs/jupyter_env/lib/python3.10/site-packages (from azureml-core~=1.60->azureml-rag>=0.2.36->azureml-rag[faiss,hugging_face]>=0.2.36) (2.10.1)\nRequirement already satisfied: adal<=1.2.7,>=1.2.0 in /anaconda/envs/jupyter_env/lib/python3.10/site-packages (from azureml-core~=1.60->azureml-rag>=0.2.36->azureml-rag[faiss,hugging_face]>=0.2.36) (1.2.7)\nRequirement already satisfied: pyopenssl<26.0.0 in /anaconda/envs/jupyter_env/lib/python3.10/site-packages (from azureml-core~=1.60->azureml-rag>=0.2.36->azureml-rag[faiss,hugging_face]>=0.2.36) (25.1.0)\nRequirement already satisfied: jmespath<2.0.0 in /anaconda/envs/jupyter_env/lib/python3.10/site-packages (from azureml-core~=1.60->azureml-rag>=0.2.36->azureml-rag[faiss,hugging_face]>=0.2.36) (1.0.1)\nRequirement already satisfied: cryptography>=1.1.0 in /anaconda/envs/jupyter_env/lib/python3.10/site-packages (from adal<=1.2.7,>=1.2.0->azureml-core~=1.60->azureml-rag>=0.2.36->azureml-rag[faiss,hugging_face]>=0.2.36) (45.0.5)\nRequirement already satisfied: six>=1.11.0 in /anaconda/envs/jupyter_env/lib/python3.10/site-packages (from azure-core<2.0.0->azureml-core~=1.60->azureml-rag>=0.2.36->azureml-rag[faiss,hugging_face]>=0.2.36) (1.17.0)\nRequirement already satisfied: typing-extensions>=4.6.0 in /anaconda/envs/jupyter_env/lib/python3.10/site-packages (from azure-core<2.0.0->azureml-core~=1.60->azureml-rag>=0.2.36->azureml-rag[faiss,hugging_face]>=0.2.36) (4.14.1)\nRequirement already satisfied: isodate<1.0.0,>=0.6.1 in /anaconda/envs/jupyter_env/lib/python3.10/site-packages (from azure-mgmt-authorization<5,>=0.40.0->azureml-core~=1.60->azureml-rag>=0.2.36->azureml-rag[faiss,hugging_face]>=0.2.36) (0.7.2)\nRequirement already satisfied: azure-mgmt-core<2.0.0,>=1.3.2 in /anaconda/envs/jupyter_env/lib/python3.10/site-packages (from azure-mgmt-authorization<5,>=0.40.0->azureml-core~=1.60->azureml-rag>=0.2.36->azureml-rag[faiss,hugging_face]>=0.2.36) (1.6.0)\nRequirement already satisfied: pygments in /anaconda/envs/jupyter_env/lib/python3.10/site-packages (from knack<0.13.0->azureml-core~=1.60->azureml-rag>=0.2.36->azureml-rag[faiss,hugging_face]>=0.2.36) (2.19.2)\nRequirement already satisfied: tabulate in /anaconda/envs/jupyter_env/lib/python3.10/site-packages (from knack<0.13.0->azureml-core~=1.60->azureml-rag>=0.2.36->azureml-rag[faiss,hugging_face]>=0.2.36) (0.9.0)\nRequirement already satisfied: cffi>=1.14 in /anaconda/envs/jupyter_env/lib/python3.10/site-packages (from cryptography>=1.1.0->adal<=1.2.7,>=1.2.0->azureml-core~=1.60->azureml-rag>=0.2.36->azureml-rag[faiss,hugging_face]>=0.2.36) (1.15.0)\nRequirement already satisfied: certifi>=2017.4.17 in /anaconda/envs/jupyter_env/lib/python3.10/site-packages (from msrest<=0.7.1,>=0.5.1->azureml-core~=1.60->azureml-rag>=0.2.36->azureml-rag[faiss,hugging_face]>=0.2.36) (2025.7.9)\nRequirement already satisfied: requests-oauthlib>=0.5.0 in /anaconda/envs/jupyter_env/lib/python3.10/site-packages (from msrest<=0.7.1,>=0.5.1->azureml-core~=1.60->azureml-rag>=0.2.36->azureml-rag[faiss,hugging_face]>=0.2.36) (2.0.0)\nRequirement already satisfied: pyasn1>=0.1.1 in /anaconda/envs/jupyter_env/lib/python3.10/site-packages (from ndg-httpsclient<=0.5.1->azureml-core~=1.60->azureml-rag>=0.2.36->azureml-rag[faiss,hugging_face]>=0.2.36) (0.6.1)\nRequirement already satisfied: bcrypt>=3.2 in /anaconda/envs/jupyter_env/lib/python3.10/site-packages (from paramiko<4.0.0,>=2.0.8->azureml-core~=1.60->azureml-rag>=0.2.36->azureml-rag[faiss,hugging_face]>=0.2.36) (4.3.0)\nRequirement already satisfied: pynacl>=1.5 in /anaconda/envs/jupyter_env/lib/python3.10/site-packages (from paramiko<4.0.0,>=2.0.8->azureml-core~=1.60->azureml-rag>=0.2.36->azureml-rag[faiss,hugging_face]>=0.2.36) (1.5.0)\nRequirement already satisfied: charset_normalizer<4,>=2 in /anaconda/envs/jupyter_env/lib/python3.10/site-packages (from requests->azureml-rag>=0.2.36->azureml-rag[faiss,hugging_face]>=0.2.36) (3.4.2)\nRequirement already satisfied: idna<4,>=2.5 in /anaconda/envs/jupyter_env/lib/python3.10/site-packages (from requests->azureml-rag>=0.2.36->azureml-rag[faiss,hugging_face]>=0.2.36) (3.10)\nRequirement already satisfied: PySocks!=1.5.7,>=1.5.6 in /anaconda/envs/jupyter_env/lib/python3.10/site-packages (from requests[socks]<3.0.0,>=2.19.1->azureml-core~=1.60->azureml-rag>=0.2.36->azureml-rag[faiss,hugging_face]>=0.2.36) (1.7.1)\nRequirement already satisfied: jeepney>=0.6 in /anaconda/envs/jupyter_env/lib/python3.10/site-packages (from SecretStorage<4.0.0->azureml-core~=1.60->azureml-rag>=0.2.36->azureml-rag[faiss,hugging_face]>=0.2.36) (0.9.0)\nCollecting regex>=2022.1.18 (from tiktoken<1.0,>=0.7->azureml-rag>=0.2.36->azureml-rag[faiss,hugging_face]>=0.2.36)\n  Downloading regex-2025.7.34-cp310-cp310-manylinux2014_x86_64.manylinux_2_17_x86_64.manylinux_2_28_x86_64.whl.metadata (40 kB)\nCollecting azureml-dataprep-native<43.0.0,>=42.0.0 (from azureml-dataprep>=5.1->azureml-dataprep[parquet]>=5.1->azureml-rag>=0.2.36->azureml-rag[faiss,hugging_face]>=0.2.36)\n  Downloading azureml_dataprep_native-42.1.0-cp310-cp310-manylinux1_x86_64.whl.metadata (1.5 kB)\nCollecting azureml-dataprep-rslex~=2.22.0dev0 (from azureml-dataprep>=5.1->azureml-dataprep[parquet]>=5.1->azureml-rag>=0.2.36->azureml-rag[faiss,hugging_face]>=0.2.36)\n  Downloading azureml_dataprep_rslex-2.22.5-cp310-cp310-manylinux1_x86_64.whl.metadata (1.6 kB)\nCollecting cloudpickle (from azureml-rag>=0.2.36->azureml-rag[faiss,hugging_face]>=0.2.36)\n  Downloading cloudpickle-2.2.1-py3-none-any.whl.metadata (6.9 kB)\nCollecting azure-identity<=1.17.0,>=1.16.0 (from azureml-dataprep>=5.1->azureml-dataprep[parquet]>=5.1->azureml-rag>=0.2.36->azureml-rag[faiss,hugging_face]>=0.2.36)\n  Downloading azure_identity-1.17.0-py3-none-any.whl.metadata (79 kB)\nRequirement already satisfied: jsonschema in /anaconda/envs/jupyter_env/lib/python3.10/site-packages (from azureml-dataprep>=5.1->azureml-dataprep[parquet]>=5.1->azureml-rag>=0.2.36->azureml-rag[faiss,hugging_face]>=0.2.36) (4.24.0)\nRequirement already satisfied: pyarrow>=0.17.0 in /anaconda/envs/jupyter_env/lib/python3.10/site-packages (from azureml-dataprep[parquet]>=5.1->azureml-rag>=0.2.36->azureml-rag[faiss,hugging_face]>=0.2.36) (20.0.0)\nCollecting scikit-learn (from azureml-rag[faiss,hugging_face]>=0.2.36)\n  Downloading scikit_learn-1.7.1-cp310-cp310-manylinux2014_x86_64.manylinux_2_17_x86_64.whl.metadata (11 kB)\nCollecting sentence-transformers (from azureml-rag[faiss,hugging_face]>=0.2.36)\n  Downloading sentence_transformers-5.1.0-py3-none-any.whl.metadata (16 kB)\nCollecting huggingface-hub>=0.25.1 (from azureml-rag[faiss,hugging_face]>=0.2.36)\n  Downloading huggingface_hub-0.34.4-py3-none-any.whl.metadata (14 kB)\nCollecting faiss-cpu (from azureml-rag[faiss,hugging_face]>=0.2.36)\n  Downloading faiss_cpu-1.11.0.post1-cp310-cp310-manylinux_2_27_x86_64.manylinux_2_28_x86_64.whl.metadata (5.0 kB)\nRequirement already satisfied: pycparser in /anaconda/envs/jupyter_env/lib/python3.10/site-packages (from cffi>=1.14->cryptography>=1.1.0->adal<=1.2.7,>=1.2.0->azureml-core~=1.60->azureml-rag>=0.2.36->azureml-rag[faiss,hugging_face]>=0.2.36) (2.22)\nRequirement already satisfied: filelock in /anaconda/envs/jupyter_env/lib/python3.10/site-packages (from huggingface-hub>=0.25.1->azureml-rag[faiss,hugging_face]>=0.2.36) (3.18.0)\nRequirement already satisfied: tqdm>=4.42.1 in /anaconda/envs/jupyter_env/lib/python3.10/site-packages (from huggingface-hub>=0.25.1->azureml-rag[faiss,hugging_face]>=0.2.36) (4.67.1)\nCollecting hf-xet<2.0.0,>=1.1.3 (from huggingface-hub>=0.25.1->azureml-rag[faiss,hugging_face]>=0.2.36)\n  Downloading hf_xet-1.1.7-cp37-abi3-manylinux_2_17_x86_64.manylinux2014_x86_64.whl.metadata (703 bytes)\nRequirement already satisfied: anyio<5,>=3.5.0 in /anaconda/envs/jupyter_env/lib/python3.10/site-packages (from openai>=0.27.8->azureml-rag>=0.2.36->azureml-rag[faiss,hugging_face]>=0.2.36) (3.7.1)\nRequirement already satisfied: distro<2,>=1.7.0 in /anaconda/envs/jupyter_env/lib/python3.10/site-packages (from openai>=0.27.8->azureml-rag>=0.2.36->azureml-rag[faiss,hugging_face]>=0.2.36) (1.9.0)\nRequirement already satisfied: httpx<1,>=0.23.0 in /anaconda/envs/jupyter_env/lib/python3.10/site-packages (from openai>=0.27.8->azureml-rag>=0.2.36->azureml-rag[faiss,hugging_face]>=0.2.36) (0.28.1)\nCollecting jiter<1,>=0.4.0 (from openai>=0.27.8->azureml-rag>=0.2.36->azureml-rag[faiss,hugging_face]>=0.2.36)\n  Downloading jiter-0.10.0-cp310-cp310-manylinux_2_17_x86_64.manylinux2014_x86_64.whl.metadata (5.2 kB)\nRequirement already satisfied: pydantic<3,>=1.9.0 in /anaconda/envs/jupyter_env/lib/python3.10/site-packages (from openai>=0.27.8->azureml-rag>=0.2.36->azureml-rag[faiss,hugging_face]>=0.2.36) (2.11.7)\nRequirement already satisfied: sniffio in /anaconda/envs/jupyter_env/lib/python3.10/site-packages (from openai>=0.27.8->azureml-rag>=0.2.36->azureml-rag[faiss,hugging_face]>=0.2.36) (1.3.1)\nRequirement already satisfied: exceptiongroup in /anaconda/envs/jupyter_env/lib/python3.10/site-packages (from anyio<5,>=3.5.0->openai>=0.27.8->azureml-rag>=0.2.36->azureml-rag[faiss,hugging_face]>=0.2.36) (1.3.0)\nRequirement already satisfied: httpcore==1.* in /anaconda/envs/jupyter_env/lib/python3.10/site-packages (from httpx<1,>=0.23.0->openai>=0.27.8->azureml-rag>=0.2.36->azureml-rag[faiss,hugging_face]>=0.2.36) (1.0.9)\nRequirement already satisfied: h11>=0.16 in /anaconda/envs/jupyter_env/lib/python3.10/site-packages (from httpcore==1.*->httpx<1,>=0.23.0->openai>=0.27.8->azureml-rag>=0.2.36->azureml-rag[faiss,hugging_face]>=0.2.36) (0.16.0)\nRequirement already satisfied: annotated-types>=0.6.0 in /anaconda/envs/jupyter_env/lib/python3.10/site-packages (from pydantic<3,>=1.9.0->openai>=0.27.8->azureml-rag>=0.2.36->azureml-rag[faiss,hugging_face]>=0.2.36) (0.7.0)\nRequirement already satisfied: pydantic-core==2.33.2 in /anaconda/envs/jupyter_env/lib/python3.10/site-packages (from pydantic<3,>=1.9.0->openai>=0.27.8->azureml-rag>=0.2.36->azureml-rag[faiss,hugging_face]>=0.2.36) (2.33.2)\nRequirement already satisfied: typing-inspection>=0.4.0 in /anaconda/envs/jupyter_env/lib/python3.10/site-packages (from pydantic<3,>=1.9.0->openai>=0.27.8->azureml-rag>=0.2.36->azureml-rag[faiss,hugging_face]>=0.2.36) (0.4.1)\nRequirement already satisfied: oauthlib>=3.0.0 in /anaconda/envs/jupyter_env/lib/python3.10/site-packages (from requests-oauthlib>=0.5.0->msrest<=0.7.1,>=0.5.1->azureml-core~=1.60->azureml-rag>=0.2.36->azureml-rag[faiss,hugging_face]>=0.2.36) (3.3.1)\nINFO: pip is looking at multiple versions of azureml-fsspec to determine which version is compatible with other requirements. This could take a while.\nCollecting azureml-fsspec (from azureml-rag>=0.2.36->azureml-rag[faiss,hugging_face]>=0.2.36)\n  Downloading azureml_fsspec-1.3.0-py3-none-any.whl.metadata (3.2 kB)\n  Downloading azureml_fsspec-1.2.0-py3-none-any.whl.metadata (3.0 kB)\n  Downloading azureml_fsspec-1.1.1-py3-none-any.whl.metadata (2.8 kB)\n  Downloading azureml_fsspec-1.1.0-py3-none-any.whl.metadata (2.8 kB)\n  Downloading azureml_fsspec-1.0.0-py3-none-any.whl.metadata (2.8 kB)\nCollecting typing-inspection>=0.4.0 (from pydantic<3,>=1.9.0->openai>=0.27.8->azureml-rag>=0.2.36->azureml-rag[faiss,hugging_face]>=0.2.36)\n  Downloading typing_inspection-0.4.1-py3-none-any.whl.metadata (2.6 kB)\nINFO: pip is still looking at multiple versions of azureml-fsspec to determine which version is compatible with other requirements. This could take a while.\nCollecting tqdm>=4.42.1 (from huggingface-hub>=0.25.1->azureml-rag[faiss,hugging_face]>=0.2.36)\n  Using cached tqdm-4.67.1-py3-none-any.whl.metadata (57 kB)\nINFO: This is taking longer than usual. You might need to provide the dependency resolver with stricter constraints to reduce runtime. See https://pip.pypa.io/warnings/backtracking for guidance. If you want to abort this run, press Ctrl + C.\nCollecting sniffio (from openai>=0.27.8->azureml-rag>=0.2.36->azureml-rag[faiss,hugging_face]>=0.2.36)\n  Downloading sniffio-1.3.1-py3-none-any.whl.metadata (3.9 kB)\nCollecting six>=1.11.0 (from azure-core<2.0.0->azureml-core~=1.60->azureml-rag>=0.2.36->azureml-rag[faiss,hugging_face]>=0.2.36)\n  Downloading six-1.17.0-py2.py3-none-any.whl.metadata (1.7 kB)\nCollecting oauthlib>=3.0.0 (from requests-oauthlib>=0.5.0->msrest<=0.7.1,>=0.5.1->azureml-core~=1.60->azureml-rag>=0.2.36->azureml-rag[faiss,hugging_face]>=0.2.36)\n  Downloading oauthlib-3.3.1-py3-none-any.whl.metadata (7.9 kB)\nCollecting requests-oauthlib>=0.5.0 (from msrest<=0.7.1,>=0.5.1->azureml-core~=1.60->azureml-rag>=0.2.36->azureml-rag[faiss,hugging_face]>=0.2.36)\n  Downloading requests_oauthlib-2.0.0-py2.py3-none-any.whl.metadata (11 kB)\nCollecting regex>=2022.1.18 (from tiktoken<1.0,>=0.7->azureml-rag>=0.2.36->azureml-rag[faiss,hugging_face]>=0.2.36)\n  Downloading regex-2025.7.33-cp310-cp310-manylinux2014_x86_64.manylinux_2_17_x86_64.manylinux_2_28_x86_64.whl.metadata (40 kB)\nCollecting PySocks!=1.5.7,>=1.5.6 (from requests[socks]<3.0.0,>=2.19.1->azureml-core~=1.60->azureml-rag>=0.2.36->azureml-rag[faiss,hugging_face]>=0.2.36)\n  Downloading PySocks-1.7.1-py3-none-any.whl.metadata (13 kB)\nCollecting pynacl>=1.5 (from paramiko<4.0.0,>=2.0.8->azureml-core~=1.60->azureml-rag>=0.2.36->azureml-rag[faiss,hugging_face]>=0.2.36)\n  Downloading PyNaCl-1.5.0-cp36-abi3-manylinux_2_17_x86_64.manylinux2014_x86_64.manylinux_2_24_x86_64.whl.metadata (8.6 kB)\nCollecting pyasn1>=0.1.1 (from ndg-httpsclient<=0.5.1->azureml-core~=1.60->azureml-rag>=0.2.36->azureml-rag[faiss,hugging_face]>=0.2.36)\n  Downloading pyasn1-0.6.1-py3-none-any.whl.metadata (8.4 kB)\nCollecting pyarrow>=0.17.0 (from azureml-dataprep[parquet]>=5.1->azureml-rag>=0.2.36->azureml-rag[faiss,hugging_face]>=0.2.36)\n  Downloading pyarrow-21.0.0-cp310-cp310-manylinux_2_28_x86_64.whl.metadata (3.3 kB)\nCollecting h11>=0.16 (from httpcore==1.*->httpx<1,>=0.23.0->openai>=0.27.8->azureml-rag>=0.2.36->azureml-rag[faiss,hugging_face]>=0.2.36)\n  Downloading h11-0.16.0-py3-none-any.whl.metadata (8.3 kB)\nCollecting annotated-types>=0.6.0 (from pydantic<3,>=1.9.0->openai>=0.27.8->azureml-rag>=0.2.36->azureml-rag[faiss,hugging_face]>=0.2.36)\n  Downloading annotated_types-0.7.0-py3-none-any.whl.metadata (15 kB)\nCollecting typing-extensions>=4.6.0 (from azure-core<2.0.0->azureml-core~=1.60->azureml-rag>=0.2.36->azureml-rag[faiss,hugging_face]>=0.2.36)\n  Downloading typing_extensions-4.14.1-py3-none-any.whl.metadata (3.0 kB)\nCollecting pydantic-core==2.33.2 (from pydantic<3,>=1.9.0->openai>=0.27.8->azureml-rag>=0.2.36->azureml-rag[faiss,hugging_face]>=0.2.36)\n  Downloading pydantic_core-2.33.2-cp310-cp310-manylinux_2_17_x86_64.manylinux2014_x86_64.whl.metadata (6.8 kB)\nCollecting pydantic<3,>=1.9.0 (from openai>=0.27.8->azureml-rag>=0.2.36->azureml-rag[faiss,hugging_face]>=0.2.36)\n  Downloading pydantic-2.11.7-py3-none-any.whl.metadata (67 kB)\nCollecting jiter<1,>=0.4.0 (from openai>=0.27.8->azureml-rag>=0.2.36->azureml-rag[faiss,hugging_face]>=0.2.36)\n  Downloading jiter-0.9.1-cp310-cp310-manylinux_2_17_x86_64.manylinux2014_x86_64.whl.metadata (5.2 kB)\nCollecting httpcore==1.* (from httpx<1,>=0.23.0->openai>=0.27.8->azureml-rag>=0.2.36->azureml-rag[faiss,hugging_face]>=0.2.36)\n  Downloading httpcore-1.0.9-py3-none-any.whl.metadata (21 kB)\nCollecting httpx<1,>=0.23.0 (from openai>=0.27.8->azureml-rag>=0.2.36->azureml-rag[faiss,hugging_face]>=0.2.36)\n  Downloading httpx-0.28.1-py3-none-any.whl.metadata (7.1 kB)\nCollecting distro<2,>=1.7.0 (from openai>=0.27.8->azureml-rag>=0.2.36->azureml-rag[faiss,hugging_face]>=0.2.36)\n  Downloading distro-1.9.0-py3-none-any.whl.metadata (6.8 kB)\nCollecting anyio<5,>=3.5.0 (from openai>=0.27.8->azureml-rag>=0.2.36->azureml-rag[faiss,hugging_face]>=0.2.36)\n  Downloading anyio-4.10.0-py3-none-any.whl.metadata (4.0 kB)\nCollecting openai>=0.27.8 (from azureml-rag>=0.2.36->azureml-rag[faiss,hugging_face]>=0.2.36)\n  Downloading openai-1.99.5-py3-none-any.whl.metadata (29 kB)\nCollecting jeepney>=0.6 (from SecretStorage<4.0.0->azureml-core~=1.60->azureml-rag>=0.2.36->azureml-rag[faiss,hugging_face]>=0.2.36)\n  Downloading jeepney-0.9.0-py3-none-any.whl.metadata (1.2 kB)\nCollecting hf-xet<2.0.0,>=1.1.3 (from huggingface-hub>=0.25.1->azureml-rag[faiss,hugging_face]>=0.2.36)\n  Downloading hf_xet-1.1.6-cp37-abi3-manylinux_2_17_x86_64.manylinux2014_x86_64.whl.metadata (703 bytes)\nCollecting huggingface-hub>=0.25.1 (from azureml-rag[faiss,hugging_face]>=0.2.36)\n  Downloading huggingface_hub-0.34.3-py3-none-any.whl.metadata (14 kB)\nCollecting cffi>=1.14 (from cryptography>=1.1.0->adal<=1.2.7,>=1.2.0->azureml-core~=1.60->azureml-rag>=0.2.36->azureml-rag[faiss,hugging_face]>=0.2.36)\n  Downloading cffi-1.17.1-cp310-cp310-manylinux_2_17_x86_64.manylinux2014_x86_64.whl.metadata (1.5 kB)\nCollecting certifi>=2017.4.17 (from msrest<=0.7.1,>=0.5.1->azureml-core~=1.60->azureml-rag>=0.2.36->azureml-rag[faiss,hugging_face]>=0.2.36)\n  Downloading certifi-2025.8.3-py3-none-any.whl.metadata (2.4 kB)\nCollecting bcrypt>=3.2 (from paramiko<4.0.0,>=2.0.8->azureml-core~=1.60->azureml-rag>=0.2.36->azureml-rag[faiss,hugging_face]>=0.2.36)\n  Downloading bcrypt-4.3.0-cp39-abi3-manylinux_2_34_x86_64.whl.metadata (10 kB)\nCollecting azureml-rag[faiss,hugging_face]>=0.2.36\n  Downloading azureml_rag-0.2.39.1-py3-none-any.whl.metadata (23 kB)\n  Downloading azureml_rag-0.2.39-py3-none-any.whl.metadata (23 kB)\n  Downloading azureml_rag-0.2.38-py3-none-any.whl.metadata (23 kB)\nCollecting faiss-cpu~=1.7.3 (from azureml-rag[faiss,hugging_face]>=0.2.36)\n  Downloading faiss_cpu-1.7.4-cp310-cp310-manylinux_2_17_x86_64.manylinux2014_x86_64.whl.metadata (1.3 kB)\nCollecting azureml-rag[faiss,hugging_face]>=0.2.36\n  Downloading azureml_rag-0.2.37.3-py3-none-any.whl.metadata (23 kB)\n  Downloading azureml_rag-0.2.37.2-py3-none-any.whl.metadata (23 kB)\nINFO: pip is looking at multiple versions of azureml-rag[faiss,hugging-face] to determine which version is compatible with other requirements. This could take a while.\n  Downloading azureml_rag-0.2.37.1-py3-none-any.whl.metadata (23 kB)\n  Downloading azureml_rag-0.2.37-py3-none-any.whl.metadata (22 kB)\n  Downloading azureml_rag-0.2.36-py3-none-any.whl.metadata (22 kB)\nCollecting azureml-dataprep[parquet]>=5.1 (from azureml-rag>=0.2.36->azureml-rag[faiss,hugging_face]>=0.2.36)\n  Downloading azureml_dataprep-5.3.4-py3-none-any.whl.metadata (2.3 kB)\nINFO: pip is looking at multiple versions of azureml-dataprep[parquet] to determine which version is compatible with other requirements. This could take a while.\n  Downloading azureml_dataprep-5.3.3-py3-none-any.whl.metadata (2.2 kB)\n  Downloading azureml_dataprep-5.3.2-py3-none-any.whl.metadata (2.0 kB)\n  Downloading azureml_dataprep-5.3.1-py3-none-any.whl.metadata (2.0 kB)\n  Downloading azureml_dataprep-5.3.0-py3-none-any.whl.metadata (2.0 kB)\n  Downloading azureml_dataprep-5.2.1-py3-none-any.whl.metadata (2.0 kB)\n  Downloading azureml_dataprep-5.2.0-py3-none-any.whl.metadata (2.1 kB)\n  Downloading azureml_dataprep-5.1.6-py3-none-any.whl.metadata (2.2 kB)\nINFO: pip is still looking at multiple versions of azureml-dataprep[parquet] to determine which version is compatible with other requirements. This could take a while.\n  Downloading azureml_dataprep-5.1.5-py3-none-any.whl.metadata (2.2 kB)\n  Downloading azureml_dataprep-5.1.4-py3-none-any.whl.metadata (2.1 kB)\n  Downloading azureml_dataprep-5.1.3-py3-none-any.whl.metadata (2.1 kB)\n  Downloading azureml_dataprep-5.1.2-py3-none-any.whl.metadata (2.1 kB)\n  Downloading azureml_dataprep-5.1.1-py3-none-any.whl.metadata (2.1 kB)\nINFO: This is taking longer than usual. You might need to provide the dependency resolver with stricter constraints to reduce runtime. See https://pip.pypa.io/warnings/backtracking for guidance. If you want to abort this run, press Ctrl + C.\n  Downloading azureml_dataprep-5.1.0-py3-none-any.whl.metadata (2.1 kB)\nCollecting cloudpickle (from azureml-rag>=0.2.36->azureml-rag[faiss,hugging_face]>=0.2.36)\n  Downloading cloudpickle-2.2.0-py3-none-any.whl.metadata (6.9 kB)\nINFO: pip is still looking at multiple versions of azureml-rag[faiss,hugging-face] to determine which version is compatible with other requirements. This could take a while.\n  Downloading cloudpickle-2.1.0-py3-none-any.whl.metadata (6.9 kB)\n  Downloading cloudpickle-2.0.0-py3-none-any.whl.metadata (6.9 kB)\nCollecting azureml-dataprep-rslex~=2.22.0dev0 (from azureml-dataprep>=5.1->azureml-dataprep[parquet]>=5.1->azureml-rag>=0.2.36->azureml-rag[faiss,hugging_face]>=0.2.36)\n  Downloading azureml_dataprep_rslex-2.22.4-cp310-cp310-manylinux1_x86_64.whl.metadata (1.6 kB)\nINFO: This is taking longer than usual. You might need to provide the dependency resolver with stricter constraints to reduce runtime. See https://pip.pypa.io/warnings/backtracking for guidance. If you want to abort this run, press Ctrl + C.\n  Downloading azureml_dataprep_rslex-2.22.3-cp310-cp310-manylinux1_x86_64.whl.metadata (1.6 kB)\n  Downloading azureml_dataprep_rslex-2.22.2-cp310-cp310-manylinux_2_17_x86_64.manylinux2014_x86_64.whl.metadata (1.6 kB)\nCollecting azure-identity<=1.17.0,>=1.16.0 (from azureml-dataprep>=5.1->azureml-dataprep[parquet]>=5.1->azureml-rag>=0.2.36->azureml-rag[faiss,hugging_face]>=0.2.36)\n  Downloading azure_identity-1.16.1-py3-none-any.whl.metadata (77 kB)\n  Downloading azure_identity-1.16.0-py3-none-any.whl.metadata (76 kB)\nCollecting azureml-dataprep-native<42.0.0,>=41.0.0 (from azureml-dataprep[parquet]>=5.1->azureml-rag>=0.2.36->azureml-rag[faiss,hugging_face]>=0.2.36)\n  Downloading azureml_dataprep_native-41.0.0-cp310-cp310-manylinux1_x86_64.whl.metadata (1.3 kB)\nCollecting azureml-dataprep-rslex~=2.24.0dev0 (from azureml-dataprep[parquet]>=5.1->azureml-rag>=0.2.36->azureml-rag[faiss,hugging_face]>=0.2.36)\n  Downloading azureml_dataprep_rslex-2.24.6-cp310-cp310-manylinux1_x86_64.whl.metadata (1.8 kB)\n  Downloading azureml_dataprep_rslex-2.24.5-cp310-cp310-manylinux1_x86_64.whl.metadata (1.8 kB)\n  Downloading azureml_dataprep_rslex-2.24.4-cp310-cp310-manylinux1_x86_64.whl.metadata (1.8 kB)\nRequirement already satisfied: azure-identity>=1.16.0 in /anaconda/envs/jupyter_env/lib/python3.10/site-packages (from azureml-dataprep[parquet]>=5.1->azureml-rag>=0.2.36->azureml-rag[faiss,hugging_face]>=0.2.36) (1.24.0)\nCollecting azure-identity>=1.16.0 (from azureml-dataprep[parquet]>=5.1->azureml-rag>=0.2.36->azureml-rag[faiss,hugging_face]>=0.2.36)\n  Using cached azure_identity-1.24.0-py3-none-any.whl.metadata (86 kB)\nCollecting faiss-cpu~=1.7.3 (from azureml-rag[faiss,hugging_face]>=0.2.36)\n  Downloading faiss_cpu-1.7.3-cp310-cp310-manylinux_2_17_x86_64.manylinux2014_x86_64.whl.metadata (1.3 kB)\nCollecting azure-identity>=1.16.0 (from azureml-dataprep[parquet]>=5.1->azureml-rag>=0.2.36->azureml-rag[faiss,hugging_face]>=0.2.36)\n  Downloading azure_identity-1.23.1-py3-none-any.whl.metadata (82 kB)\nCollecting fsspec~=2023.3 (from azureml-rag>=0.2.36->azureml-rag[faiss,hugging_face]>=0.2.36)\n  Downloading fsspec-2023.10.0-py3-none-any.whl.metadata (6.8 kB)\nRequirement already satisfied: backports.weakref in /anaconda/envs/jupyter_env/lib/python3.10/site-packages (from backports.tempfile->azureml-core~=1.60->azureml-rag>=0.2.36->azureml-rag[faiss,hugging_face]>=0.2.36) (1.0.post1)\nRequirement already satisfied: numpy<3.0,>=1.25.0 in /anaconda/envs/jupyter_env/lib/python3.10/site-packages (from faiss-cpu->azureml-rag[faiss,hugging_face]>=0.2.36) (2.2.6)\nRequirement already satisfied: attrs>=22.2.0 in /anaconda/envs/jupyter_env/lib/python3.10/site-packages (from jsonschema->azureml-dataprep>=5.1->azureml-dataprep[parquet]>=5.1->azureml-rag>=0.2.36->azureml-rag[faiss,hugging_face]>=0.2.36) (25.3.0)\nRequirement already satisfied: jsonschema-specifications>=2023.03.6 in /anaconda/envs/jupyter_env/lib/python3.10/site-packages (from jsonschema->azureml-dataprep>=5.1->azureml-dataprep[parquet]>=5.1->azureml-rag>=0.2.36->azureml-rag[faiss,hugging_face]>=0.2.36) (2025.4.1)\nRequirement already satisfied: referencing>=0.28.4 in /anaconda/envs/jupyter_env/lib/python3.10/site-packages (from jsonschema->azureml-dataprep>=5.1->azureml-dataprep[parquet]>=5.1->azureml-rag>=0.2.36->azureml-rag[faiss,hugging_face]>=0.2.36) (0.36.2)\nRequirement already satisfied: rpds-py>=0.7.1 in /anaconda/envs/jupyter_env/lib/python3.10/site-packages (from jsonschema->azureml-dataprep>=5.1->azureml-dataprep[parquet]>=5.1->azureml-rag>=0.2.36->azureml-rag[faiss,hugging_face]>=0.2.36) (0.22.3)\nRequirement already satisfied: scipy>=1.8.0 in /anaconda/envs/jupyter_env/lib/python3.10/site-packages (from scikit-learn->azureml-rag[faiss,hugging_face]>=0.2.36) (1.15.3)\nCollecting joblib>=1.2.0 (from scikit-learn->azureml-rag[faiss,hugging_face]>=0.2.36)\n  Downloading joblib-1.5.1-py3-none-any.whl.metadata (5.6 kB)\nCollecting threadpoolctl>=3.1.0 (from scikit-learn->azureml-rag[faiss,hugging_face]>=0.2.36)\n  Downloading threadpoolctl-3.6.0-py3-none-any.whl.metadata (13 kB)\nCollecting transformers<5.0.0,>=4.41.0 (from sentence-transformers->azureml-rag[faiss,hugging_face]>=0.2.36)\n  Downloading transformers-4.55.0-py3-none-any.whl.metadata (39 kB)\nCollecting torch>=1.11.0 (from sentence-transformers->azureml-rag[faiss,hugging_face]>=0.2.36)\n  Downloading torch-2.8.0-cp310-cp310-manylinux_2_28_x86_64.whl.metadata (30 kB)\nCollecting Pillow (from sentence-transformers->azureml-rag[faiss,hugging_face]>=0.2.36)\n  Downloading pillow-11.3.0-cp310-cp310-manylinux_2_27_x86_64.manylinux_2_28_x86_64.whl.metadata (9.0 kB)\nCollecting tokenizers<0.22,>=0.21 (from transformers<5.0.0,>=4.41.0->sentence-transformers->azureml-rag[faiss,hugging_face]>=0.2.36)\n  Downloading tokenizers-0.21.4-cp39-abi3-manylinux_2_17_x86_64.manylinux2014_x86_64.whl.metadata (6.7 kB)\nCollecting safetensors>=0.4.3 (from transformers<5.0.0,>=4.41.0->sentence-transformers->azureml-rag[faiss,hugging_face]>=0.2.36)\n  Downloading safetensors-0.6.2-cp38-abi3-manylinux_2_17_x86_64.manylinux2014_x86_64.whl.metadata (4.1 kB)\nCollecting sympy>=1.13.3 (from torch>=1.11.0->sentence-transformers->azureml-rag[faiss,hugging_face]>=0.2.36)\n  Downloading sympy-1.14.0-py3-none-any.whl.metadata (12 kB)\nCollecting networkx (from torch>=1.11.0->sentence-transformers->azureml-rag[faiss,hugging_face]>=0.2.36)\n  Downloading networkx-3.4.2-py3-none-any.whl.metadata (6.3 kB)\nRequirement already satisfied: jinja2 in /anaconda/envs/jupyter_env/lib/python3.10/site-packages (from torch>=1.11.0->sentence-transformers->azureml-rag[faiss,hugging_face]>=0.2.36) (3.1.6)\nCollecting nvidia-cuda-nvrtc-cu12==12.8.93 (from torch>=1.11.0->sentence-transformers->azureml-rag[faiss,hugging_face]>=0.2.36)\n  Downloading nvidia_cuda_nvrtc_cu12-12.8.93-py3-none-manylinux2010_x86_64.manylinux_2_12_x86_64.whl.metadata (1.7 kB)\nCollecting nvidia-cuda-runtime-cu12==12.8.90 (from torch>=1.11.0->sentence-transformers->azureml-rag[faiss,hugging_face]>=0.2.36)\n  Downloading nvidia_cuda_runtime_cu12-12.8.90-py3-none-manylinux2014_x86_64.manylinux_2_17_x86_64.whl.metadata (1.7 kB)\nCollecting nvidia-cuda-cupti-cu12==12.8.90 (from torch>=1.11.0->sentence-transformers->azureml-rag[faiss,hugging_face]>=0.2.36)\n  Downloading nvidia_cuda_cupti_cu12-12.8.90-py3-none-manylinux2014_x86_64.manylinux_2_17_x86_64.whl.metadata (1.7 kB)\nCollecting nvidia-cudnn-cu12==9.10.2.21 (from torch>=1.11.0->sentence-transformers->azureml-rag[faiss,hugging_face]>=0.2.36)\n  Downloading nvidia_cudnn_cu12-9.10.2.21-py3-none-manylinux_2_27_x86_64.whl.metadata (1.8 kB)\nCollecting nvidia-cublas-cu12==12.8.4.1 (from torch>=1.11.0->sentence-transformers->azureml-rag[faiss,hugging_face]>=0.2.36)\n  Downloading nvidia_cublas_cu12-12.8.4.1-py3-none-manylinux_2_27_x86_64.whl.metadata (1.7 kB)\nCollecting nvidia-cufft-cu12==11.3.3.83 (from torch>=1.11.0->sentence-transformers->azureml-rag[faiss,hugging_face]>=0.2.36)\n  Downloading nvidia_cufft_cu12-11.3.3.83-py3-none-manylinux2014_x86_64.manylinux_2_17_x86_64.whl.metadata (1.7 kB)\nCollecting nvidia-curand-cu12==10.3.9.90 (from torch>=1.11.0->sentence-transformers->azureml-rag[faiss,hugging_face]>=0.2.36)\n  Downloading nvidia_curand_cu12-10.3.9.90-py3-none-manylinux_2_27_x86_64.whl.metadata (1.7 kB)\nCollecting nvidia-cusolver-cu12==11.7.3.90 (from torch>=1.11.0->sentence-transformers->azureml-rag[faiss,hugging_face]>=0.2.36)\n  Downloading nvidia_cusolver_cu12-11.7.3.90-py3-none-manylinux_2_27_x86_64.whl.metadata (1.8 kB)\nCollecting nvidia-cusparse-cu12==12.5.8.93 (from torch>=1.11.0->sentence-transformers->azureml-rag[faiss,hugging_face]>=0.2.36)\n  Downloading nvidia_cusparse_cu12-12.5.8.93-py3-none-manylinux2014_x86_64.manylinux_2_17_x86_64.whl.metadata (1.8 kB)\nCollecting nvidia-cusparselt-cu12==0.7.1 (from torch>=1.11.0->sentence-transformers->azureml-rag[faiss,hugging_face]>=0.2.36)\n  Downloading nvidia_cusparselt_cu12-0.7.1-py3-none-manylinux2014_x86_64.whl.metadata (7.0 kB)\nCollecting nvidia-nccl-cu12==2.27.3 (from torch>=1.11.0->sentence-transformers->azureml-rag[faiss,hugging_face]>=0.2.36)\n  Downloading nvidia_nccl_cu12-2.27.3-py3-none-manylinux2014_x86_64.manylinux_2_17_x86_64.whl.metadata (2.0 kB)\nCollecting nvidia-nvtx-cu12==12.8.90 (from torch>=1.11.0->sentence-transformers->azureml-rag[faiss,hugging_face]>=0.2.36)\n  Downloading nvidia_nvtx_cu12-12.8.90-py3-none-manylinux2014_x86_64.manylinux_2_17_x86_64.whl.metadata (1.8 kB)\nCollecting nvidia-nvjitlink-cu12==12.8.93 (from torch>=1.11.0->sentence-transformers->azureml-rag[faiss,hugging_face]>=0.2.36)\n  Downloading nvidia_nvjitlink_cu12-12.8.93-py3-none-manylinux2010_x86_64.manylinux_2_12_x86_64.whl.metadata (1.7 kB)\nCollecting nvidia-cufile-cu12==1.13.1.3 (from torch>=1.11.0->sentence-transformers->azureml-rag[faiss,hugging_face]>=0.2.36)\n  Downloading nvidia_cufile_cu12-1.13.1.3-py3-none-manylinux2014_x86_64.manylinux_2_17_x86_64.whl.metadata (1.7 kB)\nCollecting triton==3.4.0 (from torch>=1.11.0->sentence-transformers->azureml-rag[faiss,hugging_face]>=0.2.36)\n  Downloading triton-3.4.0-cp310-cp310-manylinux_2_27_x86_64.manylinux_2_28_x86_64.whl.metadata (1.7 kB)\nRequirement already satisfied: setuptools>=40.8.0 in /anaconda/envs/jupyter_env/lib/python3.10/site-packages (from triton==3.4.0->torch>=1.11.0->sentence-transformers->azureml-rag[faiss,hugging_face]>=0.2.36) (78.1.1)\nCollecting mpmath<1.4,>=1.1.0 (from sympy>=1.13.3->torch>=1.11.0->sentence-transformers->azureml-rag[faiss,hugging_face]>=0.2.36)\n  Downloading mpmath-1.3.0-py3-none-any.whl.metadata (8.6 kB)\nRequirement already satisfied: MarkupSafe>=2.0 in /anaconda/envs/jupyter_env/lib/python3.10/site-packages (from jinja2->torch>=1.11.0->sentence-transformers->azureml-rag[faiss,hugging_face]>=0.2.36) (2.1.1)\nDownloading azureml_rag-0.2.39.2-py3-none-any.whl (4.1 MB)\n\u001b[2K   \u001b[90m━━━━━━━━━━━━━━━━━━━━━━━━━━━━━━━━━━━━━━━━\u001b[0m \u001b[32m4.1/4.1 MB\u001b[0m \u001b[31m22.1 MB/s\u001b[0m eta \u001b[36m0:00:00\u001b[0m\n\u001b[?25hDownloading tiktoken-0.11.0-cp310-cp310-manylinux_2_17_x86_64.manylinux2014_x86_64.whl (1.2 MB)\n\u001b[2K   \u001b[90m━━━━━━━━━━━━━━━━━━━━━━━━━━━━━━━━━━━━━━━━\u001b[0m \u001b[32m1.2/1.2 MB\u001b[0m \u001b[31m6.9 MB/s\u001b[0m eta \u001b[36m0:00:00\u001b[0m\n\u001b[?25hDownloading azureml_dataprep_rslex-2.22.5-cp310-cp310-manylinux1_x86_64.whl (24.8 MB)\n\u001b[2K   \u001b[90m━━━━━━━━━━━━━━━━━━━━━━━━━━━━━━━━━━━━━━━━\u001b[0m \u001b[32m24.8/24.8 MB\u001b[0m \u001b[31m29.2 MB/s\u001b[0m eta \u001b[36m0:00:00\u001b[0m:00:01\u001b[0m00:01\u001b[0m\n\u001b[?25hDownloading azureml_dataprep_native-41.0.0-cp310-cp310-manylinux1_x86_64.whl (187 kB)\nDownloading cloudpickle-2.2.1-py3-none-any.whl (25 kB)\nDownloading azureml_dataprep-5.1.6-py3-none-any.whl (252 kB)\nDownloading huggingface_hub-0.34.4-py3-none-any.whl (561 kB)\n\u001b[2K   \u001b[90m━━━━━━━━━━━━━━━━━━━━━━━━━━━━━━━━━━━━━━━━\u001b[0m \u001b[32m561.5/561.5 kB\u001b[0m \u001b[31m2.3 MB/s\u001b[0m eta \u001b[36m0:00:00\u001b[0m\n\u001b[?25hDownloading hf_xet-1.1.7-cp37-abi3-manylinux_2_17_x86_64.manylinux2014_x86_64.whl (3.2 MB)\n\u001b[2K   \u001b[90m━━━━━━━━━━━━━━━━━━━━━━━━━━━━━━━━━━━━━━━━\u001b[0m \u001b[32m3.2/3.2 MB\u001b[0m \u001b[31m14.7 MB/s\u001b[0m eta \u001b[36m0:00:00\u001b[0m\n\u001b[?25hDownloading openai-1.99.6-py3-none-any.whl (786 kB)\n\u001b[2K   \u001b[90m━━━━━━━━━━━━━━━━━━━━━━━━━━━━━━━━━━━━━━━━\u001b[0m \u001b[32m786.3/786.3 kB\u001b[0m \u001b[31m2.6 MB/s\u001b[0m eta \u001b[36m0:00:00\u001b[0m\n\u001b[?25hDownloading jiter-0.10.0-cp310-cp310-manylinux_2_17_x86_64.manylinux2014_x86_64.whl (352 kB)\nDownloading regex-2025.7.34-cp310-cp310-manylinux2014_x86_64.manylinux_2_17_x86_64.manylinux_2_28_x86_64.whl (789 kB)\n\u001b[2K   \u001b[90m━━━━━━━━━━━━━━━━━━━━━━━━━━━━━━━━━━━━━━━━\u001b[0m \u001b[32m789.8/789.8 kB\u001b[0m \u001b[31m11.6 MB/s\u001b[0m eta \u001b[36m0:00:00\u001b[0m\n\u001b[?25hDownloading azureml_fsspec-1.3.1-py3-none-any.whl (16 kB)\nDownloading fsspec-2023.10.0-py3-none-any.whl (166 kB)\nDownloading faiss_cpu-1.11.0.post1-cp310-cp310-manylinux_2_27_x86_64.manylinux_2_28_x86_64.whl (31.3 MB)\n\u001b[2K   \u001b[90m━━━━━━━━━━━━━━━━━━━━━━━━━━━━━━━━━━━━━━━━\u001b[0m \u001b[32m31.3/31.3 MB\u001b[0m \u001b[31m19.2 MB/s\u001b[0m eta \u001b[36m0:00:00\u001b[0m00:01\u001b[0m:00:01\u001b[0m\n\u001b[?25hDownloading mmh3-5.2.0-cp310-cp310-manylinux1_x86_64.manylinux_2_28_x86_64.manylinux_2_5_x86_64.whl (101 kB)\nDownloading scikit_learn-1.7.1-cp310-cp310-manylinux2014_x86_64.manylinux_2_17_x86_64.whl (9.7 MB)\n\u001b[2K   \u001b[90m━━━━━━━━━━━━━━━━━━━━━━━━━━━━━━━━━━━━━━━━\u001b[0m \u001b[32m9.7/9.7 MB\u001b[0m \u001b[31m13.4 MB/s\u001b[0m eta \u001b[36m0:00:00\u001b[0m:00:01\u001b[0m\n\u001b[?25hDownloading joblib-1.5.1-py3-none-any.whl (307 kB)\nDownloading threadpoolctl-3.6.0-py3-none-any.whl (18 kB)\nDownloading sentence_transformers-5.1.0-py3-none-any.whl (483 kB)\nDownloading transformers-4.55.0-py3-none-any.whl (11.3 MB)\n\u001b[2K   \u001b[90m━━━━━━━━━━━━━━━━━━━━━━━━━━━━━━━━━━━━━━━━\u001b[0m \u001b[32m11.3/11.3 MB\u001b[0m \u001b[31m12.2 MB/s\u001b[0m eta \u001b[36m0:00:00\u001b[0m:00:01\u001b[0m\n\u001b[?25hDownloading tokenizers-0.21.4-cp39-abi3-manylinux_2_17_x86_64.manylinux2014_x86_64.whl (3.1 MB)\n\u001b[2K   \u001b[90m━━━━━━━━━━━━━━━━━━━━━━━━━━━━━━━━━━━━━━━━\u001b[0m \u001b[32m3.1/3.1 MB\u001b[0m \u001b[31m13.5 MB/s\u001b[0m eta \u001b[36m0:00:00\u001b[0ma \u001b[36m0:00:01\u001b[0m\n\u001b[?25hDownloading safetensors-0.6.2-cp38-abi3-manylinux_2_17_x86_64.manylinux2014_x86_64.whl (485 kB)\nDownloading torch-2.8.0-cp310-cp310-manylinux_2_28_x86_64.whl (888.0 MB)\n\u001b[2K   \u001b[90m━━━━━━━━━━━━━━━━━━━━━━━━━━━━━━━━━━━━━━━━\u001b[0m \u001b[32m888.0/888.0 MB\u001b[0m \u001b[31m12.1 MB/s\u001b[0m eta \u001b[36m0:00:00\u001b[0m00:01\u001b[0m00:01\u001b[0m\n\u001b[?25hDownloading nvidia_cublas_cu12-12.8.4.1-py3-none-manylinux_2_27_x86_64.whl (594.3 MB)\n\u001b[2K   \u001b[90m━━━━━━━━━━━━━━━━━━━━━━━━━━━━━━━━━━━━━━━━\u001b[0m \u001b[32m594.3/594.3 MB\u001b[0m \u001b[31m13.6 MB/s\u001b[0m eta \u001b[36m0:00:00\u001b[0m00:01\u001b[0m00:01\u001b[0m\n\u001b[?25hDownloading nvidia_cuda_cupti_cu12-12.8.90-py3-none-manylinux2014_x86_64.manylinux_2_17_x86_64.whl (10.2 MB)\n\u001b[2K   \u001b[90m━━━━━━━━━━━━━━━━━━━━━━━━━━━━━━━━━━━━━━━━\u001b[0m \u001b[32m10.2/10.2 MB\u001b[0m \u001b[31m18.6 MB/s\u001b[0m eta \u001b[36m0:00:00\u001b[0m:00:01\u001b[0m\n\u001b[?25hDownloading nvidia_cuda_nvrtc_cu12-12.8.93-py3-none-manylinux2010_x86_64.manylinux_2_12_x86_64.whl (88.0 MB)\n\u001b[2K   \u001b[90m━━━━━━━━━━━━━━━━━━━━━━━━━━━━━━━━━━━━━━━━\u001b[0m \u001b[32m88.0/88.0 MB\u001b[0m \u001b[31m15.4 MB/s\u001b[0m eta \u001b[36m0:00:00\u001b[0m00:01\u001b[0m00:01\u001b[0m\n\u001b[?25hDownloading nvidia_cuda_runtime_cu12-12.8.90-py3-none-manylinux2014_x86_64.manylinux_2_17_x86_64.whl (954 kB)\n\u001b[2K   \u001b[90m━━━━━━━━━━━━━━━━━━━━━━━━━━━━━━━━━━━━━━━━\u001b[0m \u001b[32m954.8/954.8 kB\u001b[0m \u001b[31m2.0 MB/s\u001b[0m eta \u001b[36m0:00:00\u001b[0mta \u001b[36m0:00:01\u001b[0m\n\u001b[?25hDownloading nvidia_cudnn_cu12-9.10.2.21-py3-none-manylinux_2_27_x86_64.whl (706.8 MB)\n\u001b[2K   \u001b[90m━━━━━━━━━━━━━━━━━━━━━━━━━━━━━━━━━━━━━━━━\u001b[0m \u001b[32m706.8/706.8 MB\u001b[0m \u001b[31m11.4 MB/s\u001b[0m eta \u001b[36m0:00:00\u001b[0m00:01\u001b[0m00:02\u001b[0m\n\u001b[?25hDownloading nvidia_cufft_cu12-11.3.3.83-py3-none-manylinux2014_x86_64.manylinux_2_17_x86_64.whl (193.1 MB)\n\u001b[2K   \u001b[90m━━━━━━━━━━━━━━━━━━━━━━━━━━━━━━━━━━━━━━━━\u001b[0m \u001b[32m193.1/193.1 MB\u001b[0m \u001b[31m20.8 MB/s\u001b[0m eta \u001b[36m0:00:00\u001b[0m00:01\u001b[0m00:01\u001b[0m\n\u001b[?25hDownloading nvidia_cufile_cu12-1.13.1.3-py3-none-manylinux2014_x86_64.manylinux_2_17_x86_64.whl (1.2 MB)\n\u001b[2K   \u001b[90m━━━━━━━━━━━━━━━━━━━━━━━━━━━━━━━━━━━━━━━━\u001b[0m \u001b[32m1.2/1.2 MB\u001b[0m \u001b[31m5.0 MB/s\u001b[0m eta \u001b[36m0:00:00\u001b[0m\n\u001b[?25hDownloading nvidia_curand_cu12-10.3.9.90-py3-none-manylinux_2_27_x86_64.whl (63.6 MB)\n\u001b[2K   \u001b[90m━━━━━━━━━━━━━━━━━━━━━━━━━━━━━━━━━━━━━━━━\u001b[0m \u001b[32m63.6/63.6 MB\u001b[0m \u001b[31m16.9 MB/s\u001b[0m eta \u001b[36m0:00:00\u001b[0m00:01\u001b[0m00:01\u001b[0m\n\u001b[?25hDownloading nvidia_cusolver_cu12-11.7.3.90-py3-none-manylinux_2_27_x86_64.whl (267.5 MB)\n\u001b[2K   \u001b[90m━━━━━━━━━━━━━━━━━━━━━━━━━━━━━━━━━━━━━━━━\u001b[0m \u001b[32m267.5/267.5 MB\u001b[0m \u001b[31m19.4 MB/s\u001b[0m eta \u001b[36m0:00:00\u001b[0m00:01\u001b[0m00:01\u001b[0m\n\u001b[?25hDownloading nvidia_cusparse_cu12-12.5.8.93-py3-none-manylinux2014_x86_64.manylinux_2_17_x86_64.whl (288.2 MB)\n\u001b[2K   \u001b[90m━━━━━━━━━━━━━━━━━━━━━━━━━━━━━━━━━━━━━━━━\u001b[0m \u001b[32m288.2/288.2 MB\u001b[0m \u001b[31m20.4 MB/s\u001b[0m eta \u001b[36m0:00:00\u001b[0m00:01\u001b[0m00:01\u001b[0m\n\u001b[?25hDownloading nvidia_cusparselt_cu12-0.7.1-py3-none-manylinux2014_x86_64.whl (287.2 MB)\n\u001b[2K   \u001b[90m━━━━━━━━━━━━━━━━━━━━━━━━━━━━━━━━━━━━━━━━\u001b[0m \u001b[32m287.2/287.2 MB\u001b[0m \u001b[31m20.9 MB/s\u001b[0m eta \u001b[36m0:00:00\u001b[0m00:01\u001b[0m00:01\u001b[0m\n\u001b[?25hDownloading nvidia_nccl_cu12-2.27.3-py3-none-manylinux2014_x86_64.manylinux_2_17_x86_64.whl (322.4 MB)\n\u001b[2K   \u001b[90m━━━━━━━━━━━━━━━━━━━━━━━━━━━━━━━━━━━━━━━━\u001b[0m \u001b[32m322.4/322.4 MB\u001b[0m \u001b[31m18.5 MB/s\u001b[0m eta \u001b[36m0:00:00\u001b[0m00:01\u001b[0m00:01\u001b[0m\n\u001b[?25hDownloading nvidia_nvjitlink_cu12-12.8.93-py3-none-manylinux2010_x86_64.manylinux_2_12_x86_64.whl (39.3 MB)\n\u001b[2K   \u001b[90m━━━━━━━━━━━━━━━━━━━━━━━━━━━━━━━━━━━━━━━━\u001b[0m \u001b[32m39.3/39.3 MB\u001b[0m \u001b[31m27.9 MB/s\u001b[0m eta \u001b[36m0:00:00\u001b[0m00:01\u001b[0m00:01\u001b[0m\n\u001b[?25hDownloading nvidia_nvtx_cu12-12.8.90-py3-none-manylinux2014_x86_64.manylinux_2_17_x86_64.whl (89 kB)\nDownloading triton-3.4.0-cp310-cp310-manylinux_2_27_x86_64.manylinux_2_28_x86_64.whl (155.4 MB)\n\u001b[2K   \u001b[90m━━━━━━━━━━━━━━━━━━━━━━━━━━━━━━━━━━━━━━━━\u001b[0m \u001b[32m155.4/155.4 MB\u001b[0m \u001b[31m19.3 MB/s\u001b[0m eta \u001b[36m0:00:00\u001b[0m00:01\u001b[0m00:01\u001b[0m\n\u001b[?25hDownloading sympy-1.14.0-py3-none-any.whl (6.3 MB)\n\u001b[2K   \u001b[90m━━━━━━━━━━━━━━━━━━━━━━━━━━━━━━━━━━━━━━━━\u001b[0m \u001b[32m6.3/6.3 MB\u001b[0m \u001b[31m23.5 MB/s\u001b[0m eta \u001b[36m0:00:00\u001b[0m:00:01\u001b[0m\n\u001b[?25hDownloading mpmath-1.3.0-py3-none-any.whl (536 kB)\n\u001b[2K   \u001b[90m━━━━━━━━━━━━━━━━━━━━━━━━━━━━━━━━━━━━━━━━\u001b[0m \u001b[32m536.2/536.2 kB\u001b[0m \u001b[31m2.1 MB/s\u001b[0m eta \u001b[36m0:00:00\u001b[0m\n\u001b[?25hDownloading networkx-3.4.2-py3-none-any.whl (1.7 MB)\n\u001b[2K   \u001b[90m━━━━━━━━━━━━━━━━━━━━━━━━━━━━━━━━━━━━━━━━\u001b[0m \u001b[32m1.7/1.7 MB\u001b[0m \u001b[31m10.6 MB/s\u001b[0m eta \u001b[36m0:00:00\u001b[0m\n\u001b[?25hDownloading pillow-11.3.0-cp310-cp310-manylinux_2_27_x86_64.manylinux_2_28_x86_64.whl (6.6 MB)\n\u001b[2K   \u001b[90m━━━━━━━━━━━━━━━━━━━━━━━━━━━━━━━━━━━━━━━━\u001b[0m \u001b[32m6.6/6.6 MB\u001b[0m \u001b[31m19.3 MB/s\u001b[0m eta \u001b[36m0:00:00\u001b[0m00:01\u001b[0m\n\u001b[?25hInstalling collected packages: nvidia-cusparselt-cu12, mpmath, azureml-dataprep-rslex, azureml-dataprep-native, triton, threadpoolctl, sympy, safetensors, regex, Pillow, nvidia-nvtx-cu12, nvidia-nvjitlink-cu12, nvidia-nccl-cu12, nvidia-curand-cu12, nvidia-cufile-cu12, nvidia-cuda-runtime-cu12, nvidia-cuda-nvrtc-cu12, nvidia-cuda-cupti-cu12, nvidia-cublas-cu12, networkx, mmh3, joblib, jiter, hf-xet, fsspec, faiss-cpu, cloudpickle, tiktoken, scikit-learn, nvidia-cusparse-cu12, nvidia-cufft-cu12, nvidia-cudnn-cu12, huggingface-hub, tokenizers, nvidia-cusolver-cu12, transformers, torch, openai, sentence-transformers, azureml-dataprep, azureml-fsspec, azureml-rag\n\u001b[2K  Attempting uninstall: fsspec[0m\u001b[91m╸\u001b[0m\u001b[90m━━━━━━━━━━━━━━━━━━\u001b[0m \u001b[32m23/42\u001b[0m [hf-xet]x]blas-cu12]u12]2]\n\u001b[2K    Found existing installation: fsspec 2025.5.1━━━━━━━━━━━━━━\u001b[0m \u001b[32m23/42\u001b[0m [hf-xet]\n\u001b[2K    Uninstalling fsspec-2025.5.1:m\u001b[91m╸\u001b[0m\u001b[90m━━━━━━━━━━━━━━━━━\u001b[0m \u001b[32m24/42\u001b[0m [fsspec]\n\u001b[2K      Successfully uninstalled fsspec-2025.5.1━━━━━━━━━━━━━━━━\u001b[0m \u001b[32m24/42\u001b[0m [fsspec]\n\u001b[2K  Attempting uninstall: cloudpickle\u001b[91m╸\u001b[0m\u001b[90m━━━━━━━━━━━━━━━━\u001b[0m \u001b[32m25/42\u001b[0m [faiss-cpu]\n\u001b[2K    Found existing installation: cloudpickle 3.1.1━━━━━━━━━━━━\u001b[0m \u001b[32m25/42\u001b[0m [faiss-cpu]\n\u001b[2K    Uninstalling cloudpickle-3.1.1:m╸\u001b[0m\u001b[90m━━━━━━━━━━━━━━━━\u001b[0m \u001b[32m25/42\u001b[0m [faiss-cpu]\n\u001b[2K      Successfully uninstalled cloudpickle-3.1.1━━━━━━━━━━━━━━\u001b[0m \u001b[32m25/42\u001b[0m [faiss-cpu]\n\u001b[2K   \u001b[90m━━━━━━━━━━━━━━━━━━━━━━━━━━━━━━━━━━━━━━━━\u001b[0m \u001b[32m42/42\u001b[0m [azureml-rag]reml-rag]reml-fsspec]p]mers]\n\u001b[1A\u001b[2KSuccessfully installed Pillow-11.3.0 azureml-dataprep-5.1.6 azureml-dataprep-native-41.0.0 azureml-dataprep-rslex-2.22.5 azureml-fsspec-1.3.1 azureml-rag-0.2.39.2 cloudpickle-2.2.1 faiss-cpu-1.11.0.post1 fsspec-2023.10.0 hf-xet-1.1.7 huggingface-hub-0.34.4 jiter-0.10.0 joblib-1.5.1 mmh3-5.2.0 mpmath-1.3.0 networkx-3.4.2 nvidia-cublas-cu12-12.8.4.1 nvidia-cuda-cupti-cu12-12.8.90 nvidia-cuda-nvrtc-cu12-12.8.93 nvidia-cuda-runtime-cu12-12.8.90 nvidia-cudnn-cu12-9.10.2.21 nvidia-cufft-cu12-11.3.3.83 nvidia-cufile-cu12-1.13.1.3 nvidia-curand-cu12-10.3.9.90 nvidia-cusolver-cu12-11.7.3.90 nvidia-cusparse-cu12-12.5.8.93 nvidia-cusparselt-cu12-0.7.1 nvidia-nccl-cu12-2.27.3 nvidia-nvjitlink-cu12-12.8.93 nvidia-nvtx-cu12-12.8.90 openai-1.99.6 regex-2025.7.34 safetensors-0.6.2 scikit-learn-1.7.1 sentence-transformers-5.1.0 sympy-1.14.0 threadpoolctl-3.6.0 tiktoken-0.11.0 tokenizers-0.21.4 torch-2.8.0 transformers-4.55.0 triton-3.4.0\nNote: you may need to restart the kernel to use updated packages.\n"
        }
      ],
      "execution_count": 1,
      "metadata": {
        "gather": {
          "logged": 1754891716609
        }
      }
    },
    {
      "cell_type": "markdown",
      "source": [
        "## **2. Configure Azure Machine Learning Workspace**"
      ],
      "metadata": {}
    },
    {
      "cell_type": "markdown",
      "source": [
        "### Get client for AzureML Workspace"
      ],
      "metadata": {}
    },
    {
      "cell_type": "code",
      "source": [
        "# Import necessary AzureML and authentication libraries\n",
        "from azure.identity import DefaultAzureCredential, InteractiveBrowserCredential\n",
        "from azure.ai.ml import MLClient\n",
        "from azureml.core import Workspace"
      ],
      "outputs": [],
      "execution_count": 2,
      "metadata": {
        "gather": {
          "logged": 1754891729508
        }
      }
    },
    {
      "cell_type": "code",
      "source": [
        "%%writefile workspace.json\n",
        "{\n",
        "    \"subscription_id\": \"YOUR_SUBSCRIPTION_ID\",\n",
        "    \"resource_group\": \"YOUR_RESOURCE_GROUP\", \n",
        "    \"workspace_name\": \"Medical_Assistant_Project\"  \n",
        "}"
      ],
      "outputs": [
        {
          "output_type": "stream",
          "name": "stdout",
          "text": "Overwriting workspace.json\n"
        }
      ],
      "execution_count": 3,
      "metadata": {}
    },
    {
      "cell_type": "code",
      "source": [
        "# Initialize credentials for Azure authentication\n",
        "try:\n",
        "    credential = DefaultAzureCredential()\n",
        "    # Check if given credential can get token successfully.\n",
        "    credential.get_token(\"https://management.azure.com/.default\")\n",
        "except Exception as ex:\n",
        "    # Fall back to InteractiveBrowserCredential in case DefaultAzureCredential not work\n",
        "    credential = InteractiveBrowserCredential()"
      ],
      "outputs": [],
      "execution_count": 4,
      "metadata": {
        "gather": {
          "logged": 1754891729871
        }
      }
    },
    {
      "cell_type": "code",
      "source": [
        "# Initialize the MLClient to connect with AzureML\n",
        "ml_client = MLClient.from_config(credential=credential, path=\"workspace.json\")"
      ],
      "outputs": [
        {
          "output_type": "stream",
          "name": "stderr",
          "text": "Found the config file in: workspace.json\n"
        }
      ],
      "execution_count": 5,
      "metadata": {
        "gather": {
          "logged": 1754891731834
        }
      }
    },
    {
      "cell_type": "code",
      "source": [
        "# Create an AzureML Workspace object\n",
        "ws = Workspace(\n",
        "    subscription_id=ml_client.subscription_id,\n",
        "    resource_group=ml_client.resource_group_name,\n",
        "    workspace_name=ml_client.workspace_name,\n",
        ")\n",
        "\n",
        "\n",
        "# Verify the client and workspace details\n",
        "print(ml_client)"
      ],
      "outputs": [
        {
          "output_type": "stream",
          "name": "stdout",
          "text": "MLClient(credential=<azure.identity._credentials.default.DefaultAzureCredential object at 0x71cdc2929270>,\n         subscription_id=4f09e3ea-f8bf-4641-9b58-32f1b34d014c,\n         resource_group_name=GL_May2025_Daniel,\n         workspace_name=Medical_Assistant_Project)\n"
        }
      ],
      "execution_count": 6,
      "metadata": {
        "gather": {
          "logged": 1754891733296
        }
      }
    },
    {
      "attachments": {},
      "cell_type": "markdown",
      "source": [
        "## **3. Register the Reports Dataset as a Data Asset**"
      ],
      "metadata": {}
    },
    {
      "cell_type": "code",
      "source": [
        "# Import libraries for data registration\n",
        "from azure.ai.ml.entities import Data\n",
        "from azure.ai.ml.constants import AssetTypes\n",
        "import zipfile\n",
        "import os\n",
        "\n",
        "# Path to the ZIP file containing Tesla annual reports\n",
        "zip_file_path = 'MedicalDiagnosisManuals.zip'\n",
        "\n",
        "# Directory to extract the reports\n",
        "extract_to_directory = './extracted_dataset_reports'\n",
        "os.makedirs(extract_to_directory, exist_ok=True)\n",
        "\n",
        "# Extract the ZIP file containing the reports\n",
        "with zipfile.ZipFile(zip_file_path, 'r') as zip_ref:\n",
        "    zip_ref.extractall(extract_to_directory)\n",
        "\n",
        "# Register the extracted data as a Data asset in AzureML\n",
        "local_data_path = extract_to_directory\n",
        "data_asset = Data(\n",
        "    path=local_data_path,\n",
        "    type=AssetTypes.URI_FOLDER,  # Registering as a folder URI\n",
        "    description=\"MedicalDiagnosis collected manuals for embedding generation\",\n",
        "    name=\"MedicalDiagnosis-dataset-reports\"\n",
        ")\n",
        "\n",
        "# Use the MLClient to register the data asset\n",
        "ml_client.data.create_or_update(data_asset)\n",
        "print(f\"Data asset '{data_asset.name}' registered successfully.\")"
      ],
      "outputs": [
        {
          "output_type": "stream",
          "name": "stdout",
          "text": "Data asset 'MedicalDiagnosis-dataset-reports' registered successfully.\n"
        }
      ],
      "execution_count": 7,
      "metadata": {
        "gather": {
          "logged": 1754891738972
        }
      }
    },
    {
      "cell_type": "markdown",
      "source": [
        "## **4. Set Up Azure OpenAI Connection**"
      ],
      "metadata": {}
    },
    {
      "cell_type": "markdown",
      "source": [
        "### Run the cells under _either_ heading (OpenAI or HuggingFace) to use the respective embedding model"
      ],
      "metadata": {}
    },
    {
      "cell_type": "markdown",
      "source": [
        "#### **Note:**\n",
        "\n",
        "When selecting an embedding model, ensure consistency between the embedding model used here and the one configured for your vectorstore retriever. Using mismatched models may result in dimension mismatches, leading to errors during vector retrieval. For example:\n",
        "\n",
        "- If you use the `text-embedding-ada-002` model from Azure OpenAI for embedding creation, ensure the same model is specified for the vectorstore retriever.\n",
        "- Similarly, if using a HuggingFace model like `all-mpnet-base-v2`, configure the vectorstore retriever with this model.\n",
        "\n",
        "Maintaining alignment between the embedding model and vectorstore retriever is crucial for the proper functioning of your pipeline."
      ],
      "metadata": {}
    },
    {
      "cell_type": "markdown",
      "source": [
        "#### OpenAI"
      ],
      "metadata": {}
    },
    {
      "cell_type": "code",
      "source": [
        "# # Azure Open AI redentials and the id of the deployed chat model are stored as\n",
        "# # key value pairs in a json file\n",
        "\n",
        "with open('config.json', 'r') as az_creds:\n",
        "    data = az_creds.read()\n",
        "\n",
        "# Credentials to authenticate to the personalized Open AI model server\n",
        "import json\n",
        "creds = json.loads(data)\n"
      ],
      "outputs": [],
      "execution_count": 8,
      "metadata": {
        "gather": {
          "logged": 1754891739077
        },
        "jupyter": {
          "outputs_hidden": false,
          "source_hidden": false
        },
        "nteract": {
          "transient": {
            "deleting": false
          }
        }
      }
    },
    {
      "cell_type": "code",
      "source": [
        "from azureml.rag.utils.connections import get_connection_by_name_v2, create_connection_v2\n",
        "\n",
        "# Define the connection name for Azure OpenAI\n",
        "aoai_connection_name = \"MedicalAssistant_AzureOpenAI_Connection\"\n",
        "\n",
        "# If the connection doesn't exist, create a new one\n",
        "target = creds[\"AZURE_OPENAI_ENDPOINT\"]  # Replace with your Azure OpenAI endpoint\n",
        "key = creds[\"AZURE_OPENAI_KEY\"]          # Replace with your Azure OpenAI API key\n",
        "api_version = creds[\"AZURE_OPENAI_APIVERSION\"]    # Replace with the appropriate API version\n",
        "\n",
        "aoai_connection = create_connection_v2(\n",
        "     workspace=ws,\n",
        "     name=aoai_connection_name,\n",
        "     category=\"AzureOpenAI\",\n",
        "     target=target,\n",
        "     auth_type=\"ApiKey\",\n",
        "     credentials={\"key\": key},\n",
        "     metadata={\"ApiType\": \"azure\", \"ApiVersion\": api_version},\n",
        " )\n",
        "\n",
        "aoai_connection_id = aoai_connection[\"id\"]\n",
        "\n",
        "print(f\"Azure OpenAI connection created or retrieved successfully: {aoai_connection_id}\")"
      ],
      "outputs": [
        {
          "output_type": "stream",
          "name": "stdout",
          "text": "Azure OpenAI connection created or retrieved successfully: /subscriptions/4f09e3ea-f8bf-4641-9b58-32f1b34d014c/resourceGroups/GL_May2025_Daniel/providers/Microsoft.MachineLearningServices/workspaces/Medical_Assistant_Project/connections/MedicalAssistant_AzureOpenAI_Connection\n"
        }
      ],
      "execution_count": 9,
      "metadata": {
        "gather": {
          "logged": 1754891752308
        }
      }
    },
    {
      "cell_type": "markdown",
      "source": [
        "To use the Azure OpenAI `text-embedding-ada-002` model for embedding generation, ensure the model has been deployed and is ready for inference. [Follow these instructions](https://learn.microsoft.com/azure/cognitive-services/openai/how-to/create-resource?pivots=web-portal#deploy-a-model) to deploy the embedding model in your Azure OpenAI resource.\n",
        "\n",
        "Once deployed, obtain the credentials for the text-embedding-ada-002 model and save them in your `config.json` file. This is necessary for the following code to execute successfully."
      ],
      "metadata": {}
    },
    {
      "cell_type": "markdown",
      "source": [
        "Ensure that the `config.json` file includes the appropriate keys:\n",
        "\n",
        "- `AZURE_OPENAI_EMBEDDING_MODEL`: Name of the Azure OpenAI embedding model.\n",
        "- `AZURE_OPENAI_EMBEDING_DEPLOYMENT`: Deployment name for the embedding model.\n",
        "\n",
        "Finally we will combine the deployment and model information into a uri form which the AzureML embeddings components expect as input."
      ],
      "metadata": {}
    },
    {
      "cell_type": "code",
      "source": [
        "aoai_embedding_model_name = creds[\"AZURE_OPENAI_EMBEDDING_MODEL\"]\n",
        "aoai_embedding_deployment_name = creds[\"AZURE_OPENAI_EMBEDING_DEPLOYMENT\"]\n",
        "embeddings_model_uri = f\"azure_open_ai://deployment/{aoai_embedding_deployment_name}/model/{aoai_embedding_model_name}\"\n",
        "print(f\"Embedding Model URI: {embeddings_model_uri}\")"
      ],
      "outputs": [
        {
          "output_type": "stream",
          "name": "stdout",
          "text": "Embedding Model URI: azure_open_ai://deployment/text-embedding-ada-002/model/text-embedding-ada-002\n"
        }
      ],
      "execution_count": 10,
      "metadata": {
        "gather": {
          "logged": 1754891752411
        }
      }
    },
    {
      "attachments": {},
      "cell_type": "markdown",
      "source": [
        "#### HuggingFace\n"
      ],
      "metadata": {}
    },
    {
      "cell_type": "code",
      "source": [
        "# embeddings_model_uri = \"hugging_face://model/sentence-transformers/_________\"   #Fill the blank with embedding model"
      ],
      "outputs": [],
      "execution_count": 11,
      "metadata": {
        "gather": {
          "logged": 1754891752671
        }
      }
    },
    {
      "attachments": {},
      "cell_type": "markdown",
      "source": [
        "## **5. Setup Pipeline to process data into Index**"
      ],
      "metadata": {}
    },
    {
      "cell_type": "markdown",
      "source": [
        "### **Define Pipeline Components**"
      ],
      "metadata": {}
    },
    {
      "cell_type": "code",
      "source": [
        "# Import the MLClient to access the AzureML registry\n",
        "ml_registry = MLClient(credential=credential, registry_name=\"azureml\")\n",
        "\n",
        "# Retrieve components for processing data, generating embeddings, and creating the FAISS index\n",
        "crack_and_chunk_component = ml_registry.components.get(\n",
        "    \"llm_rag_crack_and_chunk\", label=\"latest\"\n",
        ")\n",
        "generate_embeddings_component = ml_registry.components.get(\n",
        "    \"llm_rag_generate_embeddings\", label=\"latest\"\n",
        ")\n",
        "create_faiss_index_component = ml_registry.components.get(\n",
        "    \"llm_rag_create_faiss_index\", label=\"latest\"\n",
        ")\n",
        "register_mlindex_component = ml_registry.components.get(\n",
        "    \"llm_rag_register_mlindex_asset\", label=\"latest\"\n",
        ")\n"
      ],
      "outputs": [
        {
          "output_type": "stream",
          "name": "stderr",
          "text": "Overriding of current TracerProvider is not allowed\nOverriding of current LoggerProvider is not allowed\nOverriding of current MeterProvider is not allowed\nAttempting to instrument while already instrumented\nAttempting to instrument while already instrumented\nAttempting to instrument while already instrumented\n"
        }
      ],
      "execution_count": 12,
      "metadata": {
        "gather": {
          "logged": 1754891754152
        },
        "jupyter": {
          "outputs_hidden": false,
          "source_hidden": false
        },
        "nteract": {
          "transient": {
            "deleting": false
          }
        }
      }
    },
    {
      "cell_type": "code",
      "source": [
        "print(crack_and_chunk_component)"
      ],
      "outputs": [
        {
          "output_type": "stream",
          "name": "stdout",
          "text": "$schema: https://azuremlschemas.azureedge.net/latest/commandComponent.schema.json\nname: llm_rag_crack_and_chunk\nversion: 0.0.85\ndisplay_name: LLM - Crack and Chunk Data\ndescription: 'Creates chunks no larger than `chunk_size` from `input_data`, extracted\n  document titles are prepended to each chunk\n\n\n  LLM models have token limits for the prompts passed to them, this is a limiting\n  factor at embedding time and even more limiting at prompt completion time as only\n  so much context can be passed along with instructions to the LLM and user queries.\n\n  Chunking allows splitting source data of various formats into small but coherent\n  snippets of information which can be ''packed'' into LLM prompts when asking for\n  answers to user query related to the source documents.\n\n\n  Supported formats: md, txt, html/htm, pdf, ppt(x), doc(x), xls(x), py\n\n  '\ntags:\n  Preview: ''\ntype: command\ninputs:\n  input_data:\n    type: uri_folder\n    description: Uri Folder containing files to be chunked.\n    optional: false\n  input_glob:\n    type: string\n    optional: true\n    description: Limit files opened from `input_data`, defaults to '**/*'.\n  allowed_extensions:\n    type: string\n    optional: true\n    description: Comma separated list of extensions to include, if not provided the\n      default list of supported extensions will be used. e.g. '.md,.txt,.html,.py,.pdf.'\n  chunk_size:\n    type: integer\n    optional: false\n    default: '768'\n    description: Maximum number of tokens to put in each chunk.\n  chunk_overlap:\n    type: integer\n    optional: false\n    default: '0'\n    description: Number of tokens to overlap between chunks.\n  doc_intel_connection_id:\n    type: string\n    optional: true\n    description: Connection id for Document Intelligence service. If provided, will\n      be used to extract content from .pdf document.\n  data_source_url:\n    type: string\n    optional: true\n    description: Base URL to join with file paths to create full source file URL for\n      chunk metadata.\n  document_path_replacement_regex:\n    type: string\n    optional: true\n    description: 'A JSON string with two fields, ''match_pattern'' and ''replacement_pattern''\n      to be used with re.sub on the source url. e.g. ''{\"match_pattern\": \"(.*)/articles/(.*)(\\\\.[^.]+)$\",\n      \"replacement_pattern\": \"\\\\1/\\\\2\"}'' would remove ''/articles'' from the middle\n      of the url.'\n  max_sample_files:\n    type: integer\n    optional: false\n    default: '-1'\n    description: Number of files to chunk. Specify -1 to chunk all documents in input\n      path.\n  use_rcts:\n    type: string\n    optional: false\n    default: 'True'\n    description: Whether to use RecursiveCharacterTextSplitter to split documents\n      into chunks\n    enum:\n    - 'True'\n    - 'False'\n  output_format:\n    type: string\n    optional: false\n    default: jsonl\n    description: Format of the output chunk file\n    enum:\n    - csv\n    - jsonl\noutputs:\n  output_chunks:\n    type: uri_folder\n    description: Uri Folder containing chunks. Each chunk will be a separate file\n      in the folder\ncommand: python -m azureml.rag.tasks.crack_and_chunk --input_data '${{inputs.input_data}}'\n  $[[--input_glob '${{inputs.input_glob}}']] $[[--allowed_extensions ${{inputs.allowed_extensions}}]]\n  --output_chunks ${{outputs.output_chunks}} --chunk_size ${{inputs.chunk_size}} --chunk_overlap\n  ${{inputs.chunk_overlap}} $[[--doc_intel_connection_id ${{inputs.doc_intel_connection_id}}]]\n  $[[--data_source_url ${{inputs.data_source_url}}]] $[[--document_path_replacement_regex\n  '${{inputs.document_path_replacement_regex}}']] --max_sample_files ${{inputs.max_sample_files}}\n  --use_rcts '${{inputs.use_rcts}}' --output_format ${{inputs.output_format}}\nenvironment: azureml://registries/azureml/environments/llm-rag-embeddings/versions/76\ncode: azureml://registries/azureml/codes/8ddfdec6-8148-4514-91a7-cc532930a3f7/versions/1\nresources:\n  instance_count: 1\ncreation_context:\n  created_at: '2025-07-31T19:27:21.718655+00:00'\n  created_by: Microsoft\n  created_by_type: User\n  last_modified_at: '2025-07-31T19:27:21.718655+00:00'\n  last_modified_by: Microsoft\n  last_modified_by_type: User\nid: azureml://registries/azureml/components/llm_rag_crack_and_chunk/versions/0.0.85\nis_deterministic: true\n\n"
        }
      ],
      "execution_count": 13,
      "metadata": {
        "gather": {
          "logged": 1754891754431
        }
      }
    },
    {
      "cell_type": "markdown",
      "source": [
        "### **Build the AzureML Pipeline**"
      ],
      "metadata": {}
    },
    {
      "cell_type": "code",
      "source": [
        "from azure.ai.ml import Input, Output\n",
        "from azure.ai.ml.dsl import pipeline\n",
        "from azure.ai.ml.entities._job.pipeline._io import PipelineInput\n",
        "from typing import Optional\n",
        "\n",
        "\n",
        "# Utility function for automatic compute configuration\n",
        "def use_automatic_compute(component, instance_count=1, instance_type=\"Standard_NC4as_T4_v3\"):\n",
        "    \"\"\"Configure a component to use automatic compute.\"\"\"\n",
        "    component.set_resources(\n",
        "        instance_count=instance_count,\n",
        "        instance_type=instance_type,\n",
        "        properties={\"compute_specification\": {\"automatic\": True}},\n",
        "    )\n",
        "    return component\n",
        "\n",
        "\n",
        "# Utility function to check if optional pipeline inputs are provided\n",
        "def optional_pipeline_input_provided(input: Optional[PipelineInput]):\n",
        "    \"\"\"Check if optional pipeline inputs are provided.\"\"\"\n",
        "    return input is not None and input._data is not None\n",
        "\n",
        "\n",
        "@pipeline(default_compute=\"serverless\")\n",
        "def MedicalDiagnosis_to_faiss(\n",
        "    data_asset_path: str,\n",
        "    embeddings_model: str,\n",
        "    asset_name: str,\n",
        "    chunk_size: int = 1024,\n",
        "    data_source_glob: str = None,\n",
        "    document_path_replacement_regex: str = None,\n",
        "    aoai_connection_id=None,\n",
        "    embeddings_container=None,\n",
        "):\n",
        "    \"\"\"Pipeline to process finsights reports and create a FAISS vector index.\"\"\"\n",
        "    \n",
        "    # Step 1: Chunk data into smaller pieces\n",
        "    crack_and_chunk = crack_and_chunk_component(\n",
        "        input_data=Input(type=\"uri_folder\", path=data_asset_path),  # Input data asset\n",
        "        input_glob=data_source_glob,\n",
        "        chunk_size=chunk_size,\n",
        "        document_path_replacement_regex=document_path_replacement_regex,\n",
        "    )\n",
        "    use_automatic_compute(crack_and_chunk)  # Apply compute configuration\n",
        "\n",
        "    # Step 2: Generate embeddings for the data chunks\n",
        "    generate_embeddings = generate_embeddings_component(\n",
        "        chunks_source=crack_and_chunk.outputs.output_chunks,\n",
        "        embeddings_container=embeddings_container,\n",
        "        embeddings_model=embeddings_model,\n",
        "    )\n",
        "    use_automatic_compute(generate_embeddings)  # Apply compute configuration\n",
        "    \n",
        "    # Optional: Include Azure OpenAI connection ID\n",
        "    if optional_pipeline_input_provided(aoai_connection_id):\n",
        "        generate_embeddings.environment_variables[\n",
        "            \"AZUREML_WORKSPACE_CONNECTION_ID_AOAI\"\n",
        "        ] = aoai_connection_id\n",
        "    \n",
        "    if optional_pipeline_input_provided(embeddings_container):\n",
        "        generate_embeddings.outputs.embeddings = Output(\n",
        "            type=\"uri_folder\", path=f\"{embeddings_container.path}/{{name}}\"\n",
        "        )\n",
        "\n",
        "    # Step 3: Create a FAISS vector index from embeddings\n",
        "    create_faiss_index = create_faiss_index_component(\n",
        "        embeddings=generate_embeddings.outputs.embeddings,\n",
        "    )\n",
        "    use_automatic_compute(create_faiss_index)  # Apply compute configuration\n",
        "\n",
        "    # Step 4: Register the FAISS index as an MLIndex asset\n",
        "    register_mlindex = register_mlindex_component(\n",
        "        storage_uri=create_faiss_index.outputs.index, \n",
        "        asset_name=asset_name\n",
        "    )\n",
        "    use_automatic_compute(register_mlindex) # Apply compute configuration\n",
        "    \n",
        "    return {\n",
        "        \"mlindex_asset_uri\": create_faiss_index.outputs.index,\n",
        "        \"mlindex_asset_id\": register_mlindex.outputs.asset_id,\n",
        "    }"
      ],
      "outputs": [],
      "execution_count": 14,
      "metadata": {
        "gather": {
          "logged": 1754891758661
        }
      }
    },
    {
      "cell_type": "markdown",
      "source": [
        "## **6.Submit the Pipeline**"
      ],
      "metadata": {}
    },
    {
      "cell_type": "code",
      "source": [
        "# Define the asset name and data source glob pattern\n",
        "# asset_name = \"finsights_faiss_index\"  #Name for the FAISS index asset created using Huggingface model embeddings.\n",
        "asset_name = \"MedicalDiagnosis_faiss\"  #Name for the FAISS index asset created using OpenAI model embeddings.\n",
        "data_source_glob = \"**/*.pdf\"  # Pattern to match input data files"
      ],
      "outputs": [],
      "execution_count": 15,
      "metadata": {
        "gather": {
          "logged": 1754891758890
        }
      }
    },
    {
      "cell_type": "code",
      "source": [
        "# Get the input data asset path from the workspace datastore\n",
        "datastore_path = ml_client.data.get(\"MedicalDiagnosis-dataset-reports\", version=\"1\").path\n",
        "print(f\"Datastore path: {datastore_path}\")\n"
      ],
      "outputs": [
        {
          "output_type": "stream",
          "name": "stdout",
          "text": "Datastore path: azureml://subscriptions/4f09e3ea-f8bf-4641-9b58-32f1b34d014c/resourcegroups/GL_May2025_Daniel/workspaces/Medical_Assistant_Project/datastores/workspaceblobstore/paths/LocalUpload/cef17248c7f29f30ea2c214f7b8ec95517c409fd45c7ebcc691f82985e647f0e/extracted_dataset_reports/\n"
        }
      ],
      "execution_count": 16,
      "metadata": {
        "gather": {
          "logged": 1754891759106
        },
        "jupyter": {
          "outputs_hidden": false,
          "source_hidden": false
        },
        "nteract": {
          "transient": {
            "deleting": false
          }
        }
      }
    },
    {
      "cell_type": "code",
      "source": [
        "# Create the pipeline job by calling the defined pipeline function\n",
        "pipeline_job = MedicalDiagnosis_to_faiss(\n",
        "    embeddings_model=embeddings_model_uri,  # URI of the embeddings model\n",
        "    aoai_connection_id=aoai_connection_id,  # Connection ID for Azure OpenAI (optional)\n",
        "    embeddings_container=Input(\n",
        "        type=\"uri_folder\",\n",
        "        path=f\"azureml://datastores/workspaceblobstore/paths/embeddings/{asset_name}\"\n",
        "    ),  # Path for storing generated embeddings\n",
        "    data_asset_path=Input(\n",
        "        type=\"uri_folder\",\n",
        "        path=datastore_path\n",
        "    ),  # Input data asset path\n",
        "    chunk_size=1024,  # Size of chunks for processing\n",
        "    data_source_glob=data_source_glob,  # Glob pattern for input files\n",
        "    asset_name=asset_name,  # Name of the MLIndex asset\n",
        ")"
      ],
      "outputs": [],
      "execution_count": 17,
      "metadata": {
        "gather": {
          "logged": 1754891760397
        }
      }
    },
    {
      "cell_type": "code",
      "source": [
        "# Add properties for better indexing and artifact tracking in the AzureML UI\n",
        "pipeline_job.properties[\"azureml.mlIndexAssetName\"] = asset_name\n",
        "pipeline_job.properties[\"azureml.mlIndexAssetKind\"] = \"faiss\"\n",
        "pipeline_job.properties[\"azureml.mlIndexAssetSource\"] = \"Data asset\""
      ],
      "outputs": [],
      "execution_count": 18,
      "metadata": {
        "gather": {
          "logged": 1754891760504
        }
      }
    },
    {
      "cell_type": "code",
      "source": [
        "# Submit the pipeline job for execution\n",
        "submitted_pipeline = ml_client.jobs.create_or_update(pipeline_job)\n",
        "print(f\"Pipeline submitted successfully! Job ID: {submitted_pipeline.id}\")"
      ],
      "outputs": [
        {
          "output_type": "stream",
          "name": "stderr",
          "text": "Class AutoDeleteSettingSchema: This is an experimental class, and may change at any time. Please see https://aka.ms/azuremlexperimental for more information.\nClass AutoDeleteConditionSchema: This is an experimental class, and may change at any time. Please see https://aka.ms/azuremlexperimental for more information.\nClass BaseAutoDeleteSettingSchema: This is an experimental class, and may change at any time. Please see https://aka.ms/azuremlexperimental for more information.\nClass IntellectualPropertySchema: This is an experimental class, and may change at any time. Please see https://aka.ms/azuremlexperimental for more information.\nClass ProtectionLevelSchema: This is an experimental class, and may change at any time. Please see https://aka.ms/azuremlexperimental for more information.\nClass BaseIntellectualPropertySchema: This is an experimental class, and may change at any time. Please see https://aka.ms/azuremlexperimental for more information.\npathOnCompute is not a known attribute of class <class 'azure.ai.ml._restclient.v2023_04_01_preview.models._models_py3.UriFolderJobOutput'> and will be ignored\npathOnCompute is not a known attribute of class <class 'azure.ai.ml._restclient.v2023_04_01_preview.models._models_py3.UriFolderJobOutput'> and will be ignored\npathOnCompute is not a known attribute of class <class 'azure.ai.ml._restclient.v2023_04_01_preview.models._models_py3.UriFileJobOutput'> and will be ignored\n"
        },
        {
          "output_type": "stream",
          "name": "stdout",
          "text": "Pipeline submitted successfully! Job ID: /subscriptions/4f09e3ea-f8bf-4641-9b58-32f1b34d014c/resourceGroups/GL_May2025_Daniel/providers/Microsoft.MachineLearningServices/workspaces/Medical_Assistant_Project/jobs/sincere_hominy_241n8v5ch6\n"
        }
      ],
      "execution_count": 19,
      "metadata": {
        "gather": {
          "logged": 1754891766939
        }
      }
    },
    {
      "cell_type": "code",
      "source": [
        "# Stream the pipeline job logs for real-time monitoring\n",
        "ml_client.jobs.stream(submitted_pipeline.name)"
      ],
      "outputs": [
        {
          "output_type": "stream",
          "name": "stdout",
          "text": "RunId: sincere_hominy_241n8v5ch6\nWeb View: https://ml.azure.com/runs/sincere_hominy_241n8v5ch6?wsid=/subscriptions/4f09e3ea-f8bf-4641-9b58-32f1b34d014c/resourcegroups/GL_May2025_Daniel/workspaces/Medical_Assistant_Project\n\nExecution Summary\n=================\nRunId: sincere_hominy_241n8v5ch6\nWeb View: https://ml.azure.com/runs/sincere_hominy_241n8v5ch6?wsid=/subscriptions/4f09e3ea-f8bf-4641-9b58-32f1b34d014c/resourcegroups/GL_May2025_Daniel/workspaces/Medical_Assistant_Project\n\n"
        }
      ],
      "execution_count": 20,
      "metadata": {
        "gather": {
          "logged": 1754891777757
        }
      }
    },
    {
      "cell_type": "markdown",
      "source": [
        "# **Information Retrieval and Response Generation Using LangChain-FAISS and Azure OpenAI**"
      ],
      "metadata": {
        "nteract": {
          "transient": {
            "deleting": false
          }
        }
      }
    },
    {
      "cell_type": "markdown",
      "source": [
        "## **1.Installing Required Libraries**"
      ],
      "metadata": {}
    },
    {
      "cell_type": "code",
      "source": [
        "# Install the required LangChain and HuggingFace libraries\n",
        "%pip install -U langchain-community\n",
        "%pip install -U langchain-huggingface\n",
        "%pip install -U langchain-openai"
      ],
      "outputs": [
        {
          "output_type": "stream",
          "name": "stdout",
          "text": "Collecting langchain-community\n  Downloading langchain_community-0.3.27-py3-none-any.whl.metadata (2.9 kB)\nCollecting langchain-core<1.0.0,>=0.3.66 (from langchain-community)\n  Downloading langchain_core-0.3.74-py3-none-any.whl.metadata (5.8 kB)\nCollecting langchain<1.0.0,>=0.3.26 (from langchain-community)\n  Downloading langchain-0.3.27-py3-none-any.whl.metadata (7.8 kB)\nCollecting SQLAlchemy<3,>=1.4 (from langchain-community)\n  Downloading sqlalchemy-2.0.42-cp310-cp310-manylinux_2_17_x86_64.manylinux2014_x86_64.whl.metadata (9.6 kB)\nRequirement already satisfied: requests<3,>=2 in /anaconda/envs/jupyter_env/lib/python3.10/site-packages (from langchain-community) (2.32.4)\nRequirement already satisfied: PyYAML>=5.3 in /anaconda/envs/jupyter_env/lib/python3.10/site-packages (from langchain-community) (6.0.2)\nRequirement already satisfied: aiohttp<4.0.0,>=3.8.3 in /anaconda/envs/jupyter_env/lib/python3.10/site-packages (from langchain-community) (3.12.14)\nCollecting tenacity!=8.4.0,<10,>=8.1.0 (from langchain-community)\n  Downloading tenacity-9.1.2-py3-none-any.whl.metadata (1.2 kB)\nCollecting dataclasses-json<0.7,>=0.5.7 (from langchain-community)\n  Downloading dataclasses_json-0.6.7-py3-none-any.whl.metadata (25 kB)\nCollecting pydantic-settings<3.0.0,>=2.4.0 (from langchain-community)\n  Downloading pydantic_settings-2.10.1-py3-none-any.whl.metadata (3.4 kB)\nCollecting langsmith>=0.1.125 (from langchain-community)\n  Downloading langsmith-0.4.13-py3-none-any.whl.metadata (14 kB)\nCollecting httpx-sse<1.0.0,>=0.4.0 (from langchain-community)\n  Downloading httpx_sse-0.4.1-py3-none-any.whl.metadata (9.4 kB)\nRequirement already satisfied: numpy>=1.26.2 in /anaconda/envs/jupyter_env/lib/python3.10/site-packages (from langchain-community) (2.2.6)\nRequirement already satisfied: aiohappyeyeballs>=2.5.0 in /anaconda/envs/jupyter_env/lib/python3.10/site-packages (from aiohttp<4.0.0,>=3.8.3->langchain-community) (2.6.1)\nRequirement already satisfied: aiosignal>=1.4.0 in /anaconda/envs/jupyter_env/lib/python3.10/site-packages (from aiohttp<4.0.0,>=3.8.3->langchain-community) (1.4.0)\nRequirement already satisfied: async-timeout<6.0,>=4.0 in /anaconda/envs/jupyter_env/lib/python3.10/site-packages (from aiohttp<4.0.0,>=3.8.3->langchain-community) (5.0.1)\nRequirement already satisfied: attrs>=17.3.0 in /anaconda/envs/jupyter_env/lib/python3.10/site-packages (from aiohttp<4.0.0,>=3.8.3->langchain-community) (25.3.0)\nRequirement already satisfied: frozenlist>=1.1.1 in /anaconda/envs/jupyter_env/lib/python3.10/site-packages (from aiohttp<4.0.0,>=3.8.3->langchain-community) (1.7.0)\nRequirement already satisfied: multidict<7.0,>=4.5 in /anaconda/envs/jupyter_env/lib/python3.10/site-packages (from aiohttp<4.0.0,>=3.8.3->langchain-community) (6.6.3)\nRequirement already satisfied: propcache>=0.2.0 in /anaconda/envs/jupyter_env/lib/python3.10/site-packages (from aiohttp<4.0.0,>=3.8.3->langchain-community) (0.3.2)\nRequirement already satisfied: yarl<2.0,>=1.17.0 in /anaconda/envs/jupyter_env/lib/python3.10/site-packages (from aiohttp<4.0.0,>=3.8.3->langchain-community) (1.20.1)\nRequirement already satisfied: marshmallow<4.0.0,>=3.18.0 in /anaconda/envs/jupyter_env/lib/python3.10/site-packages (from dataclasses-json<0.7,>=0.5.7->langchain-community) (3.26.1)\nCollecting typing-inspect<1,>=0.4.0 (from dataclasses-json<0.7,>=0.5.7->langchain-community)\n  Downloading typing_inspect-0.9.0-py3-none-any.whl.metadata (1.5 kB)\nCollecting langchain-text-splitters<1.0.0,>=0.3.9 (from langchain<1.0.0,>=0.3.26->langchain-community)\n  Downloading langchain_text_splitters-0.3.9-py3-none-any.whl.metadata (1.9 kB)\nRequirement already satisfied: pydantic<3.0.0,>=2.7.4 in /anaconda/envs/jupyter_env/lib/python3.10/site-packages (from langchain<1.0.0,>=0.3.26->langchain-community) (2.11.7)\nCollecting async-timeout<6.0,>=4.0 (from aiohttp<4.0.0,>=3.8.3->langchain-community)\n  Downloading async_timeout-4.0.3-py3-none-any.whl.metadata (4.2 kB)\nCollecting jsonpatch<2.0,>=1.33 (from langchain-core<1.0.0,>=0.3.66->langchain-community)\n  Downloading jsonpatch-1.33-py2.py3-none-any.whl.metadata (3.0 kB)\nRequirement already satisfied: typing-extensions>=4.7 in /anaconda/envs/jupyter_env/lib/python3.10/site-packages (from langchain-core<1.0.0,>=0.3.66->langchain-community) (4.14.1)\nRequirement already satisfied: packaging>=23.2 in /anaconda/envs/jupyter_env/lib/python3.10/site-packages (from langchain-core<1.0.0,>=0.3.66->langchain-community) (25.0)\nRequirement already satisfied: jsonpointer>=1.9 in /anaconda/envs/jupyter_env/lib/python3.10/site-packages (from jsonpatch<2.0,>=1.33->langchain-core<1.0.0,>=0.3.66->langchain-community) (3.0.0)\nRequirement already satisfied: annotated-types>=0.6.0 in /anaconda/envs/jupyter_env/lib/python3.10/site-packages (from pydantic<3.0.0,>=2.7.4->langchain<1.0.0,>=0.3.26->langchain-community) (0.7.0)\nRequirement already satisfied: pydantic-core==2.33.2 in /anaconda/envs/jupyter_env/lib/python3.10/site-packages (from pydantic<3.0.0,>=2.7.4->langchain<1.0.0,>=0.3.26->langchain-community) (2.33.2)\nRequirement already satisfied: typing-inspection>=0.4.0 in /anaconda/envs/jupyter_env/lib/python3.10/site-packages (from pydantic<3.0.0,>=2.7.4->langchain<1.0.0,>=0.3.26->langchain-community) (0.4.1)\nCollecting python-dotenv>=0.21.0 (from pydantic-settings<3.0.0,>=2.4.0->langchain-community)\n  Downloading python_dotenv-1.1.1-py3-none-any.whl.metadata (24 kB)\nRequirement already satisfied: charset_normalizer<4,>=2 in /anaconda/envs/jupyter_env/lib/python3.10/site-packages (from requests<3,>=2->langchain-community) (3.4.2)\nRequirement already satisfied: idna<4,>=2.5 in /anaconda/envs/jupyter_env/lib/python3.10/site-packages (from requests<3,>=2->langchain-community) (3.10)\nRequirement already satisfied: urllib3<3,>=1.21.1 in /anaconda/envs/jupyter_env/lib/python3.10/site-packages (from requests<3,>=2->langchain-community) (2.5.0)\nRequirement already satisfied: certifi>=2017.4.17 in /anaconda/envs/jupyter_env/lib/python3.10/site-packages (from requests<3,>=2->langchain-community) (2025.7.9)\nCollecting greenlet>=1 (from SQLAlchemy<3,>=1.4->langchain-community)\n  Downloading greenlet-3.2.4-cp310-cp310-manylinux_2_24_x86_64.manylinux_2_28_x86_64.whl.metadata (4.1 kB)\nCollecting mypy-extensions>=0.3.0 (from typing-inspect<1,>=0.4.0->dataclasses-json<0.7,>=0.5.7->langchain-community)\n  Downloading mypy_extensions-1.1.0-py3-none-any.whl.metadata (1.1 kB)\nRequirement already satisfied: httpx<1,>=0.23.0 in /anaconda/envs/jupyter_env/lib/python3.10/site-packages (from langsmith>=0.1.125->langchain-community) (0.28.1)\nCollecting orjson>=3.9.14 (from langsmith>=0.1.125->langchain-community)\n  Downloading orjson-3.11.1-cp310-cp310-manylinux_2_17_x86_64.manylinux2014_x86_64.whl.metadata (42 kB)\nCollecting requests-toolbelt>=1.0.0 (from langsmith>=0.1.125->langchain-community)\n  Downloading requests_toolbelt-1.0.0-py2.py3-none-any.whl.metadata (14 kB)\nRequirement already satisfied: zstandard>=0.23.0 in /anaconda/envs/jupyter_env/lib/python3.10/site-packages (from langsmith>=0.1.125->langchain-community) (0.23.0)\nRequirement already satisfied: anyio in /anaconda/envs/jupyter_env/lib/python3.10/site-packages (from httpx<1,>=0.23.0->langsmith>=0.1.125->langchain-community) (3.7.1)\nRequirement already satisfied: httpcore==1.* in /anaconda/envs/jupyter_env/lib/python3.10/site-packages (from httpx<1,>=0.23.0->langsmith>=0.1.125->langchain-community) (1.0.9)\nRequirement already satisfied: h11>=0.16 in /anaconda/envs/jupyter_env/lib/python3.10/site-packages (from httpcore==1.*->httpx<1,>=0.23.0->langsmith>=0.1.125->langchain-community) (0.16.0)\nRequirement already satisfied: sniffio>=1.1 in /anaconda/envs/jupyter_env/lib/python3.10/site-packages (from anyio->httpx<1,>=0.23.0->langsmith>=0.1.125->langchain-community) (1.3.1)\nRequirement already satisfied: exceptiongroup in /anaconda/envs/jupyter_env/lib/python3.10/site-packages (from anyio->httpx<1,>=0.23.0->langsmith>=0.1.125->langchain-community) (1.3.0)\nDownloading langchain_community-0.3.27-py3-none-any.whl (2.5 MB)\n\u001b[2K   \u001b[90m━━━━━━━━━━━━━━━━━━━━━━━━━━━━━━━━━━━━━━━━\u001b[0m \u001b[32m2.5/2.5 MB\u001b[0m \u001b[31m14.5 MB/s\u001b[0m eta \u001b[36m0:00:00\u001b[0m\n\u001b[?25hDownloading dataclasses_json-0.6.7-py3-none-any.whl (28 kB)\nDownloading httpx_sse-0.4.1-py3-none-any.whl (8.1 kB)\nDownloading langchain-0.3.27-py3-none-any.whl (1.0 MB)\n\u001b[2K   \u001b[90m━━━━━━━━━━━━━━━━━━━━━━━━━━━━━━━━━━━━━━━━\u001b[0m \u001b[32m1.0/1.0 MB\u001b[0m \u001b[31m5.4 MB/s\u001b[0m eta \u001b[36m0:00:00\u001b[0m\n\u001b[?25hDownloading async_timeout-4.0.3-py3-none-any.whl (5.7 kB)\nDownloading langchain_core-0.3.74-py3-none-any.whl (443 kB)\nDownloading jsonpatch-1.33-py2.py3-none-any.whl (12 kB)\nDownloading langchain_text_splitters-0.3.9-py3-none-any.whl (33 kB)\nDownloading pydantic_settings-2.10.1-py3-none-any.whl (45 kB)\nDownloading sqlalchemy-2.0.42-cp310-cp310-manylinux_2_17_x86_64.manylinux2014_x86_64.whl (3.2 MB)\n\u001b[2K   \u001b[90m━━━━━━━━━━━━━━━━━━━━━━━━━━━━━━━━━━━━━━━━\u001b[0m \u001b[32m3.2/3.2 MB\u001b[0m \u001b[31m6.7 MB/s\u001b[0m eta \u001b[36m0:00:00\u001b[0m:00:01\u001b[0m\n\u001b[?25hDownloading tenacity-9.1.2-py3-none-any.whl (28 kB)\nDownloading typing_inspect-0.9.0-py3-none-any.whl (8.8 kB)\nDownloading greenlet-3.2.4-cp310-cp310-manylinux_2_24_x86_64.manylinux_2_28_x86_64.whl (584 kB)\n\u001b[2K   \u001b[90m━━━━━━━━━━━━━━━━━━━━━━━━━━━━━━━━━━━━━━━━\u001b[0m \u001b[32m584.4/584.4 kB\u001b[0m \u001b[31m5.3 MB/s\u001b[0m eta \u001b[36m0:00:00\u001b[0m\n\u001b[?25hDownloading langsmith-0.4.13-py3-none-any.whl (372 kB)\nDownloading mypy_extensions-1.1.0-py3-none-any.whl (5.0 kB)\nDownloading orjson-3.11.1-cp310-cp310-manylinux_2_17_x86_64.manylinux2014_x86_64.whl (131 kB)\nDownloading python_dotenv-1.1.1-py3-none-any.whl (20 kB)\nDownloading requests_toolbelt-1.0.0-py2.py3-none-any.whl (54 kB)\nInstalling collected packages: tenacity, python-dotenv, orjson, mypy-extensions, jsonpatch, httpx-sse, greenlet, async-timeout, typing-inspect, SQLAlchemy, requests-toolbelt, pydantic-settings, dataclasses-json, langsmith, langchain-core, langchain-text-splitters, langchain, langchain-community\n\u001b[2K  Attempting uninstall: async-timeout90m━━━━━━━━━━━━━━━━━━━━━━━━━━\u001b[0m \u001b[32m 6/18\u001b[0m [greenlet]]\n\u001b[2K    Found existing installation: async-timeout 5.0.1━━━━━━━━━━\u001b[0m \u001b[32m 6/18\u001b[0m [greenlet]\n\u001b[2K    Uninstalling async-timeout-5.0.1:━━━━━━━━━━━━━━━━━━━━━━━━━\u001b[0m \u001b[32m 6/18\u001b[0m [greenlet]\n\u001b[2K      Successfully uninstalled async-timeout-5.0.1━━━━━━━━━━━━\u001b[0m \u001b[32m 6/18\u001b[0m [greenlet]\n\u001b[2K   \u001b[90m━━━━━━━━━━━━━━━━━━━━━━━━━━━━━━━━━━━━━━━━\u001b[0m \u001b[32m18/18\u001b[0m [langchain-community]ngchain-community]ters]\n\u001b[1A\u001b[2KSuccessfully installed SQLAlchemy-2.0.42 async-timeout-4.0.3 dataclasses-json-0.6.7 greenlet-3.2.4 httpx-sse-0.4.1 jsonpatch-1.33 langchain-0.3.27 langchain-community-0.3.27 langchain-core-0.3.74 langchain-text-splitters-0.3.9 langsmith-0.4.13 mypy-extensions-1.1.0 orjson-3.11.1 pydantic-settings-2.10.1 python-dotenv-1.1.1 requests-toolbelt-1.0.0 tenacity-9.1.2 typing-inspect-0.9.0\nNote: you may need to restart the kernel to use updated packages.\nCollecting langchain-huggingface\n  Downloading langchain_huggingface-0.3.1-py3-none-any.whl.metadata (996 bytes)\nRequirement already satisfied: langchain-core<1.0.0,>=0.3.70 in /anaconda/envs/jupyter_env/lib/python3.10/site-packages (from langchain-huggingface) (0.3.74)\nRequirement already satisfied: tokenizers>=0.19.1 in /anaconda/envs/jupyter_env/lib/python3.10/site-packages (from langchain-huggingface) (0.21.4)\nRequirement already satisfied: huggingface-hub>=0.33.4 in /anaconda/envs/jupyter_env/lib/python3.10/site-packages (from langchain-huggingface) (0.34.4)\nRequirement already satisfied: langsmith>=0.3.45 in /anaconda/envs/jupyter_env/lib/python3.10/site-packages (from langchain-core<1.0.0,>=0.3.70->langchain-huggingface) (0.4.13)\nRequirement already satisfied: tenacity!=8.4.0,<10.0.0,>=8.1.0 in /anaconda/envs/jupyter_env/lib/python3.10/site-packages (from langchain-core<1.0.0,>=0.3.70->langchain-huggingface) (9.1.2)\nRequirement already satisfied: jsonpatch<2.0,>=1.33 in /anaconda/envs/jupyter_env/lib/python3.10/site-packages (from langchain-core<1.0.0,>=0.3.70->langchain-huggingface) (1.33)\nRequirement already satisfied: PyYAML>=5.3 in /anaconda/envs/jupyter_env/lib/python3.10/site-packages (from langchain-core<1.0.0,>=0.3.70->langchain-huggingface) (6.0.2)\nRequirement already satisfied: typing-extensions>=4.7 in /anaconda/envs/jupyter_env/lib/python3.10/site-packages (from langchain-core<1.0.0,>=0.3.70->langchain-huggingface) (4.14.1)\nRequirement already satisfied: packaging>=23.2 in /anaconda/envs/jupyter_env/lib/python3.10/site-packages (from langchain-core<1.0.0,>=0.3.70->langchain-huggingface) (25.0)\nRequirement already satisfied: pydantic>=2.7.4 in /anaconda/envs/jupyter_env/lib/python3.10/site-packages (from langchain-core<1.0.0,>=0.3.70->langchain-huggingface) (2.11.7)\nRequirement already satisfied: jsonpointer>=1.9 in /anaconda/envs/jupyter_env/lib/python3.10/site-packages (from jsonpatch<2.0,>=1.33->langchain-core<1.0.0,>=0.3.70->langchain-huggingface) (3.0.0)\nRequirement already satisfied: filelock in /anaconda/envs/jupyter_env/lib/python3.10/site-packages (from huggingface-hub>=0.33.4->langchain-huggingface) (3.18.0)\nRequirement already satisfied: fsspec>=2023.5.0 in /anaconda/envs/jupyter_env/lib/python3.10/site-packages (from huggingface-hub>=0.33.4->langchain-huggingface) (2023.10.0)\nRequirement already satisfied: requests in /anaconda/envs/jupyter_env/lib/python3.10/site-packages (from huggingface-hub>=0.33.4->langchain-huggingface) (2.32.4)\nRequirement already satisfied: tqdm>=4.42.1 in /anaconda/envs/jupyter_env/lib/python3.10/site-packages (from huggingface-hub>=0.33.4->langchain-huggingface) (4.67.1)\nRequirement already satisfied: hf-xet<2.0.0,>=1.1.3 in /anaconda/envs/jupyter_env/lib/python3.10/site-packages (from huggingface-hub>=0.33.4->langchain-huggingface) (1.1.7)\nRequirement already satisfied: httpx<1,>=0.23.0 in /anaconda/envs/jupyter_env/lib/python3.10/site-packages (from langsmith>=0.3.45->langchain-core<1.0.0,>=0.3.70->langchain-huggingface) (0.28.1)\nRequirement already satisfied: orjson>=3.9.14 in /anaconda/envs/jupyter_env/lib/python3.10/site-packages (from langsmith>=0.3.45->langchain-core<1.0.0,>=0.3.70->langchain-huggingface) (3.11.1)\nRequirement already satisfied: requests-toolbelt>=1.0.0 in /anaconda/envs/jupyter_env/lib/python3.10/site-packages (from langsmith>=0.3.45->langchain-core<1.0.0,>=0.3.70->langchain-huggingface) (1.0.0)\nRequirement already satisfied: zstandard>=0.23.0 in /anaconda/envs/jupyter_env/lib/python3.10/site-packages (from langsmith>=0.3.45->langchain-core<1.0.0,>=0.3.70->langchain-huggingface) (0.23.0)\nRequirement already satisfied: anyio in /anaconda/envs/jupyter_env/lib/python3.10/site-packages (from httpx<1,>=0.23.0->langsmith>=0.3.45->langchain-core<1.0.0,>=0.3.70->langchain-huggingface) (3.7.1)\nRequirement already satisfied: certifi in /anaconda/envs/jupyter_env/lib/python3.10/site-packages (from httpx<1,>=0.23.0->langsmith>=0.3.45->langchain-core<1.0.0,>=0.3.70->langchain-huggingface) (2025.7.9)\nRequirement already satisfied: httpcore==1.* in /anaconda/envs/jupyter_env/lib/python3.10/site-packages (from httpx<1,>=0.23.0->langsmith>=0.3.45->langchain-core<1.0.0,>=0.3.70->langchain-huggingface) (1.0.9)\nRequirement already satisfied: idna in /anaconda/envs/jupyter_env/lib/python3.10/site-packages (from httpx<1,>=0.23.0->langsmith>=0.3.45->langchain-core<1.0.0,>=0.3.70->langchain-huggingface) (3.10)\nRequirement already satisfied: h11>=0.16 in /anaconda/envs/jupyter_env/lib/python3.10/site-packages (from httpcore==1.*->httpx<1,>=0.23.0->langsmith>=0.3.45->langchain-core<1.0.0,>=0.3.70->langchain-huggingface) (0.16.0)\nRequirement already satisfied: annotated-types>=0.6.0 in /anaconda/envs/jupyter_env/lib/python3.10/site-packages (from pydantic>=2.7.4->langchain-core<1.0.0,>=0.3.70->langchain-huggingface) (0.7.0)\nRequirement already satisfied: pydantic-core==2.33.2 in /anaconda/envs/jupyter_env/lib/python3.10/site-packages (from pydantic>=2.7.4->langchain-core<1.0.0,>=0.3.70->langchain-huggingface) (2.33.2)\nRequirement already satisfied: typing-inspection>=0.4.0 in /anaconda/envs/jupyter_env/lib/python3.10/site-packages (from pydantic>=2.7.4->langchain-core<1.0.0,>=0.3.70->langchain-huggingface) (0.4.1)\nRequirement already satisfied: charset_normalizer<4,>=2 in /anaconda/envs/jupyter_env/lib/python3.10/site-packages (from requests->huggingface-hub>=0.33.4->langchain-huggingface) (3.4.2)\nRequirement already satisfied: urllib3<3,>=1.21.1 in /anaconda/envs/jupyter_env/lib/python3.10/site-packages (from requests->huggingface-hub>=0.33.4->langchain-huggingface) (2.5.0)\nRequirement already satisfied: sniffio>=1.1 in /anaconda/envs/jupyter_env/lib/python3.10/site-packages (from anyio->httpx<1,>=0.23.0->langsmith>=0.3.45->langchain-core<1.0.0,>=0.3.70->langchain-huggingface) (1.3.1)\nRequirement already satisfied: exceptiongroup in /anaconda/envs/jupyter_env/lib/python3.10/site-packages (from anyio->httpx<1,>=0.23.0->langsmith>=0.3.45->langchain-core<1.0.0,>=0.3.70->langchain-huggingface) (1.3.0)\nDownloading langchain_huggingface-0.3.1-py3-none-any.whl (27 kB)\nInstalling collected packages: langchain-huggingface\nSuccessfully installed langchain-huggingface-0.3.1\nNote: you may need to restart the kernel to use updated packages.\nCollecting langchain-openai\n  Downloading langchain_openai-0.3.29-py3-none-any.whl.metadata (2.4 kB)\nRequirement already satisfied: langchain-core<1.0.0,>=0.3.74 in /anaconda/envs/jupyter_env/lib/python3.10/site-packages (from langchain-openai) (0.3.74)\nRequirement already satisfied: openai<2.0.0,>=1.86.0 in /anaconda/envs/jupyter_env/lib/python3.10/site-packages (from langchain-openai) (1.99.6)\nRequirement already satisfied: tiktoken<1,>=0.7 in /anaconda/envs/jupyter_env/lib/python3.10/site-packages (from langchain-openai) (0.11.0)\nRequirement already satisfied: langsmith>=0.3.45 in /anaconda/envs/jupyter_env/lib/python3.10/site-packages (from langchain-core<1.0.0,>=0.3.74->langchain-openai) (0.4.13)\nRequirement already satisfied: tenacity!=8.4.0,<10.0.0,>=8.1.0 in /anaconda/envs/jupyter_env/lib/python3.10/site-packages (from langchain-core<1.0.0,>=0.3.74->langchain-openai) (9.1.2)\nRequirement already satisfied: jsonpatch<2.0,>=1.33 in /anaconda/envs/jupyter_env/lib/python3.10/site-packages (from langchain-core<1.0.0,>=0.3.74->langchain-openai) (1.33)\nRequirement already satisfied: PyYAML>=5.3 in /anaconda/envs/jupyter_env/lib/python3.10/site-packages (from langchain-core<1.0.0,>=0.3.74->langchain-openai) (6.0.2)\nRequirement already satisfied: typing-extensions>=4.7 in /anaconda/envs/jupyter_env/lib/python3.10/site-packages (from langchain-core<1.0.0,>=0.3.74->langchain-openai) (4.14.1)\nRequirement already satisfied: packaging>=23.2 in /anaconda/envs/jupyter_env/lib/python3.10/site-packages (from langchain-core<1.0.0,>=0.3.74->langchain-openai) (25.0)\nRequirement already satisfied: pydantic>=2.7.4 in /anaconda/envs/jupyter_env/lib/python3.10/site-packages (from langchain-core<1.0.0,>=0.3.74->langchain-openai) (2.11.7)\nRequirement already satisfied: jsonpointer>=1.9 in /anaconda/envs/jupyter_env/lib/python3.10/site-packages (from jsonpatch<2.0,>=1.33->langchain-core<1.0.0,>=0.3.74->langchain-openai) (3.0.0)\nRequirement already satisfied: anyio<5,>=3.5.0 in /anaconda/envs/jupyter_env/lib/python3.10/site-packages (from openai<2.0.0,>=1.86.0->langchain-openai) (3.7.1)\nRequirement already satisfied: distro<2,>=1.7.0 in /anaconda/envs/jupyter_env/lib/python3.10/site-packages (from openai<2.0.0,>=1.86.0->langchain-openai) (1.9.0)\nRequirement already satisfied: httpx<1,>=0.23.0 in /anaconda/envs/jupyter_env/lib/python3.10/site-packages (from openai<2.0.0,>=1.86.0->langchain-openai) (0.28.1)\nRequirement already satisfied: jiter<1,>=0.4.0 in /anaconda/envs/jupyter_env/lib/python3.10/site-packages (from openai<2.0.0,>=1.86.0->langchain-openai) (0.10.0)\nRequirement already satisfied: sniffio in /anaconda/envs/jupyter_env/lib/python3.10/site-packages (from openai<2.0.0,>=1.86.0->langchain-openai) (1.3.1)\nRequirement already satisfied: tqdm>4 in /anaconda/envs/jupyter_env/lib/python3.10/site-packages (from openai<2.0.0,>=1.86.0->langchain-openai) (4.67.1)\nRequirement already satisfied: idna>=2.8 in /anaconda/envs/jupyter_env/lib/python3.10/site-packages (from anyio<5,>=3.5.0->openai<2.0.0,>=1.86.0->langchain-openai) (3.10)\nRequirement already satisfied: exceptiongroup in /anaconda/envs/jupyter_env/lib/python3.10/site-packages (from anyio<5,>=3.5.0->openai<2.0.0,>=1.86.0->langchain-openai) (1.3.0)\nRequirement already satisfied: certifi in /anaconda/envs/jupyter_env/lib/python3.10/site-packages (from httpx<1,>=0.23.0->openai<2.0.0,>=1.86.0->langchain-openai) (2025.7.9)\nRequirement already satisfied: httpcore==1.* in /anaconda/envs/jupyter_env/lib/python3.10/site-packages (from httpx<1,>=0.23.0->openai<2.0.0,>=1.86.0->langchain-openai) (1.0.9)\nRequirement already satisfied: h11>=0.16 in /anaconda/envs/jupyter_env/lib/python3.10/site-packages (from httpcore==1.*->httpx<1,>=0.23.0->openai<2.0.0,>=1.86.0->langchain-openai) (0.16.0)\nRequirement already satisfied: annotated-types>=0.6.0 in /anaconda/envs/jupyter_env/lib/python3.10/site-packages (from pydantic>=2.7.4->langchain-core<1.0.0,>=0.3.74->langchain-openai) (0.7.0)\nRequirement already satisfied: pydantic-core==2.33.2 in /anaconda/envs/jupyter_env/lib/python3.10/site-packages (from pydantic>=2.7.4->langchain-core<1.0.0,>=0.3.74->langchain-openai) (2.33.2)\nRequirement already satisfied: typing-inspection>=0.4.0 in /anaconda/envs/jupyter_env/lib/python3.10/site-packages (from pydantic>=2.7.4->langchain-core<1.0.0,>=0.3.74->langchain-openai) (0.4.1)\nRequirement already satisfied: regex>=2022.1.18 in /anaconda/envs/jupyter_env/lib/python3.10/site-packages (from tiktoken<1,>=0.7->langchain-openai) (2025.7.34)\nRequirement already satisfied: requests>=2.26.0 in /anaconda/envs/jupyter_env/lib/python3.10/site-packages (from tiktoken<1,>=0.7->langchain-openai) (2.32.4)\nRequirement already satisfied: orjson>=3.9.14 in /anaconda/envs/jupyter_env/lib/python3.10/site-packages (from langsmith>=0.3.45->langchain-core<1.0.0,>=0.3.74->langchain-openai) (3.11.1)\nRequirement already satisfied: requests-toolbelt>=1.0.0 in /anaconda/envs/jupyter_env/lib/python3.10/site-packages (from langsmith>=0.3.45->langchain-core<1.0.0,>=0.3.74->langchain-openai) (1.0.0)\nRequirement already satisfied: zstandard>=0.23.0 in /anaconda/envs/jupyter_env/lib/python3.10/site-packages (from langsmith>=0.3.45->langchain-core<1.0.0,>=0.3.74->langchain-openai) (0.23.0)\nRequirement already satisfied: charset_normalizer<4,>=2 in /anaconda/envs/jupyter_env/lib/python3.10/site-packages (from requests>=2.26.0->tiktoken<1,>=0.7->langchain-openai) (3.4.2)\nRequirement already satisfied: urllib3<3,>=1.21.1 in /anaconda/envs/jupyter_env/lib/python3.10/site-packages (from requests>=2.26.0->tiktoken<1,>=0.7->langchain-openai) (2.5.0)\nDownloading langchain_openai-0.3.29-py3-none-any.whl (74 kB)\nInstalling collected packages: langchain-openai\nSuccessfully installed langchain-openai-0.3.29\nNote: you may need to restart the kernel to use updated packages.\n"
        }
      ],
      "execution_count": 21,
      "metadata": {
        "gather": {
          "logged": 1754891830031
        }
      }
    },
    {
      "cell_type": "markdown",
      "source": [
        "## **2. Setting Up Data Retrieval**"
      ],
      "metadata": {}
    },
    {
      "cell_type": "markdown",
      "source": [
        "### **Downloading and Setting Up FAISS Index Assets**\n"
      ],
      "metadata": {}
    },
    {
      "cell_type": "code",
      "source": [
        "# Import necessary utilities for artifact retrieval\n",
        "import azure.ai.ml._artifacts._artifact_utilities as artifact_utils\n",
        "\n",
        "# Retrieve the path to the latest FAISS index asset from Azure ML\n",
        "data_info = ml_client.data.get(name=asset_name, label=\"latest\").path\n",
        "\n",
        "# Download the FAISS index asset to a local directory\n",
        "artifact_utils.download_artifact_from_aml_uri(\n",
        "    uri=data_info,\n",
        "    destination=\"./MedicalDiagnosisfaissindexasset/\",\n",
        "    datastore_operation=ml_client.datastores\n",
        ")\n"
      ],
      "outputs": [
        {
          "output_type": "execute_result",
          "execution_count": 22,
          "data": {
            "text/plain": "'./MedicalDiagnosisfaissindexasset/'"
          },
          "metadata": {}
        }
      ],
      "execution_count": 22,
      "metadata": {
        "gather": {
          "logged": 1754891834722
        },
        "jupyter": {
          "outputs_hidden": false,
          "source_hidden": false
        },
        "nteract": {
          "transient": {
            "deleting": false
          }
        }
      }
    },
    {
      "cell_type": "markdown",
      "source": [
        "## **3. Loading the FAISS Index**"
      ],
      "metadata": {}
    },
    {
      "cell_type": "markdown",
      "source": [
        "### **Loading the FAISS Index and Preparing the Retriever**\n",
        "\n",
        "We load the FAISS index from the downloaded files and connect it to an embedding model. This embedding model ensures that queries are converted into vector space to match the stored documents effectively."
      ],
      "metadata": {}
    },
    {
      "cell_type": "markdown",
      "source": [
        "### **Note:**\n",
        "When loading the FAISS index and setting up the retriever, it is crucial to use the same embedding model that was used during the creation of the FAISS index. This ensures that the dimensionality of the embeddings produced by the query matches the dimensionality of the embeddings stored in the FAISS index.\n",
        "\n",
        "If a different embedding model is used between these two steps, a dimension mismatch will occur, leading to errors in retrieving relevant documents or performing similarity searches."
      ],
      "metadata": {}
    },
    {
      "cell_type": "code",
      "source": [
        "# Path to the directory containing FAISS index files\n",
        "index_folder_path = \"./MedicalDiagnosisfaissindexasset/\""
      ],
      "outputs": [],
      "execution_count": 23,
      "metadata": {
        "gather": {
          "logged": 1754891834840
        }
      }
    },
    {
      "cell_type": "code",
      "source": [
        "from langchain_huggingface import HuggingFaceEmbeddings\n",
        "\n",
        "# Specify the embedding model used during FAISS index creation\n",
        "embedding_model_name = \"sentence-transformers/all-mpnet-base-v2\"\n",
        "embedding_model = HuggingFaceEmbeddings(model_name=embedding_model_name)"
      ],
      "outputs": [
        {
          "output_type": "display_data",
          "data": {
            "text/plain": "modules.json:   0%|          | 0.00/349 [00:00<?, ?B/s]",
            "application/vnd.jupyter.widget-view+json": {
              "version_major": 2,
              "version_minor": 0,
              "model_id": "cf2f3e0d93cd4a898e47cd9ffefafdb0"
            }
          },
          "metadata": {}
        },
        {
          "output_type": "display_data",
          "data": {
            "text/plain": "config_sentence_transformers.json:   0%|          | 0.00/116 [00:00<?, ?B/s]",
            "application/vnd.jupyter.widget-view+json": {
              "version_major": 2,
              "version_minor": 0,
              "model_id": "c21709156e46403190996436823a00fc"
            }
          },
          "metadata": {}
        },
        {
          "output_type": "display_data",
          "data": {
            "text/plain": "README.md: 0.00B [00:00, ?B/s]",
            "application/vnd.jupyter.widget-view+json": {
              "version_major": 2,
              "version_minor": 0,
              "model_id": "a81905c2daf0450b8ec3a0079c21c85c"
            }
          },
          "metadata": {}
        },
        {
          "output_type": "display_data",
          "data": {
            "text/plain": "sentence_bert_config.json:   0%|          | 0.00/53.0 [00:00<?, ?B/s]",
            "application/vnd.jupyter.widget-view+json": {
              "version_major": 2,
              "version_minor": 0,
              "model_id": "c316389e663f42ad8e2f33581cf3ce6a"
            }
          },
          "metadata": {}
        },
        {
          "output_type": "display_data",
          "data": {
            "text/plain": "config.json:   0%|          | 0.00/571 [00:00<?, ?B/s]",
            "application/vnd.jupyter.widget-view+json": {
              "version_major": 2,
              "version_minor": 0,
              "model_id": "4d9e91a67233428eab5faf276cef0564"
            }
          },
          "metadata": {}
        },
        {
          "output_type": "display_data",
          "data": {
            "text/plain": "model.safetensors:   0%|          | 0.00/438M [00:01<?, ?B/s]",
            "application/vnd.jupyter.widget-view+json": {
              "version_major": 2,
              "version_minor": 0,
              "model_id": "567b67a1b6ab428295565c8507ce381a"
            }
          },
          "metadata": {}
        },
        {
          "output_type": "display_data",
          "data": {
            "text/plain": "tokenizer_config.json:   0%|          | 0.00/363 [00:00<?, ?B/s]",
            "application/vnd.jupyter.widget-view+json": {
              "version_major": 2,
              "version_minor": 0,
              "model_id": "f97b078d37264c5fb343ddc982961987"
            }
          },
          "metadata": {}
        },
        {
          "output_type": "display_data",
          "data": {
            "text/plain": "vocab.txt: 0.00B [00:00, ?B/s]",
            "application/vnd.jupyter.widget-view+json": {
              "version_major": 2,
              "version_minor": 0,
              "model_id": "c48a8aba328d4f7f9257d9849f7b14f1"
            }
          },
          "metadata": {}
        },
        {
          "output_type": "display_data",
          "data": {
            "text/plain": "tokenizer.json: 0.00B [00:00, ?B/s]",
            "application/vnd.jupyter.widget-view+json": {
              "version_major": 2,
              "version_minor": 0,
              "model_id": "f9b4f1a9a5d7444f9fb8500a7195249c"
            }
          },
          "metadata": {}
        },
        {
          "output_type": "display_data",
          "data": {
            "text/plain": "special_tokens_map.json:   0%|          | 0.00/239 [00:00<?, ?B/s]",
            "application/vnd.jupyter.widget-view+json": {
              "version_major": 2,
              "version_minor": 0,
              "model_id": "214e74471dbf480db76a613e54f7a5bf"
            }
          },
          "metadata": {}
        },
        {
          "output_type": "display_data",
          "data": {
            "text/plain": "config.json:   0%|          | 0.00/190 [00:00<?, ?B/s]",
            "application/vnd.jupyter.widget-view+json": {
              "version_major": 2,
              "version_minor": 0,
              "model_id": "6d97127bea0047cf953ca03ae2401e44"
            }
          },
          "metadata": {}
        }
      ],
      "execution_count": 24,
      "metadata": {
        "gather": {
          "logged": 1754891924363
        }
      }
    },
    {
      "cell_type": "code",
      "source": [
        "from langchain_openai import AzureOpenAIEmbeddings\n",
        "\n",
        "# # Specify the embedding model used during FAISS index creation\n",
        "embedding_model = AzureOpenAIEmbeddings(\n",
        "    model=creds[\"AZURE_OPENAI_EMBEDDING_MODEL\"],\n",
        "    azure_endpoint= creds[\"AZURE_OPENAI_ENDPOINT\"],\n",
        "    api_key= creds[\"AZURE_OPENAI_KEY\"],\n",
        "    openai_api_version=creds[\"AZURE_OPENAI_APIVERSION\"]\n",
        " )"
      ],
      "outputs": [],
      "execution_count": 25,
      "metadata": {
        "gather": {
          "logged": 1754891929121
        }
      }
    },
    {
      "cell_type": "code",
      "source": [
        "from langchain.vectorstores import FAISS\n",
        "\n",
        "# Load the FAISS index and associate it with the embedding model\n",
        "retriever = FAISS.load_local(\n",
        "    folder_path=index_folder_path, \n",
        "    embeddings=embedding_model, \n",
        "    allow_dangerous_deserialization=True  # Acknowledge the source of the data for safe loading\n",
        ")\n",
        "\n",
        "\n",
        "# The retriever is now ready to perform similarity searches."
      ],
      "outputs": [],
      "execution_count": 26,
      "metadata": {
        "gather": {
          "logged": 1754891930147
        }
      }
    },
    {
      "cell_type": "markdown",
      "source": [
        "## **4. Performing a Similarity Search**"
      ],
      "metadata": {}
    },
    {
      "cell_type": "code",
      "source": [
        "# Define a query to test the retriever\n",
        "query = \"What are the common symptoms and treatments for pulmonary embolism?\"\n",
        "\n",
        "# Retrieve the top 3 most relevant documents\n",
        "results = retriever.similarity_search(query, k=3)\n",
        "\n",
        "# Display the results\n",
        "for doc in results:\n",
        "    print(f\"Document: {doc.page_content}\\nMetadata: {doc.metadata}\")\n",
        "\n",
        "# This step helps validate that the retriever is functioning as expected."
      ],
      "outputs": [
        {
          "output_type": "stream",
          "name": "stdout",
          "text": "Document: Title: The_Merck_Manual_of_Diagnosis_and_Therapy_2011 - 19th Edn........pdfChapter 194. Pulmonary Embolism\nIntroduction\nPulmonary embolism (PE) is the occlusion of ≥ 1 pulmonary arteries by thrombi that originate\nelsewhere, typically in the large veins of the lower extremities or pelvis. Risk factors are\nconditions that impair venous return, conditions that cause endothelial injury or dysfunction,\nand underlying hypercoagulable states. Symptoms are nonspecific and include dyspnea,\npleuritic chest pain, cough, and, in severe cases, syncope or cardiorespiratory arrest. Signs are\nalso nonspecific and may include tachypnea, tachycardia, hypotension, and a loud pulmonic\ncomponent of the 2nd heart sound. Diagnosis is based on a CT angiogram, ventilation/perfusion\nscan, or a pulmonary arteriogram. Treatment is with anticoagulants and, sometimes, clot\ndissolution with thrombolytics or surgical removal. Preventive measures include anticoagulants\nand sometimes insertion of an inferior vena caval filter.\nPE affects an estimated 117 people per 100,000 person years, resulting in about 350,000 cases yearly,\nand causes up to 85,000 deaths/yr. PE affects mainly adults.\nEtiology\nNearly all PEs arise from thrombi in the lower extremity or pelvic veins (deep venous thrombosis [DVT]\n—see p. \n2224\n). Thrombi in either the lower extremity or pelvic veins may be occult. Risk of embolization is\nhigher with thrombi proximal to the calf veins. Thromboemboli can also originate in upper extremity veins\n(associated with central venous catheters) or from right-sided cardiac chambers. Risk factors for DVT and\nPE are similar in children and adults and include conditions that impair venous return, conditions that\ncause endothelial injury or dysfunction, and underlying hypercoagulability disorders (see\nTable 194-1\n). Bed rest and confinement without walking, even for a few hours, are common precipitators.\nPathophysiology\nOnce DVT develops, clots may dislodge and travel through the venous system and right side of the heart\nto lodge in the pulmonary arteries, where they partially or completely occlude one or more vessels. The\nconsequences depend on the size and number of emboli, the pulmonary reaction, the underlying\ncondition of the lungs, and the ability of the body's intrinsic thrombolytic system to dissolve the clots.\n[\nTable 194-1.\n Risk Factors for Deep Venous Thrombosis and Pulmonary Embolism]\nSmall emboli may have no acute physiologic effects; many begin to lyse immediately and resolve within\nhours or days. Larger emboli can cause a reflex increase in ventilation (tachypnea), hypoxemia due to\nventilation/perfusion (V/Q) mismatch, shunting and low mixed venous O\n2\n content as a result of low\ncardiac output, atelectasis due to alveolar hypocapnia \nand abnormalities in surfactant, and an increase in\npulmonary vascular resistance caused by mechanical obstruction and vasoconstriction. Endogenous lysis\nreduces most emboli, even those of moderate size, without treatment, and physiologic alterations\ndecrease over hours or days. Some emboli resist lysis and may organize and persist. Occasionally,\nchronic residual obstruction leads to pulmonary hypertension (chronic thromboembolic pulmonary\nhypertension) that may develop over years and result in chronic right heart failure. When large emboli\nocclude major arteries, or when many small emboli occlude > 50% of the distal arterial system, right\nventricular pressure increases, causing acute right ventricular failure, failure with shock (massive PE), or\nsudden death in severe cases. Risk factors for death include age > 70 yr, cancer, and COPD. The risk of\ndeath depends on the degree and rate of rise of right-sided pressures and on the patient's underlying\ncardiopulmonary status; higher pressures more commonly occur among patients with preexisting\ncardiopulmonary disease. Otherwise healthy patients may survive a PE that occludes > 50% of the\npulmonary vascular bed.\nPulmonary infarction occurs in < 10% of patients diagnosed with PE. This low rate has been attributed to\nthe dual blood supply to the lung (ie, bronchial and pulmonary).The Merck Manual of Diagnosis & Therapy, 19th Edition\nChapter 194. Pulmonary Embolism\n2070\nMetadata: {'source_doc_id': 'MedicalDiagnosisManuals/The_Merck_Manual_of_Diagnosis_and_Therapy_2011 - 19th Edn........pdf2238', 'chunk_hash': 'bf36f984bf74a60d02a30c82e2e235b4aef9bae4f4910ac438d94dd2154e6362', 'mtime': None, 'page_number': 2079, 'stats': {'tiktokens': 1003, 'chars': 4203, 'lines': 56}, 'source': {'filename': 'MedicalDiagnosisManuals/The_Merck_Manual_of_Diagnosis_and_Therapy_2011 - 19th Edn........pdf', 'url': 'MedicalDiagnosisManuals/The_Merck_Manual_of_Diagnosis_and_Therapy_2011 - 19th Edn........pdf', 'mtime': 1754366134.0}}\nDocument: Title: The_Merck_Manual_of_Diagnosis_and_Therapy_2011 - 19th Edn........pdfPE can also arise from nonthrombotic sources (see \nSidebar 194-1\n).\nSymptoms and Signs\nMost PEs are small, physiologically insignificant, and asymptomatic. Even when present, symptoms are\nnonspecific and vary in frequency and intensity, depending on the extent of pulmonary vascular occlusion\nand preexisting cardiopulmonary function.\nLarger emboli cause acute dyspnea, pleuritic chest pain, or both. Dyspnea may be intermittent or occur\nonly with exercise. Less common symptoms include cough and hemoptysis. The first symptom in an\nelderly patient may be altered mental status. Massive PE manifests with hypotension, tachycardia,\nsyncope, or cardiac arrest.\nThe most common signs of PE are tachycardia and tachypnea. Less commonly, patients have\nhypotension, a loud 2nd heart sound (S\n2\n) due to a loud pulmonic component (P\n2\n), and crackles or\nwheezing. In the presence of right ventricular failure, distended internal jugular veins and a right\nventricular heave may be evident, and right ventricular gallop (3rd and 4th heart sounds [S\n3\n and S\n4\n]),\nwith or without tricuspid regurgitation, may be audible. Fever can occur; DVT and PE are often\noverlooked causes of fever.\nPulmonary infarction is typically characterized by chest pain (mainly pleuritic), fever, and, occasionally,\nhemoptysis. Chronic thromboembolic pulmonary hypertension causes symptoms and signs of right heart\nfailure, including exertional dyspnea, easy fatigue, and peripheral edema that develops over months to\nyears.\nDiagnosis\n• High index of suspicion\n• Assessment of pretest probability (based on clinical findings, pulse oximetry, and chest x-ray)\n• Subsequent testing based on pre-test probability\nDiagnosis is challenging, because symptoms and signs are nonspecific and diagnostic tests have\nimperfect diagnostic accuracy or are invasive. Most important is to include PE in the differential diagnosis\nwhen nonspecific symptoms, such as dyspnea, pleuritic chest pain, fever, hemoptysis, and cough, are\nencountered. Thus, PE should be considered in the differential diagnosis of patients suspected of having\nsuch conditions as cardiac ischemia, heart failure, COPD exacerbation, pneumothorax, pneumonia,\nsepsis, acute chest syndrome (in patients with sickle cell disease), and acute anxiety with\nhyperventilation. PE also should be considered in any elderly patient with tachypnea and altered mental\nstatus.\nInitial evaluation should include pulse oximetry and chest x-ray. Some experts also recommend ECG,\nABG, or both, sometimes to exclude other diagnoses (eg, acute MI). The chest x-ray usually is\nnonspecific but may show atelectasis, focal infiltrates, an elevated hemidiaphragm, or a pleural effusion.\nThe classic findings of focal loss of vascular markings (Westermark's sign), a peripheral wedge-shaped\ndensity (Hampton's hump), or enlargement of the right descending pulmonary artery (Palla's sign) are\nsuggestive but uncommon (ie, insensitive) and have an unknown specificity. Chest x-ray can also help\nexclude pneumonia.\nPulse oximetry provides a quick way to assess oxygenation; hypoxemia is one sign of PE, and it requires\nfurther evaluation. ABG measurement may show an increased alveolar to arterial oxygen (A-a) gradient\n(see p. \n1856\n) or hypocapnia; one or both of these tests are moderately sensitive for PE but are not\nspecific. ABG testing should be considered particularly for patients with dyspnea or tachypnea who do not\nhave hypoxemia detected with pulse oximetry.\nSidebar 194-1 Nonthrombotic Pulmonary EmbolismThe Merck Manual of Diagnosis & Therapy, 19th Edition\nChapter 194. Pulmonary Embolism\n2071\nMetadata: {'source_doc_id': 'MedicalDiagnosisManuals/The_Merck_Manual_of_Diagnosis_and_Therapy_2011 - 19th Edn........pdf2239', 'chunk_hash': '2ffbcb57035aa939e4dc3252c5ee534390371d09782b1783b69b4772827d8441', 'mtime': None, 'page_number': 2080, 'stats': {'tiktokens': 890, 'chars': 3682, 'lines': 58}, 'source': {'filename': 'MedicalDiagnosisManuals/The_Merck_Manual_of_Diagnosis_and_Therapy_2011 - 19th Edn........pdf', 'url': 'MedicalDiagnosisManuals/The_Merck_Manual_of_Diagnosis_and_Therapy_2011 - 19th Edn........pdf', 'mtime': 1754366134.0}}\nDocument: Title: The_Merck_Manual_of_Diagnosis_and_Therapy_2011 - 19th Edn........pdfPE caused by various nonthrombotic sources causes clinical syndromes that differ from those caused by\nthrombotic PE. Treatment of all includes supportive measures.\nAir embolism\n is caused by introduction of large amounts of air into systemic veins or into the right side\nof the heart, which then move to the pulmonary arterial system. Pulmonary outflow tract obstruction may\noccur, which can be rapidly fatal. Causes include surgery, blunt trauma, defective or uncapped venous\ncatheters, and errors occurring during the insertion or removal of central venous catheters. Treatment\nincludes placement of patient in left lateral decubitus position, preferably in the Trendelenburg position\n(ie, head lower than feet), to trap air in the apex of the right ventricle and thus prevent brain embolism and\nsupportive measures. Rapid decompression after underwater diving may cause microbubble formation in\nthe pulmonary circulation, a different problem, which results in endothelial damage, hypoxemia, and\ndiffuse infiltrates (see p. \n3285\n).\nFat embolism\n is caused by introduction of fat or bone marrow particles into the systemic venous system\nand then into pulmonary arteries. Causes include fractures of long bones, orthopedic procedures,\nmicrovascular occlusion or necrosis of bone marrow in patients with sickle cell crisis, and, rarely, toxic\nmodification of native or parenteral serum lipids. Fat embolism causes a pulmonary syndrome similar to\nacute respiratory distress syndrome (ARDS), with severe hypoxemia of rapid onset often accompanied by\nneurologic changes and a petechial rash. Early splinting of fractures of long bones and operative rather\nthan external fixation are thought to help prevent fat embolism.\nAmniotic fluid embolism\n is a rare syndrome caused by introduction of amniotic fluid into the maternal\nvenous and then pulmonary arterial system. The syndrome occurs around the time of labor (see p. \n2678\n)\nor, even less often, during prepartum uterine manipulations. Patients can have cardiac and respiratory\ndistress due to anaphylaxis, vasoconstriction causing acute severe pulmonary hypertension, and direct\npulmonary microvascular toxicity with hypoxemia and pulmonary infiltrates.\nSeptic embolism\n occurs when infected material embolizes to the lung. Causes include IV drug use,\nright-sided infective endocarditis, and septic thrombophlebitis. Septic embolism causes symptoms and\nsigns of pneumonia or sepsis. Initially, nodular opacities appear on the chest x-ray; the appearance may\nprogress to peripheral infiltrates, and emboli may cavitate (particularly emboli caused by \nStaphylococcus\naureus\n). Treatment includes that of the underlying infection.\nForeign body embolism\n caused by introduction of particulate matter into the pulmonary arterial system,\nusually by IV injection of inorganic substances, such as talc by heroin users or elemental mercury by\npatients with mental disorders. Focal pulmonary infiltrates may result.\nTumor embolism\n is a rare complication of cancer (usually adenocarcinoma) in which neoplastic cells\nfrom an organ enter the systemic venous and pulmonary arterial system, where they lodge, proliferate,\nand obstruct flow. Patients typically present with dyspnea and pleuritic chest pain and signs of cor\npulmonale that develop over weeks to months. Diagnosis, which is suggested by micronodules or diffuse\npulmonary infiltrates on chest x-ray, can be confirmed by biopsy or occasionally by cytologic aspiration\nand histologic study of pulmonary capillary blood.\nECG most often shows tachycardia and various ST-T wave abnormalities, which are not specific for PE\n(see\nFig. 194-1\n). An S\n1\nQ\n3\nT\n3\n or a new right bundle branch block may indicate the effect of abrupt rise in right\nventricular pressure on right ventricular conduction; these findings are moderately specific but insensitive,\noccurring in only about 5% of patients. Right axis deviation (R > S in V\n1\n) and P-pulmonale may be\npresent. T-wave inversion in leads V\n1\n to V\n4\n also occurs.\nClinical probability:\n Clinical probability of PE can be assessed by combining ECG and chest x-ray\nfindings with findings from the history and physical examination (see\nTable 194-2\n). Judgment of whether PE is more likely than an alternate diagnosis is somewhat subjective.\nPE should probably be considered more likely if ≥ 1 of its symptoms and signs, particularly dyspnea,The Merck Manual of Diagnosis & Therapy, 19th Edition\nChapter 194. Pulmonary\nMetadata: {'source_doc_id': 'MedicalDiagnosisManuals/The_Merck_Manual_of_Diagnosis_and_Therapy_2011 - 19th Edn........pdf2240', 'chunk_hash': '93943b6f4d284f774cae86bdf8048178dfadd9ef2f2bd6e168b0808209dbb6fb', 'mtime': None, 'page_number': 2081, 'stats': {'tiktokens': 1024, 'chars': 4532, 'lines': 75}, 'source': {'filename': 'MedicalDiagnosisManuals/The_Merck_Manual_of_Diagnosis_and_Therapy_2011 - 19th Edn........pdf', 'url': 'MedicalDiagnosisManuals/The_Merck_Manual_of_Diagnosis_and_Therapy_2011 - 19th Edn........pdf', 'mtime': 1754366134.0}}\n"
        }
      ],
      "execution_count": 27,
      "metadata": {
        "gather": {
          "logged": 1754891932488
        },
        "jupyter": {
          "outputs_hidden": false,
          "source_hidden": false
        },
        "nteract": {
          "transient": {
            "deleting": false
          }
        }
      }
    },
    {
      "cell_type": "markdown",
      "source": [
        "## **5: Creating the System and User Prompt Templates**"
      ],
      "metadata": {
        "nteract": {
          "transient": {
            "deleting": false
          }
        }
      }
    },
    {
      "cell_type": "code",
      "source": [
        "# Define the system prompt for the Azure OpenAI model\n",
        "qna_system_message = \"\"\"\n",
        "You are an assistant to a Healthcare Professional. Your task is to summarize and provide clinically relevant information to the clinician's question based strictly on the provided context drawn from trusted medical manuals and peer-reviewed sources.\n",
        "\n",
        "User input will include the necessary context for you to answer their questions. This context will begin with the token: ###Context.\n",
        "The context contains references to specific portions of documents relevant to the user's query, along with page number from the source.\n",
        "The source for the context will begin with the token ###Page\n",
        "\n",
        "When crafting your response:\n",
        "1. Select only context relevant to answer the question.\n",
        "2. Include the source links and page numbers in your response.\n",
        "3. User questions will begin with the token: ###Question.\n",
        "4. If the question is irrelevant or if the context is empty — respond with \"Sorry, this is out of my knowledge base\"\n",
        "\n",
        "Please adhere to the following guidelines:\n",
        "- Your response should only be about the question asked and nothing else.\n",
        "- Answer only using the context provided.\n",
        "- Do not mention anything about the context in your final answer.\n",
        "- Do not fabricate or infer information not present in the context.\n",
        "- If multiple context snippets disagree, present the differing viewpoints succinctly and include sources.\n",
        "- If the answer is not found in the context, it is very very important for you to respond with \"Sorry, this is out of my knowledge base\"\n",
        "- If NO CONTEXT is provided, it is very important for you to respond with \"Sorry, this is out of my knowledge base\"\n",
        "- Keep answers concise and clinically actionable. When relevant and present in the context, prioritize: diagnostic criteria, red flags, initial workup, first-line treatments, dosing (adult/pediatric as applicable), contraindications, major adverse effects, and key differentials.\n",
        "- This tool supports clinical decision-making but does not replace professional judgment.\n",
        "\n",
        "Here is an example of how to structure your response:\n",
        "\n",
        "Answer:\n",
        "[Answer]\n",
        "\n",
        "Page:\n",
        "[Page number]\n",
        "\"\"\"\n",
        "\n",
        "\n",
        "# Define the user message template\n",
        "qna_user_message_template = \"\"\"\n",
        "###Context\n",
        "Here are some documents and their page number that are relevant to the question mentioned below.\n",
        "{context}\n",
        "\n",
        "###Question\n",
        "{question}\n",
        "\"\"\""
      ],
      "outputs": [],
      "execution_count": 28,
      "metadata": {
        "gather": {
          "logged": 1754891932759
        },
        "jupyter": {
          "outputs_hidden": false,
          "source_hidden": false
        },
        "nteract": {
          "transient": {
            "deleting": false
          }
        }
      }
    },
    {
      "cell_type": "markdown",
      "source": [
        "## **6. Generating the Response**"
      ],
      "metadata": {
        "nteract": {
          "transient": {
            "deleting": false
          }
        }
      }
    },
    {
      "cell_type": "code",
      "source": [
        "# Install the rquired packages\n",
        "#!pip install openai==1.55.3 tiktoken==0.6 session-info --quiet"
      ],
      "outputs": [],
      "execution_count": 29,
      "metadata": {
        "gather": {
          "logged": 1754891932972
        },
        "jupyter": {
          "outputs_hidden": false,
          "source_hidden": false
        },
        "nteract": {
          "transient": {
            "deleting": false
          }
        }
      }
    },
    {
      "cell_type": "code",
      "source": [
        "# Import required libraries\n",
        "import json\n",
        "import tiktoken\n",
        "import pandas as pd\n",
        "from openai import AzureOpenAI"
      ],
      "outputs": [],
      "execution_count": 30,
      "metadata": {
        "gather": {
          "logged": 1754891933219
        },
        "jupyter": {
          "outputs_hidden": false,
          "source_hidden": false
        },
        "nteract": {
          "transient": {
            "deleting": false
          }
        }
      }
    },
    {
      "cell_type": "code",
      "source": [
        "# Load Azure OpenAI credentials\n",
        "with open('config.json', 'r') as az_creds:\n",
        "    data = az_creds.read()\n",
        "\n",
        "creds = json.loads(data)"
      ],
      "outputs": [],
      "execution_count": 31,
      "metadata": {
        "gather": {
          "logged": 1754891933323
        },
        "jupyter": {
          "outputs_hidden": false,
          "source_hidden": false
        },
        "nteract": {
          "transient": {
            "deleting": false
          }
        }
      }
    },
    {
      "cell_type": "code",
      "source": [
        "# Initialize the Azure OpenAI client\n",
        "client = AzureOpenAI(\n",
        "    azure_endpoint=creds[\"AZURE_OPENAI_ENDPOINT\"],\n",
        "    api_key=creds[\"AZURE_OPENAI_KEY\"],\n",
        "    api_version=creds[\"AZURE_OPENAI_APIVERSION\"]\n",
        ")   "
      ],
      "outputs": [],
      "execution_count": 32,
      "metadata": {
        "gather": {
          "logged": 1754891933429
        },
        "jupyter": {
          "outputs_hidden": false,
          "source_hidden": false
        },
        "nteract": {
          "transient": {
            "deleting": false
          }
        }
      }
    },
    {
      "cell_type": "code",
      "source": [
        "##Create a function called generate_rag_response which can perform\n",
        "\n",
        "def generate_rag_response(user_input):\n",
        "    try:\n",
        "        # Retrieve relevant document chunks\n",
        "        relevant_document_chunks = retriever.similarity_search(user_input, k=3)\n",
        "        context_list = [d.page_content for d in relevant_document_chunks]\n",
        "\n",
        "        # Combine document chunks into a single context\n",
        "        context_for_query = \". \".join(context_list)\n",
        "\n",
        "        # Compose the prompt\n",
        "        prompt = [\n",
        "            {'role': 'system', 'content': qna_system_message},\n",
        "            {'role': 'user', 'content': qna_user_message_template.format(\n",
        "                context=context_for_query,\n",
        "                question=user_input\n",
        "            )}\n",
        "        ]\n",
        "\n",
        "        # Generate the response using Azure OpenAI\n",
        "        completion = client.chat.completions.create(\n",
        "            model=creds[\"CHATGPT_MODEL\"],\n",
        "            messages=prompt,\n",
        "            temperature=0\n",
        "        )\n",
        "\n",
        "        # Extract and return the model's response\n",
        "        return completion.choices[0].message.content.strip()\n",
        "\n",
        "    except Exception as e:\n",
        "        return f\"Sorry, I encountered the following error: \\n {e}\""
      ],
      "outputs": [],
      "execution_count": 33,
      "metadata": {
        "gather": {
          "logged": 1754891933550
        },
        "jupyter": {
          "outputs_hidden": false,
          "source_hidden": false
        },
        "nteract": {
          "transient": {
            "deleting": false
          }
        }
      }
    },
    {
      "cell_type": "markdown",
      "source": [
        "#### Question 1: What is the protocol for managing sepsis in a critical care unit?"
      ],
      "metadata": {}
    },
    {
      "cell_type": "code",
      "source": [
        "user_input = \"What is the protocol for managing sepsis in a critical care unit?\"    # Enter the question to be answered by the system here \n",
        "generate_rag_response(user_input)"
      ],
      "outputs": [
        {
          "output_type": "execute_result",
          "execution_count": 34,
          "data": {
            "text/plain": "'Answer:\\nThe protocol for managing sepsis in a critical care unit includes:\\n\\n1. **Fluid Resuscitation**: Administer 0.9% normal saline until central venous pressure (CVP) reaches 8 mm Hg or pulmonary artery occlusive pressure (PAOP) reaches 12-15 mm Hg. Oliguria with hypotension is not a contraindication to vigorous fluid resuscitation, and the total fluid volume may exceed 10 L over 4 to 12 hours.\\n\\n2. **Oxygen Therapy**: Provide supplemental oxygen via mask or nasal prongs; mechanical ventilation may be necessary for respiratory failure.\\n\\n3. **Broad-Spectrum Antibiotics**: Initiate empiric antibiotic therapy promptly after obtaining cultures. Adjust based on culture results. Common regimens include:\\n   - Gentamicin or tobramycin plus a 3rd-generation cephalosporin (e.g., cefotaxime or ceftriaxone).\\n   - Add vancomycin if resistant staphylococci or enterococci are suspected.\\n   - Include metronidazole if an abdominal source is suspected.\\n\\n4. **Monitoring**: Frequently monitor systemic pressure, CVP, PAOP, pulse oximetry, arterial blood gases (ABGs), blood glucose, lactate, electrolyte levels, renal function, and urine output.\\n\\n5. **Vasopressors**: If hypotension persists after achieving target CVP or PAOP, administer dopamine to increase mean blood pressure to at least 60 mm Hg. If dopamine exceeds 20 μg/kg/min, add norepinephrine.\\n\\n6. **Corticosteroids**: Administer replacement doses of corticosteroids (e.g., hydrocortisone 50 mg IV q 6 h) during hemodynamic instability.\\n\\n7. **Surgical Intervention**: Drain abscesses and excise necrotic tissues as necessary.\\n\\n8. **Glucose Control**: Maintain blood glucose levels between 80 to 110 mg/dL using a continuous IV insulin infusion.\\n\\n9. **Activated Protein C**: Consider for severe sepsis and septic shock if initiated early, particularly in patients with an APACHE II score > 25.\\n\\n10. **Prognosis Monitoring**: Be aware that mortality averages 40%, and early aggressive therapy is crucial for improving outcomes.\\n\\nPage:\\n2446-2447'"
          },
          "metadata": {}
        }
      ],
      "execution_count": 34,
      "metadata": {
        "gather": {
          "logged": 1754891937478
        }
      }
    },
    {
      "cell_type": "markdown",
      "source": [
        "#### Question 2: What are the common symptoms for appendicitis, and can it be cured via medicine? If not, what surgical procedure should be followed to treat it?"
      ],
      "metadata": {}
    },
    {
      "cell_type": "code",
      "source": [
        "user_input = \"What are the common symptoms for appendicitis, and can it be cured via medicine? If not, what surgical procedure should be followed to treat it?\"   # Enter the question to be answered by the system here \n",
        "generate_rag_response(user_input)"
      ],
      "outputs": [
        {
          "output_type": "execute_result",
          "execution_count": 35,
          "data": {
            "text/plain": "\"Common symptoms of appendicitis include:\\n- Epigastric or periumbilical pain that shifts to the right lower quadrant\\n- Brief nausea, vomiting, and anorexia\\n- Pain that increases with cough and motion\\n- Right lower quadrant direct and rebound tenderness at McBurney's point\\n- Additional signs such as Rovsing sign, psoas sign, and obturator sign\\n- Low-grade fever (rectal temperature 37.7 to 38.3° C [100 to 101° F])\\n\\nAppendicitis cannot be cured with medicine alone; surgical removal of the appendix (appendectomy) is required. This can be performed either through an open or laparoscopic approach. Preceding the surgery, intravenous (IV) antibiotics should be administered.\\n\\nPage:\\n164-165\""
          },
          "metadata": {}
        }
      ],
      "execution_count": 35,
      "metadata": {
        "gather": {
          "logged": 1754891939336
        }
      }
    },
    {
      "cell_type": "markdown",
      "source": [
        "#### Question 3: What are the effective treatments or solutions for addressing sudden patchy hair loss, commonly seen as localized bald spots on the scalp, and what could be the possible causes behind it?"
      ],
      "metadata": {}
    },
    {
      "cell_type": "code",
      "source": [
        "user_input = \"What are the effective treatments or solutions for addressing sudden patchy hair loss, commonly seen as localized bald spots on the scalp, and what could be the possible causes behind it?\"   # Enter the question to be answered by the system here \n",
        "generate_rag_response(user_input)"
      ],
      "outputs": [
        {
          "output_type": "execute_result",
          "execution_count": 36,
          "data": {
            "text/plain": "'Alopecia areata, characterized by sudden patchy hair loss, can be treated with several options. Effective treatments include:\\n\\n1. **Topical Corticosteroids**: These are commonly used to reduce inflammation and promote hair regrowth.\\n2. **Intralesional Corticosteroids**: Injecting corticosteroids directly into the bald patches can be effective.\\n3. **Systemic Corticosteroids**: In severe cases, oral corticosteroids may be considered.\\n4. **Topical Minoxidil**: This can be used to stimulate hair growth.\\n5. **Topical Anthralin**: A topical treatment that can help in some cases.\\n6. **Topical Immunotherapy**: Agents like diphencyprone or squaric acid dibutylester can be used to provoke an immune response that may help regrow hair.\\n7. **Psoralen plus Ultraviolet A (PUVA)**: This treatment combines a medication with light therapy.\\n\\nPossible causes of alopecia areata include autoimmune disorders, where the immune system mistakenly attacks hair follicles, and genetic susceptibility, often triggered by environmental factors. Other underlying disorders should be evaluated based on clinical suspicion.\\n\\nPage:\\n849-850'"
          },
          "metadata": {}
        }
      ],
      "execution_count": 36,
      "metadata": {
        "gather": {
          "logged": 1754891941916
        }
      }
    },
    {
      "cell_type": "markdown",
      "source": [
        "#### Question 4:  What treatments are recommended for a person who has sustained a physical injury to brain tissue, resulting in temporary or permanent impairment of brain function?"
      ],
      "metadata": {}
    },
    {
      "cell_type": "code",
      "source": [
        "user_input = \"What treatments are recommended for a person who has sustained a physical injury to brain tissue, resulting in temporary or permanent impairment of brain function?\"   # Enter the question to be answered by the system here \n",
        "generate_rag_response(user_input)"
      ],
      "outputs": [
        {
          "output_type": "execute_result",
          "execution_count": 37,
          "data": {
            "text/plain": "'Initial treatment for traumatic brain injury (TBI) includes ensuring a reliable airway and maintaining adequate ventilation, oxygenation, and blood pressure. In cases of more severe injury, surgical intervention may be necessary to monitor and treat intracranial pressure, decompress the brain if intracranial pressure is increased, or remove intracranial hematomas. \\n\\nIn the first few days post-injury, it is crucial to maintain adequate brain perfusion and oxygenation while preventing complications associated with altered sensorium. Rehabilitation may be required for many patients after the initial treatment phase.\\n\\nPage:\\n3395-3399'"
          },
          "metadata": {}
        }
      ],
      "execution_count": 37,
      "metadata": {
        "gather": {
          "logged": 1754891943561
        }
      }
    },
    {
      "cell_type": "markdown",
      "source": [
        "#### Question 5: What are the necessary precautions and treatment steps for a person who has fractured their leg during a hiking trip, and what should be considered for their care and recovery?"
      ],
      "metadata": {}
    },
    {
      "cell_type": "code",
      "source": [
        "user_input = \"What are the necessary precautions and treatment steps for a person who has fractured their leg during a hiking trip, and what should be considered for their care and recovery?\"   # Enter the question to be answered by the system here \n",
        "generate_rag_response(user_input)"
      ],
      "outputs": [
        {
          "output_type": "execute_result",
          "execution_count": 38,
          "data": {
            "text/plain": "'For a person who has fractured their leg during a hiking trip, the following precautions and treatment steps should be taken:\\n\\n1. **Immediate Care**:\\n   - **Immobilization**: The injured limb should be immobilized immediately using a splint to prevent further injury and decrease pain.\\n   - **RICE Protocol**: Implement the RICE method:\\n     - **Rest**: Prevent further injury.\\n     - **Ice**: Apply ice wrapped in a plastic bag or towel for 15-20 minutes intermittently during the first 24-48 hours to minimize swelling and pain.\\n     - **Compression**: Use an elastic bandage or splint to compress the injury.\\n     - **Elevation**: Elevate the injured limb above the heart to help drain edema fluid and minimize swelling.\\n\\n2. **Evaluation**:\\n   - Assess for signs of ischemia (e.g., absent pulses, marked pallor, coolness distal to the injury, severe pain).\\n   - If there are indications of severe or multiple injuries, a head-to-toe evaluation is necessary.\\n\\n3. **Definitive Treatment**:\\n   - **Reduction**: If the fracture is displaced, closed reduction (if possible) or open reduction may be required.\\n   - **Casting**: After reduction, the fracture is usually maintained by casting for immobilization.\\n\\n4. **Monitoring for Complications**:\\n   - Watch for complications such as compartment syndrome, which can occur due to increased tissue pressure in a closed fascial space.\\n   - Monitor for signs of infection, especially if the injury is open.\\n\\n5. **Pain Management**:\\n   - Pain should be managed, typically with opioids if necessary.\\n\\n6. **Patient Education**:\\n   - Provide instructions on keeping the cast dry, avoiding inserting objects inside the cast, and inspecting the cast edges daily for any signs of irritation.\\n\\n7. **Rehabilitation**:\\n   - After initial healing, physical therapy may be necessary to regain strength and mobility.\\n\\nPage:\\n3379-3381'"
          },
          "metadata": {}
        }
      ],
      "execution_count": 38,
      "metadata": {
        "gather": {
          "logged": 1754891947014
        }
      }
    },
    {
      "cell_type": "code",
      "source": [
        "user_input = \"What are the necessary precautions I have to take after a tonsils removal surgery?\"   # Enter the question to be answered by the system here \n",
        "generate_rag_response(user_input)"
      ],
      "outputs": [
        {
          "output_type": "execute_result",
          "execution_count": 39,
          "data": {
            "text/plain": "'After tonsil removal surgery, the following precautions should be taken:\\n\\n1. **Airway Clearance**: Ensure the patient can clear and protect their airway before leaving the recovery room. Patients should not be discharged until this is confirmed.\\n\\n2. **Pain Control**: Administer pain relief as needed, typically using opioids. Starting doses may include oxycodone/acetaminophen or morphine, adjusted based on individual needs.\\n\\n3. **Monitoring for Complications**: Watch for signs of postoperative bleeding, which occurs in less than 2% of patients, usually within 24 hours or after 7 days when the eschar detaches. If bleeding occurs, the patient should go to the hospital.\\n\\n4. **Hydration**: Postoperative IV rehydration may be necessary in a small percentage of patients, especially if optimal preoperative hydration was not achieved.\\n\\n5. **Observation for Airway Obstruction**: Be vigilant for postoperative airway obstruction, particularly in children under 2 years, those with severe obstructive sleep disorders, morbid obesity, or significant preoperative obstructive sleep apnea.\\n\\n6. **Mental Status Monitoring**: Assess the mental status frequently, especially in elderly patients, as they are at risk for postoperative delirium.\\n\\n7. **Wound Care**: The sterile dressing should remain intact for 24 hours unless signs of infection develop. After 24 hours, check the site for signs of infection twice daily.\\n\\n8. **Avoidance of Nonessential Drugs**: If delirium occurs, assess oxygenation and stop nonessential medications.\\n\\nPage:\\n575-576'"
          },
          "metadata": {}
        }
      ],
      "execution_count": 39,
      "metadata": {
        "gather": {
          "logged": 1754891949741
        }
      }
    },
    {
      "cell_type": "markdown",
      "source": [
        "**Sample Output**\n",
        "1. Provide screenshot of the complete pipeline execution"
      ],
      "metadata": {
        "nteract": {
          "transient": {
            "deleting": false
          }
        }
      }
    },
    {
      "cell_type": "code",
      "source": [
        "from IPython.display import Image, display\n",
        "display(Image(filename=\"RagPipeline.png\"))"
      ],
      "outputs": [
        {
          "output_type": "display_data",
          "data": {
            "image/png": "[encoded data removed]",
            "text/plain": "<IPython.core.display.Image object>"
          },
          "metadata": {}
        }
      ],
      "execution_count": 40,
      "metadata": {
        "gather": {
          "logged": 1754891950006
        }
      }
    },
    {
      "cell_type": "markdown",
      "source": [
        "**Actionable Insights and Recommendations**"
      ],
      "metadata": {
        "nteract": {
          "transient": {
            "deleting": false
          }
        }
      }
    },
    {
      "cell_type": "markdown",
      "source": [
        "**Recommendations**\n",
        "- Maintain and expand the knowledge base:  Keep documents current and relevant to ensure the model always provides accurate, trustworthy answers.\n",
        "- Leverage analytics for improvement: Monitor queries, feedback, and accuracy metrics to refine both the retrieval logic and the content.\n",
        "- Plan for scalability: Ensure the infrastructure can support more users and larger datasets as adoption grows."
      ],
      "metadata": {
        "nteract": {
          "transient": {
            "deleting": false
          }
        }
      }
    },
    {
      "cell_type": "markdown",
      "source": [
        "**Key Takeaways**\n",
        "- The model successfully retrieves and synthesizes relevant information from the company’s knowledge base, reducing the time employees spend searching for answers.\n",
        "- User interaction data provides valuable insights into what information is most sought after, enabling the business to identify gaps and opportunities."
      ],
      "metadata": {
        "nteract": {
          "transient": {
            "deleting": false
          }
        }
      }
    },
    {
      "cell_type": "markdown",
      "source": [
        "#### Power Ahead!"
      ],
      "metadata": {}
    }
  ],
  "metadata": {
    "kernel_info": {
      "name": "python3"
    },
    "kernelspec": {
      "name": "python3",
      "language": "python",
      "display_name": "Python 3 (ipykernel)"
    },
    "language_info": {
      "name": "python",
      "version": "3.10.18",
      "mimetype": "text/x-python",
      "codemirror_mode": {
        "name": "ipython",
        "version": 3
      },
      "pygments_lexer": "ipython3",
      "nbconvert_exporter": "python",
      "file_extension": ".py"
    },
    "microsoft": {
      "host": {
        "AzureML": {
          "notebookHasBeenCompleted": true
        }
      },
      "ms_spell_check": {
        "ms_spell_check_language": "en"
      }
    },
    "nteract": {
      "version": "nteract-front-end@1.0.0"
    }
  },
  "nbformat": 4,
  "nbformat_minor": 2
}